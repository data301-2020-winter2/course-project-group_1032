{
 "cells": [
  {
   "cell_type": "markdown",
   "id": "virtual-senegal",
   "metadata": {},
   "source": [
    "## Clarke Larsen EDA\n",
    "\n",
    "*Work done for Data 301 Group Project with group 1032*"
   ]
  },
  {
   "cell_type": "code",
   "execution_count": 1,
   "id": "green-money",
   "metadata": {},
   "outputs": [
    {
     "data": {
      "text/plain": [
       "<module 'project_functions' from 'C:\\\\Users\\\\Clarke\\\\Documents\\\\School Docs\\\\Third Year Homework\\\\DATA 301\\\\Data301-Project\\\\analysis\\\\Clarke\\\\..\\\\scripts\\\\project_functions.py'>"
      ]
     },
     "execution_count": 1,
     "metadata": {},
     "output_type": "execute_result"
    }
   ],
   "source": [
    "import pandas as pd \n",
    "import numpy as np\n",
    "import sys\n",
    "import importlib\n",
    "sys.path.append(sys.path[0] + \"\\..\\scripts\")\n",
    "import project_functions as pf\n",
    "importlib.reload(pf)"
   ]
  },
  {
   "cell_type": "code",
   "execution_count": 2,
   "id": "constant-traveler",
   "metadata": {},
   "outputs": [
    {
     "data": {
      "text/html": [
       "<div>\n",
       "<style scoped>\n",
       "    .dataframe tbody tr th:only-of-type {\n",
       "        vertical-align: middle;\n",
       "    }\n",
       "\n",
       "    .dataframe tbody tr th {\n",
       "        vertical-align: top;\n",
       "    }\n",
       "\n",
       "    .dataframe thead th {\n",
       "        text-align: right;\n",
       "    }\n",
       "</style>\n",
       "<table border=\"1\" class=\"dataframe\">\n",
       "  <thead>\n",
       "    <tr style=\"text-align: right;\">\n",
       "      <th></th>\n",
       "      <th>Year</th>\n",
       "      <th>State</th>\n",
       "      <th>Division</th>\n",
       "      <th>County</th>\n",
       "      <th>Region</th>\n",
       "      <th>Population_Description</th>\n",
       "      <th>Offense</th>\n",
       "      <th>Offender_Race</th>\n",
       "      <th>Offender_Ethnicity</th>\n",
       "      <th>Offender_Age</th>\n",
       "      <th>Offender_Sex</th>\n",
       "      <th>Victim_Type</th>\n",
       "      <th>Location</th>\n",
       "      <th>Weapon</th>\n",
       "      <th>Property_Type</th>\n",
       "      <th>Stolen_Value</th>\n",
       "      <th>Recovered_Value</th>\n",
       "      <th>Recovered?</th>\n",
       "      <th>Recovery_Date</th>\n",
       "    </tr>\n",
       "  </thead>\n",
       "  <tbody>\n",
       "    <tr>\n",
       "      <th>87433</th>\n",
       "      <td>2013</td>\n",
       "      <td>Tennessee</td>\n",
       "      <td>East South Central</td>\n",
       "      <td>PUTNAM</td>\n",
       "      <td>South</td>\n",
       "      <td>Cities from 25,000 thru 49,999</td>\n",
       "      <td>Theft From Motor Vehicle</td>\n",
       "      <td>NaN</td>\n",
       "      <td>NaN</td>\n",
       "      <td>NaN</td>\n",
       "      <td>NaN</td>\n",
       "      <td>Business</td>\n",
       "      <td>Parking/Drop Lot/Garage</td>\n",
       "      <td>NaN</td>\n",
       "      <td>Clothes/ Furs</td>\n",
       "      <td>1765.0</td>\n",
       "      <td>0.0</td>\n",
       "      <td>N</td>\n",
       "      <td>NaN</td>\n",
       "    </tr>\n",
       "    <tr>\n",
       "      <th>82563</th>\n",
       "      <td>2013</td>\n",
       "      <td>Virginia</td>\n",
       "      <td>South Atlantic</td>\n",
       "      <td>HENRY</td>\n",
       "      <td>South</td>\n",
       "      <td>Non-MSA counties from 25,000 thru 99,999</td>\n",
       "      <td>All Other Larceny</td>\n",
       "      <td>White</td>\n",
       "      <td>NaN</td>\n",
       "      <td>25.0</td>\n",
       "      <td>M</td>\n",
       "      <td>Individual</td>\n",
       "      <td>Service/Gas Station</td>\n",
       "      <td>NaN</td>\n",
       "      <td>Trailers</td>\n",
       "      <td>17500.0</td>\n",
       "      <td>17500.0</td>\n",
       "      <td>Y</td>\n",
       "      <td>03-Apr-13</td>\n",
       "    </tr>\n",
       "    <tr>\n",
       "      <th>28695</th>\n",
       "      <td>2013</td>\n",
       "      <td>Michigan</td>\n",
       "      <td>East North Central</td>\n",
       "      <td>WAYNE</td>\n",
       "      <td>Midwest</td>\n",
       "      <td>Cities from 50,000 thru 99,999</td>\n",
       "      <td>Embezzlement</td>\n",
       "      <td>White</td>\n",
       "      <td>NaN</td>\n",
       "      <td>30.0</td>\n",
       "      <td>M</td>\n",
       "      <td>Business</td>\n",
       "      <td>Highway/Road/Alley/Street/Sidewalk</td>\n",
       "      <td>Firearm (Automatic)</td>\n",
       "      <td>Money</td>\n",
       "      <td>49000.0</td>\n",
       "      <td>49000.0</td>\n",
       "      <td>Y</td>\n",
       "      <td>27-Jul-13</td>\n",
       "    </tr>\n",
       "    <tr>\n",
       "      <th>28696</th>\n",
       "      <td>2013</td>\n",
       "      <td>Michigan</td>\n",
       "      <td>East North Central</td>\n",
       "      <td>WAYNE</td>\n",
       "      <td>Midwest</td>\n",
       "      <td>Cities from 50,000 thru 99,999</td>\n",
       "      <td>Embezzlement</td>\n",
       "      <td>White</td>\n",
       "      <td>NaN</td>\n",
       "      <td>31.0</td>\n",
       "      <td>M</td>\n",
       "      <td>Business</td>\n",
       "      <td>Highway/Road/Alley/Street/Sidewalk</td>\n",
       "      <td>Firearm (Automatic)</td>\n",
       "      <td>Money</td>\n",
       "      <td>49000.0</td>\n",
       "      <td>49000.0</td>\n",
       "      <td>Y</td>\n",
       "      <td>27-Jul-13</td>\n",
       "    </tr>\n",
       "    <tr>\n",
       "      <th>60314</th>\n",
       "      <td>2013</td>\n",
       "      <td>South Carolina</td>\n",
       "      <td>South Atlantic</td>\n",
       "      <td>HORRY</td>\n",
       "      <td>South</td>\n",
       "      <td>MSA counties 100,000 or over</td>\n",
       "      <td>All Other Larceny</td>\n",
       "      <td>NaN</td>\n",
       "      <td>NaN</td>\n",
       "      <td>NaN</td>\n",
       "      <td>NaN</td>\n",
       "      <td>Business</td>\n",
       "      <td>Specialty Store</td>\n",
       "      <td>NaN</td>\n",
       "      <td>Other</td>\n",
       "      <td>6500.0</td>\n",
       "      <td>0.0</td>\n",
       "      <td>N</td>\n",
       "      <td>NaN</td>\n",
       "    </tr>\n",
       "    <tr>\n",
       "      <th>...</th>\n",
       "      <td>...</td>\n",
       "      <td>...</td>\n",
       "      <td>...</td>\n",
       "      <td>...</td>\n",
       "      <td>...</td>\n",
       "      <td>...</td>\n",
       "      <td>...</td>\n",
       "      <td>...</td>\n",
       "      <td>...</td>\n",
       "      <td>...</td>\n",
       "      <td>...</td>\n",
       "      <td>...</td>\n",
       "      <td>...</td>\n",
       "      <td>...</td>\n",
       "      <td>...</td>\n",
       "      <td>...</td>\n",
       "      <td>...</td>\n",
       "      <td>...</td>\n",
       "      <td>...</td>\n",
       "    </tr>\n",
       "    <tr>\n",
       "      <th>27083</th>\n",
       "      <td>2019</td>\n",
       "      <td>South Carolina</td>\n",
       "      <td>South Atlantic</td>\n",
       "      <td>DORCHESTER; CHARLESTON</td>\n",
       "      <td>South</td>\n",
       "      <td>Cities from 100,000 thru 249,999</td>\n",
       "      <td>Motor Vehicle Theft</td>\n",
       "      <td>NaN</td>\n",
       "      <td>NaN</td>\n",
       "      <td>NaN</td>\n",
       "      <td>NaN</td>\n",
       "      <td>Individual</td>\n",
       "      <td>Residence/Home</td>\n",
       "      <td>NaN</td>\n",
       "      <td>Automobile</td>\n",
       "      <td>15000.0</td>\n",
       "      <td>10000.0</td>\n",
       "      <td>Y</td>\n",
       "      <td>18-Jun-19</td>\n",
       "    </tr>\n",
       "    <tr>\n",
       "      <th>27084</th>\n",
       "      <td>2019</td>\n",
       "      <td>South Carolina</td>\n",
       "      <td>South Atlantic</td>\n",
       "      <td>DORCHESTER; CHARLESTON</td>\n",
       "      <td>South</td>\n",
       "      <td>Cities from 100,000 thru 249,999</td>\n",
       "      <td>Motor Vehicle Theft</td>\n",
       "      <td>NaN</td>\n",
       "      <td>NaN</td>\n",
       "      <td>NaN</td>\n",
       "      <td>NaN</td>\n",
       "      <td>Individual</td>\n",
       "      <td>Residence/Home</td>\n",
       "      <td>NaN</td>\n",
       "      <td>Automobile</td>\n",
       "      <td>25000.0</td>\n",
       "      <td>0.0</td>\n",
       "      <td>N</td>\n",
       "      <td>NaN</td>\n",
       "    </tr>\n",
       "    <tr>\n",
       "      <th>27089</th>\n",
       "      <td>2019</td>\n",
       "      <td>South Carolina</td>\n",
       "      <td>South Atlantic</td>\n",
       "      <td>SALUDA</td>\n",
       "      <td>South</td>\n",
       "      <td>MSA counties from 10,000 thru 24,999</td>\n",
       "      <td>Motor Vehicle Theft</td>\n",
       "      <td>NaN</td>\n",
       "      <td>NaN</td>\n",
       "      <td>NaN</td>\n",
       "      <td>NaN</td>\n",
       "      <td>Individual</td>\n",
       "      <td>Field/Woods</td>\n",
       "      <td>NaN</td>\n",
       "      <td>Automobile</td>\n",
       "      <td>4000.0</td>\n",
       "      <td>0.0</td>\n",
       "      <td>N</td>\n",
       "      <td>NaN</td>\n",
       "    </tr>\n",
       "    <tr>\n",
       "      <th>27070</th>\n",
       "      <td>2019</td>\n",
       "      <td>North Carolina</td>\n",
       "      <td>South Atlantic</td>\n",
       "      <td>ROBESON</td>\n",
       "      <td>South</td>\n",
       "      <td>Non-MSA counties from 25,000 thru 99,999</td>\n",
       "      <td>False Pretenses/Swindle/Confidence Game</td>\n",
       "      <td>NaN</td>\n",
       "      <td>NaN</td>\n",
       "      <td>NaN</td>\n",
       "      <td>NaN</td>\n",
       "      <td>Individual</td>\n",
       "      <td>Bank/Savings and Loan</td>\n",
       "      <td>NaN</td>\n",
       "      <td>Money</td>\n",
       "      <td>2000.0</td>\n",
       "      <td>0.0</td>\n",
       "      <td>N</td>\n",
       "      <td>NaN</td>\n",
       "    </tr>\n",
       "    <tr>\n",
       "      <th>45834</th>\n",
       "      <td>2019</td>\n",
       "      <td>Texas</td>\n",
       "      <td>West South Central</td>\n",
       "      <td>KAUFMAN</td>\n",
       "      <td>South</td>\n",
       "      <td>Cities from 10,000 thru 24,999</td>\n",
       "      <td>Burglary/Breaking &amp; Entering</td>\n",
       "      <td>NaN</td>\n",
       "      <td>NaN</td>\n",
       "      <td>NaN</td>\n",
       "      <td>NaN</td>\n",
       "      <td>Individual</td>\n",
       "      <td>Residence/Home</td>\n",
       "      <td>NaN</td>\n",
       "      <td>Jewelry/ Precious Metals</td>\n",
       "      <td>4050.0</td>\n",
       "      <td>0.0</td>\n",
       "      <td>N</td>\n",
       "      <td>NaN</td>\n",
       "    </tr>\n",
       "  </tbody>\n",
       "</table>\n",
       "<p>21069 rows × 19 columns</p>\n",
       "</div>"
      ],
      "text/plain": [
       "       Year           State            Division                  County  \\\n",
       "87433  2013       Tennessee  East South Central                  PUTNAM   \n",
       "82563  2013        Virginia      South Atlantic                   HENRY   \n",
       "28695  2013        Michigan  East North Central                   WAYNE   \n",
       "28696  2013        Michigan  East North Central                   WAYNE   \n",
       "60314  2013  South Carolina      South Atlantic                   HORRY   \n",
       "...     ...             ...                 ...                     ...   \n",
       "27083  2019  South Carolina      South Atlantic  DORCHESTER; CHARLESTON   \n",
       "27084  2019  South Carolina      South Atlantic  DORCHESTER; CHARLESTON   \n",
       "27089  2019  South Carolina      South Atlantic                  SALUDA   \n",
       "27070  2019  North Carolina      South Atlantic                 ROBESON   \n",
       "45834  2019           Texas  West South Central                 KAUFMAN   \n",
       "\n",
       "        Region                    Population_Description  \\\n",
       "87433    South            Cities from 25,000 thru 49,999   \n",
       "82563    South  Non-MSA counties from 25,000 thru 99,999   \n",
       "28695  Midwest            Cities from 50,000 thru 99,999   \n",
       "28696  Midwest            Cities from 50,000 thru 99,999   \n",
       "60314    South              MSA counties 100,000 or over   \n",
       "...        ...                                       ...   \n",
       "27083    South          Cities from 100,000 thru 249,999   \n",
       "27084    South          Cities from 100,000 thru 249,999   \n",
       "27089    South      MSA counties from 10,000 thru 24,999   \n",
       "27070    South  Non-MSA counties from 25,000 thru 99,999   \n",
       "45834    South            Cities from 10,000 thru 24,999   \n",
       "\n",
       "                                       Offense Offender_Race  \\\n",
       "87433                 Theft From Motor Vehicle           NaN   \n",
       "82563                        All Other Larceny         White   \n",
       "28695                             Embezzlement         White   \n",
       "28696                             Embezzlement         White   \n",
       "60314                        All Other Larceny           NaN   \n",
       "...                                        ...           ...   \n",
       "27083                      Motor Vehicle Theft           NaN   \n",
       "27084                      Motor Vehicle Theft           NaN   \n",
       "27089                      Motor Vehicle Theft           NaN   \n",
       "27070  False Pretenses/Swindle/Confidence Game           NaN   \n",
       "45834             Burglary/Breaking & Entering           NaN   \n",
       "\n",
       "      Offender_Ethnicity  Offender_Age Offender_Sex Victim_Type  \\\n",
       "87433                NaN           NaN          NaN    Business   \n",
       "82563                NaN          25.0            M  Individual   \n",
       "28695                NaN          30.0            M    Business   \n",
       "28696                NaN          31.0            M    Business   \n",
       "60314                NaN           NaN          NaN    Business   \n",
       "...                  ...           ...          ...         ...   \n",
       "27083                NaN           NaN          NaN  Individual   \n",
       "27084                NaN           NaN          NaN  Individual   \n",
       "27089                NaN           NaN          NaN  Individual   \n",
       "27070                NaN           NaN          NaN  Individual   \n",
       "45834                NaN           NaN          NaN  Individual   \n",
       "\n",
       "                                 Location               Weapon  \\\n",
       "87433             Parking/Drop Lot/Garage                  NaN   \n",
       "82563                 Service/Gas Station                  NaN   \n",
       "28695  Highway/Road/Alley/Street/Sidewalk  Firearm (Automatic)   \n",
       "28696  Highway/Road/Alley/Street/Sidewalk  Firearm (Automatic)   \n",
       "60314                     Specialty Store                  NaN   \n",
       "...                                   ...                  ...   \n",
       "27083                      Residence/Home                  NaN   \n",
       "27084                      Residence/Home                  NaN   \n",
       "27089                         Field/Woods                  NaN   \n",
       "27070               Bank/Savings and Loan                  NaN   \n",
       "45834                      Residence/Home                  NaN   \n",
       "\n",
       "                  Property_Type  Stolen_Value  Recovered_Value Recovered?  \\\n",
       "87433             Clothes/ Furs        1765.0              0.0          N   \n",
       "82563                  Trailers       17500.0          17500.0          Y   \n",
       "28695                     Money       49000.0          49000.0          Y   \n",
       "28696                     Money       49000.0          49000.0          Y   \n",
       "60314                     Other        6500.0              0.0          N   \n",
       "...                         ...           ...              ...        ...   \n",
       "27083                Automobile       15000.0          10000.0          Y   \n",
       "27084                Automobile       25000.0              0.0          N   \n",
       "27089                Automobile        4000.0              0.0          N   \n",
       "27070                     Money        2000.0              0.0          N   \n",
       "45834  Jewelry/ Precious Metals        4050.0              0.0          N   \n",
       "\n",
       "      Recovery_Date  \n",
       "87433           NaN  \n",
       "82563     03-Apr-13  \n",
       "28695     27-Jul-13  \n",
       "28696     27-Jul-13  \n",
       "60314           NaN  \n",
       "...             ...  \n",
       "27083     18-Jun-19  \n",
       "27084           NaN  \n",
       "27089           NaN  \n",
       "27070           NaN  \n",
       "45834           NaN  \n",
       "\n",
       "[21069 rows x 19 columns]"
      ]
     },
     "execution_count": 2,
     "metadata": {},
     "output_type": "execute_result"
    }
   ],
   "source": [
    "df= pf.load_and_process(\"../../Dataset.csv\")\n",
    "df"
   ]
  },
  {
   "cell_type": "markdown",
   "id": "continuing-victory",
   "metadata": {},
   "source": [
    "---\n",
    "## Lets take a look at the regions given in the dataframe and compare them\n",
    "\n",
    "The regions in our data set can be seen to cover the following area\n",
    "\n",
    "![Image](../../images/regionsmapFBI.gif)\n",
    "\n",
    "*Image taken from https://ucr.fbi.gov/crime-in-the-u.s/2011/crime-in-the-u.s.-2011/area-definitions*\n",
    "\n",
    "### One of our main questions we had was asking which region or specific state has the worst theft?\n",
    "\n",
    "We will start with a general overview of the data in terms of the broad regions outlines by the figure above provided by the FBI"
   ]
  },
  {
   "cell_type": "code",
   "execution_count": 10,
   "id": "acknowledged-visit",
   "metadata": {},
   "outputs": [
    {
     "data": {
      "image/png": "[encoded data removed]",
      "text/plain": [
       "<Figure size 432x288 with 1 Axes>"
      ]
     },
     "metadata": {
      "needs_background": "light"
     },
     "output_type": "display_data"
    }
   ],
   "source": [
    "def theft_by_area(dataFrame):\n",
    "    import matplotlib.pyplot as plt\n",
    "    import seaborn as sns\n",
    "    \n",
    "    theft=sns.countplot(x=\"Region\",data=dataFrame,palette='colorblind')\n",
    "    sns.despine()\n",
    "    plt.ylabel(\"Recorded incidents\")\n",
    "    plt.title(\"Recorded incidents by Region\")\n",
    "    \n",
    "theft_by_area(df)\n",
    "\n"
   ]
  },
  {
   "cell_type": "markdown",
   "id": "organized-canadian",
   "metadata": {},
   "source": [
    "We see that by far the South region has the most occurances of crime\n",
    "\n",
    "If we compare percentage wise we see similar results:"
   ]
  },
  {
   "cell_type": "code",
   "execution_count": 12,
   "id": "laughing-central",
   "metadata": {},
   "outputs": [
    {
     "data": {
      "image/png": "[encoded data removed]",
      "text/plain": [
       "<Figure size 432x288 with 1 Axes>"
      ]
     },
     "metadata": {},
     "output_type": "display_data"
    }
   ],
   "source": [
    "def theft_by_area_pie(dataFrame):\n",
    "    import matplotlib.pyplot as plt\n",
    "    import seaborn as sns\n",
    "    \n",
    "    pie_graph=plt.pie(dataFrame[\"Region\"].value_counts(),labels=dataFrame[\"Region\"].value_counts().iloc[:4].index,autopct='%1.1f%%')\n",
    "    plt.title(\"Recorded incidents by Region\")\n",
    "    \n",
    "theft_by_area_pie(df)"
   ]
  },
  {
   "cell_type": "markdown",
   "id": "successful-artist",
   "metadata": {},
   "source": [
    "Which gives us a similar result, early analysis is showing us that the South region has more crime than all the other regions combined!\n",
    "\n",
    "### Lets take a deeper look into the South Region"
   ]
  },
  {
   "cell_type": "code",
   "execution_count": 58,
   "id": "colored-india",
   "metadata": {},
   "outputs": [
    {
     "data": {
      "text/plain": [
       "array(['Tennessee', 'Virginia', 'South Carolina', 'Florida',\n",
       "       'West Virginia', 'Arkansas', 'Delaware', 'Mississippi', 'Texas',\n",
       "       'Oklahoma', 'Maryland', 'Georgia', 'Kentucky', 'Alabama',\n",
       "       'North Carolina'], dtype=object)"
      ]
     },
     "execution_count": 58,
     "metadata": {},
     "output_type": "execute_result"
    }
   ],
   "source": [
    "df_south=df[df[\"Region\"]==\"South\"]\n",
    "states=df_south.State.unique()\n",
    "states"
   ]
  },
  {
   "cell_type": "markdown",
   "id": "processed-carroll",
   "metadata": {},
   "source": [
    "So these are the states that are included in the South Region, lets see which states are worst for theft"
   ]
  },
  {
   "cell_type": "code",
   "execution_count": 29,
   "id": "limited-chinese",
   "metadata": {},
   "outputs": [
    {
     "data": {
      "image/png": "[encoded data removed]",
      "text/plain": [
       "<Figure size 432x288 with 1 Axes>"
      ]
     },
     "metadata": {
      "needs_background": "light"
     },
     "output_type": "display_data"
    }
   ],
   "source": [
    "def theft_by_state(dataFrame):\n",
    "    import matplotlib.pyplot as plt\n",
    "    import seaborn as sns\n",
    "    \n",
    "    theft=sns.countplot(x=\"State\",data=dataFrame,order=dataFrame[\"State\"].value_counts().iloc[:5].index,palette='colorblind')\n",
    "    sns.despine()\n",
    "    plt.ylabel(\"Recorded incidents\")\n",
    "    plt.title(\"Recorded incidents by State\")\n",
    "\n",
    "\n",
    "theft_by_state(df_south)"
   ]
  },
  {
   "cell_type": "code",
   "execution_count": null,
   "id": "lesbian-interstate",
   "metadata": {},
   "outputs": [],
   "source": [
    "\n"
   ]
  },
  {
   "cell_type": "markdown",
   "id": "built-uruguay",
   "metadata": {},
   "source": [
    "\n",
    "\n",
    "\n",
    "***Lets see how these 5 shape up nation wide***\n"
   ]
  },
  {
   "cell_type": "code",
   "execution_count": 31,
   "id": "opposite-brush",
   "metadata": {},
   "outputs": [
    {
     "data": {
      "image/png": "[encoded data removed]",
      "text/plain": [
       "<Figure size 432x288 with 1 Axes>"
      ]
     },
     "metadata": {
      "needs_background": "light"
     },
     "output_type": "display_data"
    }
   ],
   "source": [
    "theft_by_state(df)"
   ]
  },
  {
   "cell_type": "markdown",
   "id": "external-jurisdiction",
   "metadata": {},
   "source": [
    "### So the South region contains 4 of the top 5 most reported incidents by state\n",
    "\n",
    "\n",
    "\n",
    "**The one expection is Massachusetts which is found in the Northeast Region**\n",
    "\n",
    "What if we consider the value of goods stolen by Region?"
   ]
  },
  {
   "cell_type": "code",
   "execution_count": 34,
   "id": "motivated-traveler",
   "metadata": {},
   "outputs": [
    {
     "data": {
      "image/png": "[encoded data removed]",
      "text/plain": [
       "<Figure size 432x288 with 1 Axes>"
      ]
     },
     "metadata": {
      "needs_background": "light"
     },
     "output_type": "display_data"
    }
   ],
   "source": [
    "def averages_values_stolen_by_area(dataFrame):\n",
    "    import matplotlib.pyplot as plt\n",
    "    import seaborn as sns\n",
    "    \n",
    "    aerage_value=sns.barplot(x=\"Region\",y=\"Stolen_Value\",data=dataFrame,palette='colorblind')\n",
    "    sns.despine()\n",
    "    plt.ylabel(\"Average value of goods stolen\")\n",
    "    plt.title(\"Average value of goods stolen by Region\")\n",
    "    \n",
    "averages_values_stolen_by_area(df)"
   ]
  },
  {
   "cell_type": "markdown",
   "id": "abandoned-involvement",
   "metadata": {},
   "source": [
    "Again we see that the South region is be far the worst region for crime, this time with an average value of goods stolen almost double the rest of the regions excluding the West\n",
    "\n",
    "  \n",
    "#### This leads us to the conclusion that the South Region is the worst of the defined regions in terms of crime occurance and severity. In particular the states of North Carolina and Texas experience very high rates of reported incidents. "
   ]
  },
  {
   "cell_type": "markdown",
   "id": "regular-abuse",
   "metadata": {},
   "source": [
    "\n",
    "\n"
   ]
  },
  {
   "cell_type": "markdown",
   "id": "simplified-invite",
   "metadata": {},
   "source": [
    "---\n",
    "## Another Question we had was what goods are the most frequently stolen?\n",
    "\n",
    "Lets start by finding the 5 most commonly reported incidences by good type"
   ]
  },
  {
   "cell_type": "code",
   "execution_count": 46,
   "id": "hungarian-thermal",
   "metadata": {},
   "outputs": [
    {
     "name": "stdout",
     "output_type": "stream",
     "text": [
      "The top 5 most commonly stolen items are:\n",
      "\n",
      "- Automobile\n",
      "\n",
      "- Other\n",
      "\n",
      "- Tools\n",
      "\n",
      "- Money\n",
      "\n",
      "- Trailers\n",
      "\n"
     ]
    }
   ],
   "source": [
    "top_5_stolen=df[\"Property_Type\"].value_counts().iloc[:5].index\n",
    "print(\"The top 5 most commonly stolen items are:\\n\")\n",
    "for i in range(0,5):\n",
    "    print(\"- {}\\n\".format(top_5_stolen[i]))"
   ]
  },
  {
   "cell_type": "markdown",
   "id": "intelligent-humor",
   "metadata": {},
   "source": [
    "  \n",
    "#### How many times were these top 5 items stolen?\n",
    "  "
   ]
  },
  {
   "cell_type": "code",
   "execution_count": 55,
   "id": "federal-rebound",
   "metadata": {},
   "outputs": [
    {
     "data": {
      "image/png": "[encoded data removed]",
      "text/plain": [
       "<Figure size 432x288 with 1 Axes>"
      ]
     },
     "metadata": {
      "needs_background": "light"
     },
     "output_type": "display_data"
    }
   ],
   "source": [
    "def top_5_stolen(dataframe):\n",
    "    import matplotlib.pyplot as plt\n",
    "    import seaborn as sns\n",
    "    top_5_stolen=dataframe[\"Property_Type\"].value_counts().iloc[:5].index\n",
    "    top_5=sns.countplot(x=\"Property_Type\",data=dataframe,order=top_5_stolen,palette='colorblind')\n",
    "    sns.despine()\n",
    "    plt.ylabel(\"Count of incidents\")\n",
    "    plt.title(\"Count of incidents involving top 5 items\")\n",
    "    \n",
    "top_5_stolen(df)\n"
   ]
  },
  {
   "cell_type": "markdown",
   "id": "coastal-certification",
   "metadata": {},
   "source": [
    "**Unfortuntaley we do not have any more information on the \"Other\" category so lets choose to ignore it**"
   ]
  },
  {
   "cell_type": "code",
   "execution_count": 56,
   "id": "accredited-portrait",
   "metadata": {},
   "outputs": [
    {
     "data": {
      "image/png": "[encoded data removed]",
      "text/plain": [
       "<Figure size 432x288 with 1 Axes>"
      ]
     },
     "metadata": {
      "needs_background": "light"
     },
     "output_type": "display_data"
    }
   ],
   "source": [
    "df_sub_other=df[df[\"Property_Type\"]!=\"Other\"]\n",
    "top_5_stolen(df_sub_other)"
   ]
  },
  {
   "cell_type": "markdown",
   "id": "twelve-washington",
   "metadata": {},
   "source": [
    "On first glance we see that many of these categories involve or relate to vehicles  \n",
    "  \n",
    "We also see that the Automobile category almost twice as large as the second largest Tools category\n",
    "\n",
    "#### Lets now look at how these top 5 change by region"
   ]
  },
  {
   "cell_type": "code",
   "execution_count": 60,
   "id": "nutritional-sector",
   "metadata": {},
   "outputs": [
    {
     "data": {
      "image/png": "[encoded data removed]",
      "text/plain": [
       "<Figure size 432x288 with 1 Axes>"
      ]
     },
     "metadata": {
      "needs_background": "light"
     },
     "output_type": "display_data"
    }
   ],
   "source": [
    "def top_5_stolen_by_region(dataframe):\n",
    "    import matplotlib.pyplot as plt\n",
    "    import seaborn as sns\n",
    "    top_5_stolen=dataframe[\"Property_Type\"].value_counts().iloc[:5].index\n",
    "    top_5=sns.countplot(x=\"Region\",hue=\"Property_Type\",data=dataframe,hue_order=top_5_stolen,palette='colorblind')\n",
    "    sns.despine()\n",
    "    plt.ylabel(\"Count of incidents\")\n",
    "    plt.title(\"Count of incidents involving top 5 items\")\n",
    "    \n",
    "top_5_stolen_by_region(df_sub_other)"
   ]
  },
  {
   "cell_type": "markdown",
   "id": "confirmed-auction",
   "metadata": {},
   "source": [
    "A few interesting trends are seen here:\n",
    ">-Money theft appears to be more prevalent in the Northeast compared to other regions  \n",
    ">-The South region is unique in that it's Money theft counts are the lowest of the top 5, with other states having this value be second or third  \n",
    ">-Also in the South, Trailer and Truck theft are both second and third highest respectively, while in other Regions these are almost equally as common but rank fourth or fifth"
   ]
  },
  {
   "cell_type": "markdown",
   "id": "agreed-background",
   "metadata": {},
   "source": [
    "#### With this analysis in mind, we can conclude that the Automobile category seems to uniformly be the most frequently reported theft. If we consider vehicles in general by also including Trailers and Trucks, our conclusion is that theft pertaining to the automotive industry is most frequently stolen.\n",
    "  \n",
    "---"
   ]
  },
  {
   "cell_type": "markdown",
   "id": "killing-guidance",
   "metadata": {},
   "source": [
    "## Zach Prenovost EDA\n"
   ]
  },
  {
   "cell_type": "markdown",
   "id": "inside-soccer",
   "metadata": {},
   "source": [
    "First off we are going to import our method chaining function to get our reduced, usuable data set:"
   ]
  },
  {
   "cell_type": "code",
   "execution_count": 45,
   "id": "published-principle",
   "metadata": {},
   "outputs": [
    {
     "data": {
      "text/plain": [
       "<module 'project_functions' from '/Users/zachprenovost/School/data301/FinalProject/Data301-Project/analysis/Zach/../scripts/project_functions.py'>"
      ]
     },
     "execution_count": 45,
     "metadata": {},
     "output_type": "execute_result"
    }
   ],
   "source": [
    "import matplotlib.pylab as plt\n",
    "import seaborn as sns\n",
    "import pandas as pd\n",
    "import numpy as np\n",
    "import sys\n",
    "import importlib\n",
    "\n",
    "# remove comment below and add comment 2 lines below if on windows\n",
    "# sys.path.append(sys.path[0] + \"\\\\..\\\\scripts\")\n",
    "sys.path.append(sys.path[0] + \"/../scripts\")\n",
    "\n",
    "import project_functions as pf\n",
    "importlib.reload(pf)"
   ]
  },
  {
   "cell_type": "code",
   "execution_count": 46,
   "id": "catholic-mediterranean",
   "metadata": {},
   "outputs": [],
   "source": [
    "df = pf.load_and_process(\"../../Dataset.csv\")"
   ]
  },
  {
   "cell_type": "markdown",
   "id": "elementary-prospect",
   "metadata": {},
   "source": [
    "**So we've got our data. what now?**\n",
    "lets start by looking at some of the attributes of our dataset."
   ]
  },
  {
   "cell_type": "code",
   "execution_count": 47,
   "id": "massive-vinyl",
   "metadata": {},
   "outputs": [
    {
     "name": "stdout",
     "output_type": "stream",
     "text": [
      "shape: (21069, 19)\n",
      "Columns: Index(['Year', 'State', 'Division', 'County', 'Region',\n",
      "       'Population_Description', 'Offense', 'Offender_Race',\n",
      "       'Offender_Ethnicity', 'Offender_Age', 'Offender_Sex', 'Victim_Type',\n",
      "       'Location', 'Weapon', 'Property_Type', 'Stolen_Value',\n",
      "       'Recovered_Value', 'Recovered?', 'Recovery_Date'],\n",
      "      dtype='object')\n"
     ]
    }
   ],
   "source": [
    "print('shape: {}'.format(df.shape))\n",
    "print('Columns: {}'.format(df.columns))"
   ]
  },
  {
   "cell_type": "markdown",
   "id": "binding-karen",
   "metadata": {},
   "source": [
    "The `df.shape` function gives us the dimensions of our dataset. after using it we can see that there are 21,111 rows and 19 columns. \n",
    "\n",
    "the `df.columns` function gives us the names of all the columns included in the data set. \n",
    "\n",
    "Now lets look at what this dataset looks like: df.head will give us a look at the first five entries."
   ]
  },
  {
   "cell_type": "code",
   "execution_count": 36,
   "id": "prerequisite-inflation",
   "metadata": {},
   "outputs": [
    {
     "data": {
      "text/html": [
       "<div>\n",
       "<style scoped>\n",
       "    .dataframe tbody tr th:only-of-type {\n",
       "        vertical-align: middle;\n",
       "    }\n",
       "\n",
       "    .dataframe tbody tr th {\n",
       "        vertical-align: top;\n",
       "    }\n",
       "\n",
       "    .dataframe thead th {\n",
       "        text-align: right;\n",
       "    }\n",
       "</style>\n",
       "<table border=\"1\" class=\"dataframe\">\n",
       "  <thead>\n",
       "    <tr style=\"text-align: right;\">\n",
       "      <th></th>\n",
       "      <th>Year</th>\n",
       "      <th>State</th>\n",
       "      <th>Division</th>\n",
       "      <th>County</th>\n",
       "      <th>Region</th>\n",
       "      <th>Population_Description</th>\n",
       "      <th>Offense</th>\n",
       "      <th>Offender_Race</th>\n",
       "      <th>Offender_Ethnicity</th>\n",
       "      <th>Offender_Age</th>\n",
       "      <th>Offender_Sex</th>\n",
       "      <th>Victim_Type</th>\n",
       "      <th>Location</th>\n",
       "      <th>Weapon</th>\n",
       "      <th>Property_Type</th>\n",
       "      <th>Stolen_Value</th>\n",
       "      <th>Recovered_Value</th>\n",
       "      <th>Recovered?</th>\n",
       "      <th>Recovery_Date</th>\n",
       "    </tr>\n",
       "  </thead>\n",
       "  <tbody>\n",
       "    <tr>\n",
       "      <th>87433</th>\n",
       "      <td>2013</td>\n",
       "      <td>Tennessee</td>\n",
       "      <td>East South Central</td>\n",
       "      <td>PUTNAM</td>\n",
       "      <td>South</td>\n",
       "      <td>Cities from 25,000 thru 49,999</td>\n",
       "      <td>Theft From Motor Vehicle</td>\n",
       "      <td>NaN</td>\n",
       "      <td>NaN</td>\n",
       "      <td>NaN</td>\n",
       "      <td>NaN</td>\n",
       "      <td>Business</td>\n",
       "      <td>Parking/Drop Lot/Garage</td>\n",
       "      <td>NaN</td>\n",
       "      <td>Clothes/ Furs</td>\n",
       "      <td>1765.0</td>\n",
       "      <td>0.0</td>\n",
       "      <td>N</td>\n",
       "      <td>NaN</td>\n",
       "    </tr>\n",
       "    <tr>\n",
       "      <th>82563</th>\n",
       "      <td>2013</td>\n",
       "      <td>Virginia</td>\n",
       "      <td>South Atlantic</td>\n",
       "      <td>HENRY</td>\n",
       "      <td>South</td>\n",
       "      <td>Non-MSA counties from 25,000 thru 99,999</td>\n",
       "      <td>All Other Larceny</td>\n",
       "      <td>White</td>\n",
       "      <td>NaN</td>\n",
       "      <td>25.0</td>\n",
       "      <td>M</td>\n",
       "      <td>Individual</td>\n",
       "      <td>Service/Gas Station</td>\n",
       "      <td>NaN</td>\n",
       "      <td>Trailers</td>\n",
       "      <td>17500.0</td>\n",
       "      <td>17500.0</td>\n",
       "      <td>Y</td>\n",
       "      <td>03-Apr-13</td>\n",
       "    </tr>\n",
       "    <tr>\n",
       "      <th>28695</th>\n",
       "      <td>2013</td>\n",
       "      <td>Michigan</td>\n",
       "      <td>East North Central</td>\n",
       "      <td>WAYNE</td>\n",
       "      <td>Midwest</td>\n",
       "      <td>Cities from 50,000 thru 99,999</td>\n",
       "      <td>Embezzlement</td>\n",
       "      <td>White</td>\n",
       "      <td>NaN</td>\n",
       "      <td>30.0</td>\n",
       "      <td>M</td>\n",
       "      <td>Business</td>\n",
       "      <td>Highway/Road/Alley/Street/Sidewalk</td>\n",
       "      <td>Firearm (Automatic)</td>\n",
       "      <td>Money</td>\n",
       "      <td>49000.0</td>\n",
       "      <td>49000.0</td>\n",
       "      <td>Y</td>\n",
       "      <td>27-Jul-13</td>\n",
       "    </tr>\n",
       "    <tr>\n",
       "      <th>28696</th>\n",
       "      <td>2013</td>\n",
       "      <td>Michigan</td>\n",
       "      <td>East North Central</td>\n",
       "      <td>WAYNE</td>\n",
       "      <td>Midwest</td>\n",
       "      <td>Cities from 50,000 thru 99,999</td>\n",
       "      <td>Embezzlement</td>\n",
       "      <td>White</td>\n",
       "      <td>NaN</td>\n",
       "      <td>31.0</td>\n",
       "      <td>M</td>\n",
       "      <td>Business</td>\n",
       "      <td>Highway/Road/Alley/Street/Sidewalk</td>\n",
       "      <td>Firearm (Automatic)</td>\n",
       "      <td>Money</td>\n",
       "      <td>49000.0</td>\n",
       "      <td>49000.0</td>\n",
       "      <td>Y</td>\n",
       "      <td>27-Jul-13</td>\n",
       "    </tr>\n",
       "    <tr>\n",
       "      <th>60314</th>\n",
       "      <td>2013</td>\n",
       "      <td>South Carolina</td>\n",
       "      <td>South Atlantic</td>\n",
       "      <td>HORRY</td>\n",
       "      <td>South</td>\n",
       "      <td>MSA counties 100,000 or over</td>\n",
       "      <td>All Other Larceny</td>\n",
       "      <td>NaN</td>\n",
       "      <td>NaN</td>\n",
       "      <td>NaN</td>\n",
       "      <td>NaN</td>\n",
       "      <td>Business</td>\n",
       "      <td>Specialty Store</td>\n",
       "      <td>NaN</td>\n",
       "      <td>Other</td>\n",
       "      <td>6500.0</td>\n",
       "      <td>0.0</td>\n",
       "      <td>N</td>\n",
       "      <td>NaN</td>\n",
       "    </tr>\n",
       "  </tbody>\n",
       "</table>\n",
       "</div>"
      ],
      "text/plain": [
       "       Year           State            Division  County   Region  \\\n",
       "87433  2013       Tennessee  East South Central  PUTNAM    South   \n",
       "82563  2013        Virginia      South Atlantic   HENRY    South   \n",
       "28695  2013        Michigan  East North Central   WAYNE  Midwest   \n",
       "28696  2013        Michigan  East North Central   WAYNE  Midwest   \n",
       "60314  2013  South Carolina      South Atlantic   HORRY    South   \n",
       "\n",
       "                         Population_Description                   Offense  \\\n",
       "87433            Cities from 25,000 thru 49,999  Theft From Motor Vehicle   \n",
       "82563  Non-MSA counties from 25,000 thru 99,999         All Other Larceny   \n",
       "28695            Cities from 50,000 thru 99,999              Embezzlement   \n",
       "28696            Cities from 50,000 thru 99,999              Embezzlement   \n",
       "60314              MSA counties 100,000 or over         All Other Larceny   \n",
       "\n",
       "      Offender_Race Offender_Ethnicity  Offender_Age Offender_Sex Victim_Type  \\\n",
       "87433           NaN                NaN           NaN          NaN    Business   \n",
       "82563         White                NaN          25.0            M  Individual   \n",
       "28695         White                NaN          30.0            M    Business   \n",
       "28696         White                NaN          31.0            M    Business   \n",
       "60314           NaN                NaN           NaN          NaN    Business   \n",
       "\n",
       "                                 Location               Weapon  Property_Type  \\\n",
       "87433             Parking/Drop Lot/Garage                  NaN  Clothes/ Furs   \n",
       "82563                 Service/Gas Station                  NaN       Trailers   \n",
       "28695  Highway/Road/Alley/Street/Sidewalk  Firearm (Automatic)          Money   \n",
       "28696  Highway/Road/Alley/Street/Sidewalk  Firearm (Automatic)          Money   \n",
       "60314                     Specialty Store                  NaN          Other   \n",
       "\n",
       "       Stolen_Value  Recovered_Value Recovered? Recovery_Date  \n",
       "87433        1765.0              0.0          N           NaN  \n",
       "82563       17500.0          17500.0          Y     03-Apr-13  \n",
       "28695       49000.0          49000.0          Y     27-Jul-13  \n",
       "28696       49000.0          49000.0          Y     27-Jul-13  \n",
       "60314        6500.0              0.0          N           NaN  "
      ]
     },
     "execution_count": 36,
     "metadata": {},
     "output_type": "execute_result"
    }
   ],
   "source": [
    "df.head()"
   ]
  },
  {
   "cell_type": "markdown",
   "id": "proved-stick",
   "metadata": {},
   "source": [
    "# Next we want to gain an understanding of some of the different variables in the dataset\n",
    "\n",
    "`df.nunique` will return the count of unique values associated with each collumn, already from this we can determine a number of things about our data set"
   ]
  },
  {
   "cell_type": "code",
   "execution_count": 37,
   "id": "painted-korean",
   "metadata": {},
   "outputs": [
    {
     "data": {
      "text/plain": [
       "Year                         7\n",
       "State                       40\n",
       "Division                     9\n",
       "County                     674\n",
       "Region                       4\n",
       "Population_Description      17\n",
       "Offense                     33\n",
       "Offender_Race                6\n",
       "Offender_Ethnicity           3\n",
       "Offender_Age                73\n",
       "Offender_Sex                 3\n",
       "Victim_Type                  9\n",
       "Location                    44\n",
       "Weapon                      12\n",
       "Property_Type               62\n",
       "Stolen_Value              2698\n",
       "Recovered_Value            457\n",
       "Recovered?                   2\n",
       "Recovery_Date             1235\n",
       "dtype: int64"
      ]
     },
     "execution_count": 37,
     "metadata": {},
     "output_type": "execute_result"
    }
   ],
   "source": [
    "df.nunique(axis=0)"
   ]
  },
  {
   "cell_type": "markdown",
   "id": "widespread-chocolate",
   "metadata": {},
   "source": [
    "**from this we can gather:**\n",
    "* we have data entries from 7 unique years \n",
    "* 40 different states\n",
    "* there were over 33 different offenses listed \n",
    "* and over 12 different options for type of weapon used\n",
    "\n",
    "We can come back to this later when trying to answer our reasearch questions. it will be useful.\n",
    "\n",
    "Next lets use `.describe()` to look at the count, mean, standard deviation, min, and max for the numeric variables in our data set."
   ]
  },
  {
   "cell_type": "code",
   "execution_count": 38,
   "id": "accessory-reminder",
   "metadata": {},
   "outputs": [
    {
     "data": {
      "text/html": [
       "<div>\n",
       "<style scoped>\n",
       "    .dataframe tbody tr th:only-of-type {\n",
       "        vertical-align: middle;\n",
       "    }\n",
       "\n",
       "    .dataframe tbody tr th {\n",
       "        vertical-align: top;\n",
       "    }\n",
       "\n",
       "    .dataframe thead th {\n",
       "        text-align: right;\n",
       "    }\n",
       "</style>\n",
       "<table border=\"1\" class=\"dataframe\">\n",
       "  <thead>\n",
       "    <tr style=\"text-align: right;\">\n",
       "      <th></th>\n",
       "      <th>Year</th>\n",
       "      <th>Offender_Age</th>\n",
       "      <th>Stolen_Value</th>\n",
       "      <th>Recovered_Value</th>\n",
       "    </tr>\n",
       "  </thead>\n",
       "  <tbody>\n",
       "    <tr>\n",
       "      <th>count</th>\n",
       "      <td>21069.000000</td>\n",
       "      <td>8441.000000</td>\n",
       "      <td>21069.000000</td>\n",
       "      <td>20270.000000</td>\n",
       "    </tr>\n",
       "    <tr>\n",
       "      <th>mean</th>\n",
       "      <td>2016.780151</td>\n",
       "      <td>32.567231</td>\n",
       "      <td>18700.586786</td>\n",
       "      <td>6299.519339</td>\n",
       "    </tr>\n",
       "    <tr>\n",
       "      <th>std</th>\n",
       "      <td>1.966321</td>\n",
       "      <td>12.762746</td>\n",
       "      <td>51723.972002</td>\n",
       "      <td>30105.870148</td>\n",
       "    </tr>\n",
       "    <tr>\n",
       "      <th>min</th>\n",
       "      <td>2013.000000</td>\n",
       "      <td>0.000000</td>\n",
       "      <td>1001.000000</td>\n",
       "      <td>0.000000</td>\n",
       "    </tr>\n",
       "    <tr>\n",
       "      <th>25%</th>\n",
       "      <td>2015.000000</td>\n",
       "      <td>23.000000</td>\n",
       "      <td>2000.000000</td>\n",
       "      <td>0.000000</td>\n",
       "    </tr>\n",
       "    <tr>\n",
       "      <th>50%</th>\n",
       "      <td>2017.000000</td>\n",
       "      <td>31.000000</td>\n",
       "      <td>4500.000000</td>\n",
       "      <td>0.000000</td>\n",
       "    </tr>\n",
       "    <tr>\n",
       "      <th>75%</th>\n",
       "      <td>2019.000000</td>\n",
       "      <td>41.000000</td>\n",
       "      <td>15000.000000</td>\n",
       "      <td>1.000000</td>\n",
       "    </tr>\n",
       "    <tr>\n",
       "      <th>max</th>\n",
       "      <td>2019.000000</td>\n",
       "      <td>99.000000</td>\n",
       "      <td>999999.000000</td>\n",
       "      <td>800000.000000</td>\n",
       "    </tr>\n",
       "  </tbody>\n",
       "</table>\n",
       "</div>"
      ],
      "text/plain": [
       "               Year Offender_Age   Stolen_Value Recovered_Value\n",
       "count  21069.000000  8441.000000   21069.000000    20270.000000\n",
       "mean    2016.780151    32.567231   18700.586786     6299.519339\n",
       "std        1.966321    12.762746   51723.972002    30105.870148\n",
       "min     2013.000000     0.000000    1001.000000        0.000000\n",
       "25%     2015.000000    23.000000    2000.000000        0.000000\n",
       "50%     2017.000000    31.000000    4500.000000        0.000000\n",
       "75%     2019.000000    41.000000   15000.000000        1.000000\n",
       "max     2019.000000    99.000000  999999.000000   800000.000000"
      ]
     },
     "execution_count": 38,
     "metadata": {},
     "output_type": "execute_result"
    }
   ],
   "source": [
    "df.describe().apply(lambda s: s.apply(lambda x: format(x, 'f')))"
   ]
  },
  {
   "cell_type": "markdown",
   "id": "trying-eclipse",
   "metadata": {},
   "source": [
    "Awesome! by using `df.describe` we gathered that the average value stolen was 39,663.86, the most stolen was 250,000,000 dollars. sheesh thats a lot. we also learned other things, like the average age of the offenders in our database\n",
    "\n",
    "**now im going to look at some of the unique entries we talked about earlier, lets look at the crimes in particular!**"
   ]
  },
  {
   "cell_type": "code",
   "execution_count": 39,
   "id": "focused-chain",
   "metadata": {},
   "outputs": [
    {
     "data": {
      "text/plain": [
       "array(['Theft From Motor Vehicle', 'All Other Larceny', 'Embezzlement',\n",
       "       'Weapon Law Violations', 'Motor Vehicle Theft',\n",
       "       'False Pretenses/Swindle/Confidence Game',\n",
       "       'Destruction/Damage/Vandalism of Property',\n",
       "       'Burglary/Breaking & Entering',\n",
       "       'Credit Card/Automated Teller Machine Fraud',\n",
       "       'Theft of Motor Vehicle Parts or Accessories',\n",
       "       'Theft From Building', 'Robbery', 'Rape',\n",
       "       'Drug/Narcotic Violations', 'Impersonation',\n",
       "       'Kidnapping/Abduction', 'Simple Assault',\n",
       "       'Stolen Property Offenses', 'Wire Fraud', 'Counterfeiting/Forgery',\n",
       "       'Murder and Nonnegligent Manslaughter', 'Shoplifting',\n",
       "       'Intimidation', 'Extortion/Blackmail', 'Arson',\n",
       "       'Drug Equipment Violations', 'Identity Theft',\n",
       "       'Aggravated Assault', 'Sexual Assault With An Object',\n",
       "       'Pocket-picking', 'Purse-snatching',\n",
       "       'Pornography/Obscene Material',\n",
       "       'Human Trafficking, Involuntary Servitude'], dtype=object)"
      ]
     },
     "execution_count": 39,
     "metadata": {},
     "output_type": "execute_result"
    }
   ],
   "source": [
    "df.Offense.unique()"
   ]
  },
  {
   "cell_type": "markdown",
   "id": "detailed-setting",
   "metadata": {},
   "source": [
    "we can use this function to look at all of our columns unique entries, lets look at weapons next. "
   ]
  },
  {
   "cell_type": "code",
   "execution_count": 40,
   "id": "czech-invention",
   "metadata": {},
   "outputs": [
    {
     "data": {
      "text/plain": [
       "array([nan, 'Firearm (Automatic)', 'Handgun', 'Handgun (Automatic)',\n",
       "       'Firearm', 'None', 'Unknown', 'Rifle', 'Personal Weapons',\n",
       "       'Blunt Object', 'Knife/Cutting Instrument', 'Other',\n",
       "       'Motor Vehicle/Vessel'], dtype=object)"
      ]
     },
     "execution_count": 40,
     "metadata": {},
     "output_type": "execute_result"
    }
   ],
   "source": [
    "df.Weapon.unique()"
   ]
  },
  {
   "cell_type": "markdown",
   "id": "copyrighted-forest",
   "metadata": {},
   "source": [
    "lets do this some more"
   ]
  },
  {
   "cell_type": "code",
   "execution_count": 41,
   "id": "preceding-chapel",
   "metadata": {},
   "outputs": [
    {
     "name": "stdout",
     "output_type": "stream",
     "text": [
      "['Tennessee' 'Virginia' 'Michigan' 'South Carolina' 'Florida'\n",
      " 'West Virginia' 'Arkansas' 'Delaware' 'Mississippi' 'North Dakota'\n",
      " 'Massachusetts' 'Texas' 'New Hampshire' 'Colorado' 'Oklahoma' 'Indiana'\n",
      " 'Montana' 'Vermont' 'Maine' 'South Dakota' 'Ohio' 'Maryland'\n",
      " 'Rhode Island' 'Georgia' 'Oregon' 'Nevada' 'Alaska' 'Kentucky'\n",
      " 'Minnesota' 'New Mexico' 'New Jersey' 'Utah' 'Arizona' 'Washington'\n",
      " 'Alabama' 'Idaho' 'North Carolina' 'Missouri' 'Nebraska' 'Hawaii']\n",
      "['Cities from 25,000 thru 49,999'\n",
      " 'Non-MSA counties from 25,000 thru 99,999'\n",
      " 'Cities from 50,000 thru 99,999' 'MSA counties 100,000 or over'\n",
      " 'MSA counties from 25,000 thru 99,999' 'Cities from 500,000 thru 999,999'\n",
      " 'Cities from 2,500 thru 9,999' 'Cities from 10,000 thru 24,999'\n",
      " 'Cities from 100,000 thru 249,999' 'MSA counties from 10,000 thru 24,999'\n",
      " 'MSA counties under 10,000' 'Non-MSA counties from 10,000 thru 24,999'\n",
      " 'Cities under 2,500' 'Non-MSA counties under 10,000'\n",
      " 'Cities from 250,000 thru 499,999' 'Cities 1,000,000 or over'\n",
      " 'Non-MSA State Police']\n"
     ]
    }
   ],
   "source": [
    "print(df.State.unique())\n",
    "\n",
    "print(df.Population_Description.unique())\n"
   ]
  },
  {
   "cell_type": "markdown",
   "id": "external-translation",
   "metadata": {},
   "source": [
    "Next i am going to create some visuals to help us understand our data . \n",
    "\n",
    "the first plot i am going to create is a scatter plot. This will help us visualize where data points fall relative to each other. "
   ]
  },
  {
   "cell_type": "code",
   "execution_count": 42,
   "id": "intermediate-protocol",
   "metadata": {},
   "outputs": [
    {
     "data": {
      "text/plain": [
       "<AxesSubplot:xlabel='Year', ylabel='Stolen_Value'>"
      ]
     },
     "execution_count": 42,
     "metadata": {},
     "output_type": "execute_result"
    },
    {
     "data": {
      "image/png": "[encoded data removed]",
      "text/plain": [
       "<Figure size 432x288 with 1 Axes>"
      ]
     },
     "metadata": {
      "needs_background": "light"
     },
     "output_type": "display_data"
    }
   ],
   "source": [
    "df.plot(kind = 'scatter', x = 'Year', y = 'Stolen_Value' )"
   ]
  },
  {
   "cell_type": "markdown",
   "id": "russian-carry",
   "metadata": {},
   "source": [
    "after looking at the plot we can determine 2 things:\n",
    "1. the vast majority of our data is clustered together. \n",
    "2. there are some outliers amongst the data.\n",
    "\n",
    "lets get rid of those outliers so we have a more useful plot"
   ]
  },
  {
   "cell_type": "code",
   "execution_count": 43,
   "id": "increased-silly",
   "metadata": {},
   "outputs": [
    {
     "data": {
      "text/plain": [
       "<AxesSubplot:xlabel='Year', ylabel='Stolen_Value'>"
      ]
     },
     "execution_count": 43,
     "metadata": {},
     "output_type": "execute_result"
    },
    {
     "data": {
      "image/png": "[encoded data removed]",
      "text/plain": [
       "<Figure size 432x288 with 1 Axes>"
      ]
     },
     "metadata": {
      "needs_background": "light"
     },
     "output_type": "display_data"
    }
   ],
   "source": [
    "df2= df[df['Stolen_Value']<1000000]\n",
    "df2.plot(kind = 'scatter', x = 'Year', y = 'Stolen_Value' )"
   ]
  },
  {
   "cell_type": "markdown",
   "id": "living-cache",
   "metadata": {},
   "source": [
    "now that we have set parameters on our data, speicifically capping the stolen value at 1,000,000 we can see the distribution across the 7 years much more clearly."
   ]
  },
  {
   "cell_type": "markdown",
   "id": "close-attempt",
   "metadata": {},
   "source": [
    "now we can look at where the most crime is occuring: here is a bar graph of crime by region:"
   ]
  },
  {
   "cell_type": "code",
   "execution_count": 44,
   "id": "altered-chassis",
   "metadata": {},
   "outputs": [
    {
     "data": {
      "text/plain": [
       "<AxesSubplot:xlabel='Region', ylabel='count'>"
      ]
     },
     "execution_count": 44,
     "metadata": {},
     "output_type": "execute_result"
    },
    {
     "data": {
      "image/png": "[encoded data removed]",
      "text/plain": [
       "<Figure size 432x288 with 1 Axes>"
      ]
     },
     "metadata": {
      "needs_background": "light"
     },
     "output_type": "display_data"
    }
   ],
   "source": [
    "sns.countplot( data = df, x ='Region' )"
   ]
  },
  {
   "cell_type": "markdown",
   "id": "naval-palestine",
   "metadata": {},
   "source": [
    "from this graph we can determine the vast majority of crime is occuring in the south region of the united states. "
   ]
  },
  {
   "cell_type": "markdown",
   "id": "excessive-attraction",
   "metadata": {},
   "source": [
    "---"
   ]
  },
  {
   "cell_type": "markdown",
   "id": "widespread-convenience",
   "metadata": {},
   "source": [
    "## Cole Van Steinburg EDA\n",
    "\n",
    "*Work done for Data 301 Group Project with group 1032*"
   ]
  },
  {
   "cell_type": "code",
   "execution_count": 18,
   "id": "intelligent-undergraduate",
   "metadata": {},
   "outputs": [],
   "source": [
    "import sys\n",
    "sys.path.append(sys.path[0] + \"\\..\\scripts\")\n",
    "import pandas as pd \n",
    "import numpy as np\n",
    "import matplotlib.pyplot as plt\n",
    "import seaborn as sns\n",
    "import project_functions as pf\n",
    "import importlib\n",
    "importlib.reload(pf)\n",
    "\n",
    "sns.set_theme(style=\"ticks\",font_scale=1)\n",
    "df = pf.load_and_process(\"../../Dataset.csv\")\n",
    "df['Recovery_Percentage'] = df['Recovered_Value'] / df['Stolen_Value'] * 100"
   ]
  },
  {
   "cell_type": "code",
   "execution_count": 19,
   "id": "timely-limitation",
   "metadata": {},
   "outputs": [
    {
     "data": {
      "text/html": [
       "<div>\n",
       "<style scoped>\n",
       "    .dataframe tbody tr th:only-of-type {\n",
       "        vertical-align: middle;\n",
       "    }\n",
       "\n",
       "    .dataframe tbody tr th {\n",
       "        vertical-align: top;\n",
       "    }\n",
       "\n",
       "    .dataframe thead th {\n",
       "        text-align: right;\n",
       "    }\n",
       "</style>\n",
       "<table border=\"1\" class=\"dataframe\">\n",
       "  <thead>\n",
       "    <tr style=\"text-align: right;\">\n",
       "      <th></th>\n",
       "      <th>Year</th>\n",
       "      <th>State</th>\n",
       "      <th>Division</th>\n",
       "      <th>County</th>\n",
       "      <th>Region</th>\n",
       "      <th>Population_Description</th>\n",
       "      <th>Offense</th>\n",
       "      <th>Offender_Race</th>\n",
       "      <th>Offender_Ethnicity</th>\n",
       "      <th>Offender_Age</th>\n",
       "      <th>Offender_Sex</th>\n",
       "      <th>Victim_Type</th>\n",
       "      <th>Location</th>\n",
       "      <th>Weapon</th>\n",
       "      <th>Property_Type</th>\n",
       "      <th>Stolen_Value</th>\n",
       "      <th>Recovered_Value</th>\n",
       "      <th>Recovered?</th>\n",
       "      <th>Recovery_Date</th>\n",
       "    </tr>\n",
       "  </thead>\n",
       "  <tbody>\n",
       "    <tr>\n",
       "      <th>87433</th>\n",
       "      <td>2013</td>\n",
       "      <td>Tennessee</td>\n",
       "      <td>East South Central</td>\n",
       "      <td>PUTNAM</td>\n",
       "      <td>South</td>\n",
       "      <td>Cities from 25,000 thru 49,999</td>\n",
       "      <td>Theft From Motor Vehicle</td>\n",
       "      <td>NaN</td>\n",
       "      <td>NaN</td>\n",
       "      <td>NaN</td>\n",
       "      <td>NaN</td>\n",
       "      <td>Business</td>\n",
       "      <td>Parking/Drop Lot/Garage</td>\n",
       "      <td>NaN</td>\n",
       "      <td>Clothes/ Furs</td>\n",
       "      <td>1765.0</td>\n",
       "      <td>0.0</td>\n",
       "      <td>N</td>\n",
       "      <td>NaN</td>\n",
       "    </tr>\n",
       "    <tr>\n",
       "      <th>82563</th>\n",
       "      <td>2013</td>\n",
       "      <td>Virginia</td>\n",
       "      <td>South Atlantic</td>\n",
       "      <td>HENRY</td>\n",
       "      <td>South</td>\n",
       "      <td>Non-MSA counties from 25,000 thru 99,999</td>\n",
       "      <td>All Other Larceny</td>\n",
       "      <td>White</td>\n",
       "      <td>NaN</td>\n",
       "      <td>25.0</td>\n",
       "      <td>M</td>\n",
       "      <td>Individual</td>\n",
       "      <td>Service/Gas Station</td>\n",
       "      <td>NaN</td>\n",
       "      <td>Trailers</td>\n",
       "      <td>17500.0</td>\n",
       "      <td>17500.0</td>\n",
       "      <td>Y</td>\n",
       "      <td>03-Apr-13</td>\n",
       "    </tr>\n",
       "    <tr>\n",
       "      <th>28695</th>\n",
       "      <td>2013</td>\n",
       "      <td>Michigan</td>\n",
       "      <td>East North Central</td>\n",
       "      <td>WAYNE</td>\n",
       "      <td>Midwest</td>\n",
       "      <td>Cities from 50,000 thru 99,999</td>\n",
       "      <td>Embezzlement</td>\n",
       "      <td>White</td>\n",
       "      <td>NaN</td>\n",
       "      <td>30.0</td>\n",
       "      <td>M</td>\n",
       "      <td>Business</td>\n",
       "      <td>Highway/Road/Alley/Street/Sidewalk</td>\n",
       "      <td>Firearm (Automatic)</td>\n",
       "      <td>Money</td>\n",
       "      <td>49000.0</td>\n",
       "      <td>49000.0</td>\n",
       "      <td>Y</td>\n",
       "      <td>27-Jul-13</td>\n",
       "    </tr>\n",
       "    <tr>\n",
       "      <th>28696</th>\n",
       "      <td>2013</td>\n",
       "      <td>Michigan</td>\n",
       "      <td>East North Central</td>\n",
       "      <td>WAYNE</td>\n",
       "      <td>Midwest</td>\n",
       "      <td>Cities from 50,000 thru 99,999</td>\n",
       "      <td>Embezzlement</td>\n",
       "      <td>White</td>\n",
       "      <td>NaN</td>\n",
       "      <td>31.0</td>\n",
       "      <td>M</td>\n",
       "      <td>Business</td>\n",
       "      <td>Highway/Road/Alley/Street/Sidewalk</td>\n",
       "      <td>Firearm (Automatic)</td>\n",
       "      <td>Money</td>\n",
       "      <td>49000.0</td>\n",
       "      <td>49000.0</td>\n",
       "      <td>Y</td>\n",
       "      <td>27-Jul-13</td>\n",
       "    </tr>\n",
       "    <tr>\n",
       "      <th>60314</th>\n",
       "      <td>2013</td>\n",
       "      <td>South Carolina</td>\n",
       "      <td>South Atlantic</td>\n",
       "      <td>HORRY</td>\n",
       "      <td>South</td>\n",
       "      <td>MSA counties 100,000 or over</td>\n",
       "      <td>All Other Larceny</td>\n",
       "      <td>NaN</td>\n",
       "      <td>NaN</td>\n",
       "      <td>NaN</td>\n",
       "      <td>NaN</td>\n",
       "      <td>Business</td>\n",
       "      <td>Specialty Store</td>\n",
       "      <td>NaN</td>\n",
       "      <td>Other</td>\n",
       "      <td>6500.0</td>\n",
       "      <td>0.0</td>\n",
       "      <td>N</td>\n",
       "      <td>NaN</td>\n",
       "    </tr>\n",
       "    <tr>\n",
       "      <th>...</th>\n",
       "      <td>...</td>\n",
       "      <td>...</td>\n",
       "      <td>...</td>\n",
       "      <td>...</td>\n",
       "      <td>...</td>\n",
       "      <td>...</td>\n",
       "      <td>...</td>\n",
       "      <td>...</td>\n",
       "      <td>...</td>\n",
       "      <td>...</td>\n",
       "      <td>...</td>\n",
       "      <td>...</td>\n",
       "      <td>...</td>\n",
       "      <td>...</td>\n",
       "      <td>...</td>\n",
       "      <td>...</td>\n",
       "      <td>...</td>\n",
       "      <td>...</td>\n",
       "      <td>...</td>\n",
       "    </tr>\n",
       "    <tr>\n",
       "      <th>27083</th>\n",
       "      <td>2019</td>\n",
       "      <td>South Carolina</td>\n",
       "      <td>South Atlantic</td>\n",
       "      <td>DORCHESTER; CHARLESTON</td>\n",
       "      <td>South</td>\n",
       "      <td>Cities from 100,000 thru 249,999</td>\n",
       "      <td>Motor Vehicle Theft</td>\n",
       "      <td>NaN</td>\n",
       "      <td>NaN</td>\n",
       "      <td>NaN</td>\n",
       "      <td>NaN</td>\n",
       "      <td>Individual</td>\n",
       "      <td>Residence/Home</td>\n",
       "      <td>NaN</td>\n",
       "      <td>Automobile</td>\n",
       "      <td>15000.0</td>\n",
       "      <td>10000.0</td>\n",
       "      <td>Y</td>\n",
       "      <td>18-Jun-19</td>\n",
       "    </tr>\n",
       "    <tr>\n",
       "      <th>27084</th>\n",
       "      <td>2019</td>\n",
       "      <td>South Carolina</td>\n",
       "      <td>South Atlantic</td>\n",
       "      <td>DORCHESTER; CHARLESTON</td>\n",
       "      <td>South</td>\n",
       "      <td>Cities from 100,000 thru 249,999</td>\n",
       "      <td>Motor Vehicle Theft</td>\n",
       "      <td>NaN</td>\n",
       "      <td>NaN</td>\n",
       "      <td>NaN</td>\n",
       "      <td>NaN</td>\n",
       "      <td>Individual</td>\n",
       "      <td>Residence/Home</td>\n",
       "      <td>NaN</td>\n",
       "      <td>Automobile</td>\n",
       "      <td>25000.0</td>\n",
       "      <td>0.0</td>\n",
       "      <td>N</td>\n",
       "      <td>NaN</td>\n",
       "    </tr>\n",
       "    <tr>\n",
       "      <th>27089</th>\n",
       "      <td>2019</td>\n",
       "      <td>South Carolina</td>\n",
       "      <td>South Atlantic</td>\n",
       "      <td>SALUDA</td>\n",
       "      <td>South</td>\n",
       "      <td>MSA counties from 10,000 thru 24,999</td>\n",
       "      <td>Motor Vehicle Theft</td>\n",
       "      <td>NaN</td>\n",
       "      <td>NaN</td>\n",
       "      <td>NaN</td>\n",
       "      <td>NaN</td>\n",
       "      <td>Individual</td>\n",
       "      <td>Field/Woods</td>\n",
       "      <td>NaN</td>\n",
       "      <td>Automobile</td>\n",
       "      <td>4000.0</td>\n",
       "      <td>0.0</td>\n",
       "      <td>N</td>\n",
       "      <td>NaN</td>\n",
       "    </tr>\n",
       "    <tr>\n",
       "      <th>27070</th>\n",
       "      <td>2019</td>\n",
       "      <td>North Carolina</td>\n",
       "      <td>South Atlantic</td>\n",
       "      <td>ROBESON</td>\n",
       "      <td>South</td>\n",
       "      <td>Non-MSA counties from 25,000 thru 99,999</td>\n",
       "      <td>False Pretenses/Swindle/Confidence Game</td>\n",
       "      <td>NaN</td>\n",
       "      <td>NaN</td>\n",
       "      <td>NaN</td>\n",
       "      <td>NaN</td>\n",
       "      <td>Individual</td>\n",
       "      <td>Bank/Savings and Loan</td>\n",
       "      <td>NaN</td>\n",
       "      <td>Money</td>\n",
       "      <td>2000.0</td>\n",
       "      <td>0.0</td>\n",
       "      <td>N</td>\n",
       "      <td>NaN</td>\n",
       "    </tr>\n",
       "    <tr>\n",
       "      <th>45834</th>\n",
       "      <td>2019</td>\n",
       "      <td>Texas</td>\n",
       "      <td>West South Central</td>\n",
       "      <td>KAUFMAN</td>\n",
       "      <td>South</td>\n",
       "      <td>Cities from 10,000 thru 24,999</td>\n",
       "      <td>Burglary/Breaking &amp; Entering</td>\n",
       "      <td>NaN</td>\n",
       "      <td>NaN</td>\n",
       "      <td>NaN</td>\n",
       "      <td>NaN</td>\n",
       "      <td>Individual</td>\n",
       "      <td>Residence/Home</td>\n",
       "      <td>NaN</td>\n",
       "      <td>Jewelry/ Precious Metals</td>\n",
       "      <td>4050.0</td>\n",
       "      <td>0.0</td>\n",
       "      <td>N</td>\n",
       "      <td>NaN</td>\n",
       "    </tr>\n",
       "  </tbody>\n",
       "</table>\n",
       "<p>21069 rows × 19 columns</p>\n",
       "</div>"
      ],
      "text/plain": [
       "       Year           State            Division                  County  \\\n",
       "87433  2013       Tennessee  East South Central                  PUTNAM   \n",
       "82563  2013        Virginia      South Atlantic                   HENRY   \n",
       "28695  2013        Michigan  East North Central                   WAYNE   \n",
       "28696  2013        Michigan  East North Central                   WAYNE   \n",
       "60314  2013  South Carolina      South Atlantic                   HORRY   \n",
       "...     ...             ...                 ...                     ...   \n",
       "27083  2019  South Carolina      South Atlantic  DORCHESTER; CHARLESTON   \n",
       "27084  2019  South Carolina      South Atlantic  DORCHESTER; CHARLESTON   \n",
       "27089  2019  South Carolina      South Atlantic                  SALUDA   \n",
       "27070  2019  North Carolina      South Atlantic                 ROBESON   \n",
       "45834  2019           Texas  West South Central                 KAUFMAN   \n",
       "\n",
       "        Region                    Population_Description  \\\n",
       "87433    South            Cities from 25,000 thru 49,999   \n",
       "82563    South  Non-MSA counties from 25,000 thru 99,999   \n",
       "28695  Midwest            Cities from 50,000 thru 99,999   \n",
       "28696  Midwest            Cities from 50,000 thru 99,999   \n",
       "60314    South              MSA counties 100,000 or over   \n",
       "...        ...                                       ...   \n",
       "27083    South          Cities from 100,000 thru 249,999   \n",
       "27084    South          Cities from 100,000 thru 249,999   \n",
       "27089    South      MSA counties from 10,000 thru 24,999   \n",
       "27070    South  Non-MSA counties from 25,000 thru 99,999   \n",
       "45834    South            Cities from 10,000 thru 24,999   \n",
       "\n",
       "                                       Offense Offender_Race  \\\n",
       "87433                 Theft From Motor Vehicle           NaN   \n",
       "82563                        All Other Larceny         White   \n",
       "28695                             Embezzlement         White   \n",
       "28696                             Embezzlement         White   \n",
       "60314                        All Other Larceny           NaN   \n",
       "...                                        ...           ...   \n",
       "27083                      Motor Vehicle Theft           NaN   \n",
       "27084                      Motor Vehicle Theft           NaN   \n",
       "27089                      Motor Vehicle Theft           NaN   \n",
       "27070  False Pretenses/Swindle/Confidence Game           NaN   \n",
       "45834             Burglary/Breaking & Entering           NaN   \n",
       "\n",
       "      Offender_Ethnicity  Offender_Age Offender_Sex Victim_Type  \\\n",
       "87433                NaN           NaN          NaN    Business   \n",
       "82563                NaN          25.0            M  Individual   \n",
       "28695                NaN          30.0            M    Business   \n",
       "28696                NaN          31.0            M    Business   \n",
       "60314                NaN           NaN          NaN    Business   \n",
       "...                  ...           ...          ...         ...   \n",
       "27083                NaN           NaN          NaN  Individual   \n",
       "27084                NaN           NaN          NaN  Individual   \n",
       "27089                NaN           NaN          NaN  Individual   \n",
       "27070                NaN           NaN          NaN  Individual   \n",
       "45834                NaN           NaN          NaN  Individual   \n",
       "\n",
       "                                 Location               Weapon  \\\n",
       "87433             Parking/Drop Lot/Garage                  NaN   \n",
       "82563                 Service/Gas Station                  NaN   \n",
       "28695  Highway/Road/Alley/Street/Sidewalk  Firearm (Automatic)   \n",
       "28696  Highway/Road/Alley/Street/Sidewalk  Firearm (Automatic)   \n",
       "60314                     Specialty Store                  NaN   \n",
       "...                                   ...                  ...   \n",
       "27083                      Residence/Home                  NaN   \n",
       "27084                      Residence/Home                  NaN   \n",
       "27089                         Field/Woods                  NaN   \n",
       "27070               Bank/Savings and Loan                  NaN   \n",
       "45834                      Residence/Home                  NaN   \n",
       "\n",
       "                  Property_Type  Stolen_Value  Recovered_Value Recovered?  \\\n",
       "87433             Clothes/ Furs        1765.0              0.0          N   \n",
       "82563                  Trailers       17500.0          17500.0          Y   \n",
       "28695                     Money       49000.0          49000.0          Y   \n",
       "28696                     Money       49000.0          49000.0          Y   \n",
       "60314                     Other        6500.0              0.0          N   \n",
       "...                         ...           ...              ...        ...   \n",
       "27083                Automobile       15000.0          10000.0          Y   \n",
       "27084                Automobile       25000.0              0.0          N   \n",
       "27089                Automobile        4000.0              0.0          N   \n",
       "27070                     Money        2000.0              0.0          N   \n",
       "45834  Jewelry/ Precious Metals        4050.0              0.0          N   \n",
       "\n",
       "      Recovery_Date  \n",
       "87433           NaN  \n",
       "82563     03-Apr-13  \n",
       "28695     27-Jul-13  \n",
       "28696     27-Jul-13  \n",
       "60314           NaN  \n",
       "...             ...  \n",
       "27083     18-Jun-19  \n",
       "27084           NaN  \n",
       "27089           NaN  \n",
       "27070           NaN  \n",
       "45834           NaN  \n",
       "\n",
       "[21069 rows x 19 columns]"
      ]
     },
     "execution_count": 19,
     "metadata": {},
     "output_type": "execute_result"
    }
   ],
   "source": [
    "df= pf.load_and_process(\"../../Dataset.csv\")\n",
    "df"
   ]
  },
  {
   "cell_type": "markdown",
   "id": "representative-difficulty",
   "metadata": {},
   "source": [
    "---\n",
    "#### Let's see how the top 5 state compares for number of things stolen, then by average value stolen."
   ]
  },
  {
   "cell_type": "code",
   "execution_count": 3,
   "id": "tropical-divide",
   "metadata": {},
   "outputs": [
    {
     "data": {
      "image/png": "[encoded data removed]",
      "text/plain": [
       "<Figure size 432x288 with 1 Axes>"
      ]
     },
     "metadata": {},
     "output_type": "display_data"
    }
   ],
   "source": [
    "plot=sns.countplot(x=\"State\",data=df,palette='colorblind',order=df['State'].value_counts().index[:5])"
   ]
  },
  {
   "cell_type": "markdown",
   "id": "connected-israel",
   "metadata": {},
   "source": [
    "#### Now let's see which states are the worst in each region."
   ]
  },
  {
   "cell_type": "code",
   "execution_count": 4,
   "id": "personalized-exception",
   "metadata": {},
   "outputs": [],
   "source": [
    "df_south = df.loc[df['Region']=='South']\n",
    "df_west = df.loc[df['Region']=='West']\n",
    "df_northeast = df.loc[df['Region']=='Northeast']\n",
    "df_midwest = df.loc[df['Region']=='Midwest']"
   ]
  },
  {
   "cell_type": "code",
   "execution_count": 5,
   "id": "broke-receptor",
   "metadata": {},
   "outputs": [
    {
     "name": "stdout",
     "output_type": "stream",
     "text": [
      "South\n"
     ]
    },
    {
     "data": {
      "image/png": "[encoded data removed]",
      "text/plain": [
       "<Figure size 432x288 with 1 Axes>"
      ]
     },
     "metadata": {},
     "output_type": "display_data"
    }
   ],
   "source": [
    "plot=sns.countplot(x=\"State\",data=df_south,palette='colorblind',order=df_south['State'].value_counts().index[:5])\n",
    "print(\"South\")"
   ]
  },
  {
   "cell_type": "code",
   "execution_count": 6,
   "id": "dress-process",
   "metadata": {},
   "outputs": [
    {
     "name": "stdout",
     "output_type": "stream",
     "text": [
      "West\n"
     ]
    },
    {
     "data": {
      "image/png": "[encoded data removed]",
      "text/plain": [
       "<Figure size 432x288 with 1 Axes>"
      ]
     },
     "metadata": {},
     "output_type": "display_data"
    }
   ],
   "source": [
    "plot=sns.countplot(x=\"State\",data=df_west,palette='colorblind',order=df_west['State'].value_counts().index[:5])\n",
    "print(\"West\")"
   ]
  },
  {
   "cell_type": "code",
   "execution_count": 7,
   "id": "vietnamese-yellow",
   "metadata": {},
   "outputs": [
    {
     "name": "stdout",
     "output_type": "stream",
     "text": [
      "Northeast\n"
     ]
    },
    {
     "data": {
      "image/png": "[encoded data removed]",
      "text/plain": [
       "<Figure size 432x288 with 1 Axes>"
      ]
     },
     "metadata": {},
     "output_type": "display_data"
    }
   ],
   "source": [
    "plot=sns.countplot(x=\"State\",data=df_northeast,palette='colorblind',order=df_northeast['State'].value_counts().index[:5])\n",
    "print(\"Northeast\")"
   ]
  },
  {
   "cell_type": "code",
   "execution_count": 8,
   "id": "distant-crisis",
   "metadata": {},
   "outputs": [
    {
     "name": "stdout",
     "output_type": "stream",
     "text": [
      "Midwest\n"
     ]
    },
    {
     "data": {
      "image/png": "[encoded data removed]",
      "text/plain": [
       "<Figure size 432x288 with 1 Axes>"
      ]
     },
     "metadata": {},
     "output_type": "display_data"
    }
   ],
   "source": [
    "plot=sns.countplot(x=\"State\",data=df_midwest,palette='colorblind',order=df_midwest['State'].value_counts().index[:5])\n",
    "print(\"Midwest\")"
   ]
  },
  {
   "cell_type": "markdown",
   "id": "pending-raise",
   "metadata": {},
   "source": [
    "Some observations, North Carolina has more items stolen than the entirety of any other single region.\n",
    "\n",
    "Most of the top states overall also happen to be in the South region.\n",
    "\n",
    "---\n",
    "\n",
    "#### Now let's see what items are stolen the most"
   ]
  },
  {
   "cell_type": "code",
   "execution_count": 9,
   "id": "recent-perception",
   "metadata": {},
   "outputs": [
    {
     "data": {
      "image/png": "[encoded data removed]",
      "text/plain": [
       "<Figure size 432x288 with 1 Axes>"
      ]
     },
     "metadata": {},
     "output_type": "display_data"
    }
   ],
   "source": [
    "plot=sns.countplot(data=df, x=\"Property_Type\", order=df['Property_Type'].value_counts().index[:6])"
   ]
  },
  {
   "cell_type": "markdown",
   "id": "indirect-prefix",
   "metadata": {},
   "source": [
    "We can see that Automobile theft is by far the most common.\n",
    "##### Let's look by region"
   ]
  },
  {
   "cell_type": "code",
   "execution_count": 10,
   "id": "clinical-insert",
   "metadata": {},
   "outputs": [
    {
     "name": "stdout",
     "output_type": "stream",
     "text": [
      "South\n"
     ]
    },
    {
     "data": {
      "image/png": "[encoded data removed]",
      "text/plain": [
       "<Figure size 432x288 with 1 Axes>"
      ]
     },
     "metadata": {},
     "output_type": "display_data"
    }
   ],
   "source": [
    "plot=sns.countplot(data=df_south, x=\"Property_Type\", order=df_south['Property_Type'].value_counts().index[:6])\n",
    "print(\"South\")"
   ]
  },
  {
   "cell_type": "code",
   "execution_count": 11,
   "id": "healthy-calendar",
   "metadata": {},
   "outputs": [
    {
     "name": "stdout",
     "output_type": "stream",
     "text": [
      "West\n"
     ]
    },
    {
     "data": {
      "image/png": "[encoded data removed]",
      "text/plain": [
       "<Figure size 432x288 with 1 Axes>"
      ]
     },
     "metadata": {},
     "output_type": "display_data"
    }
   ],
   "source": [
    "plot=sns.countplot(data=df_west, x=\"Property_Type\", order=df_west['Property_Type'].value_counts().index[:6])\n",
    "print(\"West\")"
   ]
  },
  {
   "cell_type": "code",
   "execution_count": 12,
   "id": "gorgeous-aberdeen",
   "metadata": {},
   "outputs": [
    {
     "name": "stdout",
     "output_type": "stream",
     "text": [
      "Northeast\n"
     ]
    },
    {
     "data": {
      "image/png": "[encoded data removed]",
      "text/plain": [
       "<Figure size 432x288 with 1 Axes>"
      ]
     },
     "metadata": {},
     "output_type": "display_data"
    }
   ],
   "source": [
    "plot=sns.countplot(data=df_northeast, x=\"Property_Type\", order=df_northeast['Property_Type'].value_counts().index[:6])\n",
    "print(\"Northeast\")"
   ]
  },
  {
   "cell_type": "code",
   "execution_count": 13,
   "id": "absent-paris",
   "metadata": {},
   "outputs": [
    {
     "name": "stdout",
     "output_type": "stream",
     "text": [
      "Midwest\n"
     ]
    },
    {
     "data": {
      "image/png": "[encoded data removed]",
      "text/plain": [
       "<Figure size 432x288 with 1 Axes>"
      ]
     },
     "metadata": {},
     "output_type": "display_data"
    }
   ],
   "source": [
    "plot=sns.countplot(data=df_midwest, x=\"Property_Type\", order=df_midwest['Property_Type'].value_counts().index[:5])\n",
    "print(\"Midwest\")"
   ]
  },
  {
   "cell_type": "markdown",
   "id": "authorized-shooting",
   "metadata": {},
   "source": [
    "We can see that automobile theft is the most common in every region, but tools are more commonly stolen in the Midwest compared to other regions, while money is stolen more than other regions in the Northeast."
   ]
  },
  {
   "cell_type": "markdown",
   "id": "crucial-receiver",
   "metadata": {},
   "source": [
    "---\n",
    "\n",
    "#### Let's see which region has the highest average value stolen."
   ]
  },
  {
   "cell_type": "code",
   "execution_count": 14,
   "id": "terminal-booking",
   "metadata": {},
   "outputs": [
    {
     "data": {
      "text/plain": [
       "<AxesSubplot:xlabel='Region'>"
      ]
     },
     "execution_count": 14,
     "metadata": {},
     "output_type": "execute_result"
    },
    {
     "data": {
      "image/png": "[encoded data removed]",
      "text/plain": [
       "<Figure size 432x288 with 1 Axes>"
      ]
     },
     "metadata": {},
     "output_type": "display_data"
    }
   ],
   "source": [
    "df.groupby('Region')['Stolen_Value'].mean().plot(kind=\"bar\")"
   ]
  },
  {
   "cell_type": "markdown",
   "id": "bottom-dubai",
   "metadata": {},
   "source": [
    "When items are stolen, the average value in the South is more than double the average stolen value in the Northeast.\n",
    "\n",
    "Let's look at how much crime happens per year per region."
   ]
  },
  {
   "cell_type": "code",
   "execution_count": 15,
   "id": "returning-malaysia",
   "metadata": {},
   "outputs": [
    {
     "data": {
      "image/png": "[encoded data removed]",
      "text/plain": [
       "<Figure size 432x288 with 1 Axes>"
      ]
     },
     "metadata": {},
     "output_type": "display_data"
    }
   ],
   "source": [
    "plot = sns.countplot(y=\"Year\", data=df, hue=\"Region\", hue_order=df['Region'].value_counts().index[:], palette='bright')"
   ]
  },
  {
   "cell_type": "markdown",
   "id": "documented-garlic",
   "metadata": {},
   "source": [
    "Interestingly, 2019 may be skewing the mean results for the South region. For some reason their reported items stolen has more than doubled since previous years.\n",
    "\n",
    "Also interesting is that the Northeast was slightly worse than the South in 2016, whereas they are usually drastically better, and one of the lower crime areas in general for theft.\n",
    "\n",
    "---\n",
    "\n",
    "#### What about population? How does it affect the rate of items being stolen?"
   ]
  },
  {
   "cell_type": "code",
   "execution_count": 16,
   "id": "adjustable-print",
   "metadata": {},
   "outputs": [
    {
     "data": {
      "image/png": "[encoded data removed]",
      "text/plain": [
       "<Figure size 432x288 with 1 Axes>"
      ]
     },
     "metadata": {},
     "output_type": "display_data"
    }
   ],
   "source": [
    "plot = sns.countplot(x=\"Year\", data=df, hue=\"Population_Description\", hue_order=df['Population_Description'].value_counts().index[:5], palette='bright')"
   ]
  },
  {
   "cell_type": "markdown",
   "id": "dirty-reform",
   "metadata": {},
   "source": [
    "In 2019 the numbers are as expected, where high population is correlated with higher rate of items stolen.\n",
    "\n",
    "Interestingly, in prior years, the higher crime rate often came from cities with very low populations. I wonder if lower population is correlated with the South region.\n",
    "\n",
    "---\n",
    "\n",
    "#### Let's find out what population sizes cause the most crime by region"
   ]
  },
  {
   "cell_type": "code",
   "execution_count": 17,
   "id": "stylish-victor",
   "metadata": {},
   "outputs": [
    {
     "data": {
      "image/png": "[encoded data removed]",
      "text/plain": [
       "<Figure size 432x288 with 1 Axes>"
      ]
     },
     "metadata": {},
     "output_type": "display_data"
    }
   ],
   "source": [
    "plot = sns.countplot(x=\"Region\", data=df, hue=\"Population_Description\", hue_order=df['Population_Description'].value_counts().index[:5], palette='bright')"
   ]
  },
  {
   "cell_type": "markdown",
   "id": "digital-influence",
   "metadata": {},
   "source": [
    "While high population is correlated with more items stolen in the South and Northeast, other regions are more averaged out. It is expected that higher population should have more crime, but what is interesting in the South is that in the 10,000-24,999 range they have half the reported crime as they do in places with 100,000+ population and cities with 500,000-999,999.\n",
    "\n",
    "This means that the south has a higher crime rate per capita in areas with lower population by a significant amount (at least 4x)."
   ]
  },
  {
   "cell_type": "code",
   "execution_count": null,
   "id": "arranged-consultancy",
   "metadata": {},
   "outputs": [],
   "source": []
  }
 ],
 "metadata": {
  "kernelspec": {
   "display_name": "Python 3",
   "language": "python",
   "name": "python3"
  },
  "language_info": {
   "codemirror_mode": {
    "name": "ipython",
    "version": 3
   },
   "file_extension": ".py",
   "mimetype": "text/x-python",
   "name": "python",
   "nbconvert_exporter": "python",
   "pygments_lexer": "ipython3",
   "version": "3.9.2"
  }
 },
 "nbformat": 4,
 "nbformat_minor": 5
}
