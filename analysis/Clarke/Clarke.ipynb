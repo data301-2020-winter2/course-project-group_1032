{
 "cells": [
  {
   "cell_type": "markdown",
   "id": "herbal-boston",
   "metadata": {},
   "source": [
    "## Clarke Larsen Analysis Notebook\n",
    "\n",
    "**All work completed in this notebook was done by Clarke Larsen**\n",
    "\n",
    "*Work done for Data 301 Group Project with group 1032*"
   ]
  },
  {
   "cell_type": "code",
   "execution_count": 1,
   "id": "specialized-institution",
   "metadata": {},
   "outputs": [
    {
     "data": {
      "text/plain": [
       "<module 'project_functions' from 'C:\\\\Users\\\\Clarke\\\\Documents\\\\School Docs\\\\Third Year Homework\\\\DATA 301\\\\Data301-Project\\\\analysis\\\\Clarke\\\\..\\\\scripts\\\\project_functions.py'>"
      ]
     },
     "execution_count": 1,
     "metadata": {},
     "output_type": "execute_result"
    }
   ],
   "source": [
    "import pandas as pd \n",
    "import numpy as np\n",
    "import sys\n",
    "import importlib\n",
    "sys.path.append(sys.path[0] + \"\\..\\scripts\")\n",
    "import project_functions as pf\n",
    "importlib.reload(pf)"
   ]
  },
  {
   "cell_type": "code",
   "execution_count": 2,
   "id": "furnished-dealing",
   "metadata": {},
   "outputs": [
    {
     "data": {
      "text/html": [
       "<div>\n",
       "<style scoped>\n",
       "    .dataframe tbody tr th:only-of-type {\n",
       "        vertical-align: middle;\n",
       "    }\n",
       "\n",
       "    .dataframe tbody tr th {\n",
       "        vertical-align: top;\n",
       "    }\n",
       "\n",
       "    .dataframe thead th {\n",
       "        text-align: right;\n",
       "    }\n",
       "</style>\n",
       "<table border=\"1\" class=\"dataframe\">\n",
       "  <thead>\n",
       "    <tr style=\"text-align: right;\">\n",
       "      <th></th>\n",
       "      <th>Year</th>\n",
       "      <th>State</th>\n",
       "      <th>Division</th>\n",
       "      <th>County</th>\n",
       "      <th>Region</th>\n",
       "      <th>Population_Description</th>\n",
       "      <th>Offense</th>\n",
       "      <th>Offender_Race</th>\n",
       "      <th>Offender_Ethnicity</th>\n",
       "      <th>Offender_Age</th>\n",
       "      <th>Offender_Sex</th>\n",
       "      <th>Victim_Type</th>\n",
       "      <th>Location</th>\n",
       "      <th>Weapon</th>\n",
       "      <th>Property_Type</th>\n",
       "      <th>Stolen_Value</th>\n",
       "      <th>Recovered_Value</th>\n",
       "      <th>Recovered?</th>\n",
       "      <th>Recovery_Date</th>\n",
       "    </tr>\n",
       "  </thead>\n",
       "  <tbody>\n",
       "    <tr>\n",
       "      <th>87433</th>\n",
       "      <td>2013</td>\n",
       "      <td>Tennessee</td>\n",
       "      <td>East South Central</td>\n",
       "      <td>PUTNAM</td>\n",
       "      <td>South</td>\n",
       "      <td>Cities from 25,000 thru 49,999</td>\n",
       "      <td>Theft From Motor Vehicle</td>\n",
       "      <td>NaN</td>\n",
       "      <td>NaN</td>\n",
       "      <td>NaN</td>\n",
       "      <td>NaN</td>\n",
       "      <td>Business</td>\n",
       "      <td>Parking/Drop Lot/Garage</td>\n",
       "      <td>NaN</td>\n",
       "      <td>Clothes/ Furs</td>\n",
       "      <td>1765.0</td>\n",
       "      <td>0.0</td>\n",
       "      <td>N</td>\n",
       "      <td>NaN</td>\n",
       "    </tr>\n",
       "    <tr>\n",
       "      <th>82563</th>\n",
       "      <td>2013</td>\n",
       "      <td>Virginia</td>\n",
       "      <td>South Atlantic</td>\n",
       "      <td>HENRY</td>\n",
       "      <td>South</td>\n",
       "      <td>Non-MSA counties from 25,000 thru 99,999</td>\n",
       "      <td>All Other Larceny</td>\n",
       "      <td>White</td>\n",
       "      <td>NaN</td>\n",
       "      <td>25.0</td>\n",
       "      <td>M</td>\n",
       "      <td>Individual</td>\n",
       "      <td>Service/Gas Station</td>\n",
       "      <td>NaN</td>\n",
       "      <td>Trailers</td>\n",
       "      <td>17500.0</td>\n",
       "      <td>17500.0</td>\n",
       "      <td>Y</td>\n",
       "      <td>03-Apr-13</td>\n",
       "    </tr>\n",
       "    <tr>\n",
       "      <th>28695</th>\n",
       "      <td>2013</td>\n",
       "      <td>Michigan</td>\n",
       "      <td>East North Central</td>\n",
       "      <td>WAYNE</td>\n",
       "      <td>Midwest</td>\n",
       "      <td>Cities from 50,000 thru 99,999</td>\n",
       "      <td>Embezzlement</td>\n",
       "      <td>White</td>\n",
       "      <td>NaN</td>\n",
       "      <td>30.0</td>\n",
       "      <td>M</td>\n",
       "      <td>Business</td>\n",
       "      <td>Highway/Road/Alley/Street/Sidewalk</td>\n",
       "      <td>Firearm (Automatic)</td>\n",
       "      <td>Money</td>\n",
       "      <td>49000.0</td>\n",
       "      <td>49000.0</td>\n",
       "      <td>Y</td>\n",
       "      <td>27-Jul-13</td>\n",
       "    </tr>\n",
       "    <tr>\n",
       "      <th>28696</th>\n",
       "      <td>2013</td>\n",
       "      <td>Michigan</td>\n",
       "      <td>East North Central</td>\n",
       "      <td>WAYNE</td>\n",
       "      <td>Midwest</td>\n",
       "      <td>Cities from 50,000 thru 99,999</td>\n",
       "      <td>Embezzlement</td>\n",
       "      <td>White</td>\n",
       "      <td>NaN</td>\n",
       "      <td>31.0</td>\n",
       "      <td>M</td>\n",
       "      <td>Business</td>\n",
       "      <td>Highway/Road/Alley/Street/Sidewalk</td>\n",
       "      <td>Firearm (Automatic)</td>\n",
       "      <td>Money</td>\n",
       "      <td>49000.0</td>\n",
       "      <td>49000.0</td>\n",
       "      <td>Y</td>\n",
       "      <td>27-Jul-13</td>\n",
       "    </tr>\n",
       "    <tr>\n",
       "      <th>60314</th>\n",
       "      <td>2013</td>\n",
       "      <td>South Carolina</td>\n",
       "      <td>South Atlantic</td>\n",
       "      <td>HORRY</td>\n",
       "      <td>South</td>\n",
       "      <td>MSA counties 100,000 or over</td>\n",
       "      <td>All Other Larceny</td>\n",
       "      <td>NaN</td>\n",
       "      <td>NaN</td>\n",
       "      <td>NaN</td>\n",
       "      <td>NaN</td>\n",
       "      <td>Business</td>\n",
       "      <td>Specialty Store</td>\n",
       "      <td>NaN</td>\n",
       "      <td>Other</td>\n",
       "      <td>6500.0</td>\n",
       "      <td>0.0</td>\n",
       "      <td>N</td>\n",
       "      <td>NaN</td>\n",
       "    </tr>\n",
       "    <tr>\n",
       "      <th>...</th>\n",
       "      <td>...</td>\n",
       "      <td>...</td>\n",
       "      <td>...</td>\n",
       "      <td>...</td>\n",
       "      <td>...</td>\n",
       "      <td>...</td>\n",
       "      <td>...</td>\n",
       "      <td>...</td>\n",
       "      <td>...</td>\n",
       "      <td>...</td>\n",
       "      <td>...</td>\n",
       "      <td>...</td>\n",
       "      <td>...</td>\n",
       "      <td>...</td>\n",
       "      <td>...</td>\n",
       "      <td>...</td>\n",
       "      <td>...</td>\n",
       "      <td>...</td>\n",
       "      <td>...</td>\n",
       "    </tr>\n",
       "    <tr>\n",
       "      <th>27083</th>\n",
       "      <td>2019</td>\n",
       "      <td>South Carolina</td>\n",
       "      <td>South Atlantic</td>\n",
       "      <td>DORCHESTER; CHARLESTON</td>\n",
       "      <td>South</td>\n",
       "      <td>Cities from 100,000 thru 249,999</td>\n",
       "      <td>Motor Vehicle Theft</td>\n",
       "      <td>NaN</td>\n",
       "      <td>NaN</td>\n",
       "      <td>NaN</td>\n",
       "      <td>NaN</td>\n",
       "      <td>Individual</td>\n",
       "      <td>Residence/Home</td>\n",
       "      <td>NaN</td>\n",
       "      <td>Automobile</td>\n",
       "      <td>15000.0</td>\n",
       "      <td>10000.0</td>\n",
       "      <td>Y</td>\n",
       "      <td>18-Jun-19</td>\n",
       "    </tr>\n",
       "    <tr>\n",
       "      <th>27084</th>\n",
       "      <td>2019</td>\n",
       "      <td>South Carolina</td>\n",
       "      <td>South Atlantic</td>\n",
       "      <td>DORCHESTER; CHARLESTON</td>\n",
       "      <td>South</td>\n",
       "      <td>Cities from 100,000 thru 249,999</td>\n",
       "      <td>Motor Vehicle Theft</td>\n",
       "      <td>NaN</td>\n",
       "      <td>NaN</td>\n",
       "      <td>NaN</td>\n",
       "      <td>NaN</td>\n",
       "      <td>Individual</td>\n",
       "      <td>Residence/Home</td>\n",
       "      <td>NaN</td>\n",
       "      <td>Automobile</td>\n",
       "      <td>25000.0</td>\n",
       "      <td>0.0</td>\n",
       "      <td>N</td>\n",
       "      <td>NaN</td>\n",
       "    </tr>\n",
       "    <tr>\n",
       "      <th>27089</th>\n",
       "      <td>2019</td>\n",
       "      <td>South Carolina</td>\n",
       "      <td>South Atlantic</td>\n",
       "      <td>SALUDA</td>\n",
       "      <td>South</td>\n",
       "      <td>MSA counties from 10,000 thru 24,999</td>\n",
       "      <td>Motor Vehicle Theft</td>\n",
       "      <td>NaN</td>\n",
       "      <td>NaN</td>\n",
       "      <td>NaN</td>\n",
       "      <td>NaN</td>\n",
       "      <td>Individual</td>\n",
       "      <td>Field/Woods</td>\n",
       "      <td>NaN</td>\n",
       "      <td>Automobile</td>\n",
       "      <td>4000.0</td>\n",
       "      <td>0.0</td>\n",
       "      <td>N</td>\n",
       "      <td>NaN</td>\n",
       "    </tr>\n",
       "    <tr>\n",
       "      <th>27070</th>\n",
       "      <td>2019</td>\n",
       "      <td>North Carolina</td>\n",
       "      <td>South Atlantic</td>\n",
       "      <td>ROBESON</td>\n",
       "      <td>South</td>\n",
       "      <td>Non-MSA counties from 25,000 thru 99,999</td>\n",
       "      <td>False Pretenses/Swindle/Confidence Game</td>\n",
       "      <td>NaN</td>\n",
       "      <td>NaN</td>\n",
       "      <td>NaN</td>\n",
       "      <td>NaN</td>\n",
       "      <td>Individual</td>\n",
       "      <td>Bank/Savings and Loan</td>\n",
       "      <td>NaN</td>\n",
       "      <td>Money</td>\n",
       "      <td>2000.0</td>\n",
       "      <td>0.0</td>\n",
       "      <td>N</td>\n",
       "      <td>NaN</td>\n",
       "    </tr>\n",
       "    <tr>\n",
       "      <th>45834</th>\n",
       "      <td>2019</td>\n",
       "      <td>Texas</td>\n",
       "      <td>West South Central</td>\n",
       "      <td>KAUFMAN</td>\n",
       "      <td>South</td>\n",
       "      <td>Cities from 10,000 thru 24,999</td>\n",
       "      <td>Burglary/Breaking &amp; Entering</td>\n",
       "      <td>NaN</td>\n",
       "      <td>NaN</td>\n",
       "      <td>NaN</td>\n",
       "      <td>NaN</td>\n",
       "      <td>Individual</td>\n",
       "      <td>Residence/Home</td>\n",
       "      <td>NaN</td>\n",
       "      <td>Jewelry/ Precious Metals</td>\n",
       "      <td>4050.0</td>\n",
       "      <td>0.0</td>\n",
       "      <td>N</td>\n",
       "      <td>NaN</td>\n",
       "    </tr>\n",
       "  </tbody>\n",
       "</table>\n",
       "<p>21069 rows × 19 columns</p>\n",
       "</div>"
      ],
      "text/plain": [
       "       Year           State            Division                  County  \\\n",
       "87433  2013       Tennessee  East South Central                  PUTNAM   \n",
       "82563  2013        Virginia      South Atlantic                   HENRY   \n",
       "28695  2013        Michigan  East North Central                   WAYNE   \n",
       "28696  2013        Michigan  East North Central                   WAYNE   \n",
       "60314  2013  South Carolina      South Atlantic                   HORRY   \n",
       "...     ...             ...                 ...                     ...   \n",
       "27083  2019  South Carolina      South Atlantic  DORCHESTER; CHARLESTON   \n",
       "27084  2019  South Carolina      South Atlantic  DORCHESTER; CHARLESTON   \n",
       "27089  2019  South Carolina      South Atlantic                  SALUDA   \n",
       "27070  2019  North Carolina      South Atlantic                 ROBESON   \n",
       "45834  2019           Texas  West South Central                 KAUFMAN   \n",
       "\n",
       "        Region                    Population_Description  \\\n",
       "87433    South            Cities from 25,000 thru 49,999   \n",
       "82563    South  Non-MSA counties from 25,000 thru 99,999   \n",
       "28695  Midwest            Cities from 50,000 thru 99,999   \n",
       "28696  Midwest            Cities from 50,000 thru 99,999   \n",
       "60314    South              MSA counties 100,000 or over   \n",
       "...        ...                                       ...   \n",
       "27083    South          Cities from 100,000 thru 249,999   \n",
       "27084    South          Cities from 100,000 thru 249,999   \n",
       "27089    South      MSA counties from 10,000 thru 24,999   \n",
       "27070    South  Non-MSA counties from 25,000 thru 99,999   \n",
       "45834    South            Cities from 10,000 thru 24,999   \n",
       "\n",
       "                                       Offense Offender_Race  \\\n",
       "87433                 Theft From Motor Vehicle           NaN   \n",
       "82563                        All Other Larceny         White   \n",
       "28695                             Embezzlement         White   \n",
       "28696                             Embezzlement         White   \n",
       "60314                        All Other Larceny           NaN   \n",
       "...                                        ...           ...   \n",
       "27083                      Motor Vehicle Theft           NaN   \n",
       "27084                      Motor Vehicle Theft           NaN   \n",
       "27089                      Motor Vehicle Theft           NaN   \n",
       "27070  False Pretenses/Swindle/Confidence Game           NaN   \n",
       "45834             Burglary/Breaking & Entering           NaN   \n",
       "\n",
       "      Offender_Ethnicity  Offender_Age Offender_Sex Victim_Type  \\\n",
       "87433                NaN           NaN          NaN    Business   \n",
       "82563                NaN          25.0            M  Individual   \n",
       "28695                NaN          30.0            M    Business   \n",
       "28696                NaN          31.0            M    Business   \n",
       "60314                NaN           NaN          NaN    Business   \n",
       "...                  ...           ...          ...         ...   \n",
       "27083                NaN           NaN          NaN  Individual   \n",
       "27084                NaN           NaN          NaN  Individual   \n",
       "27089                NaN           NaN          NaN  Individual   \n",
       "27070                NaN           NaN          NaN  Individual   \n",
       "45834                NaN           NaN          NaN  Individual   \n",
       "\n",
       "                                 Location               Weapon  \\\n",
       "87433             Parking/Drop Lot/Garage                  NaN   \n",
       "82563                 Service/Gas Station                  NaN   \n",
       "28695  Highway/Road/Alley/Street/Sidewalk  Firearm (Automatic)   \n",
       "28696  Highway/Road/Alley/Street/Sidewalk  Firearm (Automatic)   \n",
       "60314                     Specialty Store                  NaN   \n",
       "...                                   ...                  ...   \n",
       "27083                      Residence/Home                  NaN   \n",
       "27084                      Residence/Home                  NaN   \n",
       "27089                         Field/Woods                  NaN   \n",
       "27070               Bank/Savings and Loan                  NaN   \n",
       "45834                      Residence/Home                  NaN   \n",
       "\n",
       "                  Property_Type  Stolen_Value  Recovered_Value Recovered?  \\\n",
       "87433             Clothes/ Furs        1765.0              0.0          N   \n",
       "82563                  Trailers       17500.0          17500.0          Y   \n",
       "28695                     Money       49000.0          49000.0          Y   \n",
       "28696                     Money       49000.0          49000.0          Y   \n",
       "60314                     Other        6500.0              0.0          N   \n",
       "...                         ...           ...              ...        ...   \n",
       "27083                Automobile       15000.0          10000.0          Y   \n",
       "27084                Automobile       25000.0              0.0          N   \n",
       "27089                Automobile        4000.0              0.0          N   \n",
       "27070                     Money        2000.0              0.0          N   \n",
       "45834  Jewelry/ Precious Metals        4050.0              0.0          N   \n",
       "\n",
       "      Recovery_Date  \n",
       "87433           NaN  \n",
       "82563     03-Apr-13  \n",
       "28695     27-Jul-13  \n",
       "28696     27-Jul-13  \n",
       "60314           NaN  \n",
       "...             ...  \n",
       "27083     18-Jun-19  \n",
       "27084           NaN  \n",
       "27089           NaN  \n",
       "27070           NaN  \n",
       "45834           NaN  \n",
       "\n",
       "[21069 rows x 19 columns]"
      ]
     },
     "execution_count": 2,
     "metadata": {},
     "output_type": "execute_result"
    }
   ],
   "source": [
    "df= pf.load_and_process(\"../../Dataset.csv\")\n",
    "df"
   ]
  },
  {
   "cell_type": "markdown",
   "id": "fewer-criticism",
   "metadata": {},
   "source": [
    "---\n",
    "## Lets take a look at the regions given in the dataframe and compare them\n",
    "\n",
    "The regions in our data set can be seen to cover the following area\n",
    "\n",
    "![Image](../../images/regionsmapFBI.gif)\n",
    "\n",
    "*Image taken from https://ucr.fbi.gov/crime-in-the-u.s/2011/crime-in-the-u.s.-2011/area-definitions*\n",
    "\n",
    "### One of our main questions we had was asking which region or specific state has the worst theft?\n",
    "\n",
    "We will start with a general overview of the data in terms of the broad regions outlines by the figure above provided by the FBI"
   ]
  },
  {
   "cell_type": "code",
   "execution_count": 10,
   "id": "elegant-belfast",
   "metadata": {},
   "outputs": [
    {
     "data": {
      "image/png": "[encoded data removed]",
      "text/plain": [
       "<Figure size 432x288 with 1 Axes>"
      ]
     },
     "metadata": {
      "needs_background": "light"
     },
     "output_type": "display_data"
    }
   ],
   "source": [
    "def theft_by_area(dataFrame):\n",
    "    import matplotlib.pyplot as plt\n",
    "    import seaborn as sns\n",
    "    \n",
    "    theft=sns.countplot(x=\"Region\",data=dataFrame,palette='colorblind')\n",
    "    sns.despine()\n",
    "    plt.ylabel(\"Recorded incidents\")\n",
    "    plt.title(\"Recorded incidents by Region\")\n",
    "    \n",
    "theft_by_area(df)\n",
    "\n"
   ]
  },
  {
   "cell_type": "markdown",
   "id": "conscious-relief",
   "metadata": {},
   "source": [
    "We see that by far the South region has the most occurances of crime\n",
    "\n",
    "If we compare percentage wise we see similar results:"
   ]
  },
  {
   "cell_type": "code",
   "execution_count": 12,
   "id": "indirect-economics",
   "metadata": {},
   "outputs": [
    {
     "data": {
      "image/png": "[encoded data removed]",
      "text/plain": [
       "<Figure size 432x288 with 1 Axes>"
      ]
     },
     "metadata": {},
     "output_type": "display_data"
    }
   ],
   "source": [
    "def theft_by_area_pie(dataFrame):\n",
    "    import matplotlib.pyplot as plt\n",
    "    import seaborn as sns\n",
    "    \n",
    "    pie_graph=plt.pie(dataFrame[\"Region\"].value_counts(),labels=dataFrame[\"Region\"].value_counts().iloc[:4].index,autopct='%1.1f%%')\n",
    "    plt.title(\"Recorded incidents by Region\")\n",
    "    \n",
    "theft_by_area_pie(df)"
   ]
  },
  {
   "cell_type": "markdown",
   "id": "hazardous-hours",
   "metadata": {},
   "source": [
    "Which gives us a similar result, early analysis is showing us that the South region has more crime than all the other regions combined!\n",
    "\n",
    "### Lets take a deeper look into the South Region"
   ]
  },
  {
   "cell_type": "code",
   "execution_count": 58,
   "id": "permanent-donna",
   "metadata": {},
   "outputs": [
    {
     "data": {
      "text/plain": [
       "array(['Tennessee', 'Virginia', 'South Carolina', 'Florida',\n",
       "       'West Virginia', 'Arkansas', 'Delaware', 'Mississippi', 'Texas',\n",
       "       'Oklahoma', 'Maryland', 'Georgia', 'Kentucky', 'Alabama',\n",
       "       'North Carolina'], dtype=object)"
      ]
     },
     "execution_count": 58,
     "metadata": {},
     "output_type": "execute_result"
    }
   ],
   "source": [
    "df_south=df[df[\"Region\"]==\"South\"]\n",
    "states=df_south.State.unique()\n",
    "states"
   ]
  },
  {
   "cell_type": "markdown",
   "id": "limiting-documentary",
   "metadata": {},
   "source": [
    "So these are the states that are included in the South Region, lets see which states are worst for theft"
   ]
  },
  {
   "cell_type": "code",
   "execution_count": 29,
   "id": "great-victim",
   "metadata": {},
   "outputs": [
    {
     "data": {
      "image/png": "[encoded data removed]",
      "text/plain": [
       "<Figure size 432x288 with 1 Axes>"
      ]
     },
     "metadata": {
      "needs_background": "light"
     },
     "output_type": "display_data"
    }
   ],
   "source": [
    "def theft_by_state(dataFrame):\n",
    "    import matplotlib.pyplot as plt\n",
    "    import seaborn as sns\n",
    "    \n",
    "    theft=sns.countplot(x=\"State\",data=dataFrame,order=dataFrame[\"State\"].value_counts().iloc[:5].index,palette='colorblind')\n",
    "    sns.despine()\n",
    "    plt.ylabel(\"Recorded incidents\")\n",
    "    plt.title(\"Recorded incidents by State\")\n",
    "\n",
    "\n",
    "theft_by_state(df_south)"
   ]
  },
  {
   "cell_type": "code",
   "execution_count": null,
   "id": "peripheral-suspect",
   "metadata": {},
   "outputs": [],
   "source": [
    "\n"
   ]
  },
  {
   "cell_type": "markdown",
   "id": "previous-freight",
   "metadata": {},
   "source": [
    "\n",
    "\n",
    "\n",
    "***Lets see how these 5 shape up nation wide***\n"
   ]
  },
  {
   "cell_type": "code",
   "execution_count": 31,
   "id": "motivated-persian",
   "metadata": {},
   "outputs": [
    {
     "data": {
      "image/png": "[encoded data removed]",
      "text/plain": [
       "<Figure size 432x288 with 1 Axes>"
      ]
     },
     "metadata": {
      "needs_background": "light"
     },
     "output_type": "display_data"
    }
   ],
   "source": [
    "theft_by_state(df)"
   ]
  },
  {
   "cell_type": "markdown",
   "id": "funky-article",
   "metadata": {},
   "source": [
    "### So the South region contains 4 of the top 5 most reported incidents by state\n",
    "\n",
    "\n",
    "\n",
    "**The one expection is Massachusetts which is found in the Northeast Region**\n",
    "\n",
    "What if we consider the value of goods stolen by Region?"
   ]
  },
  {
   "cell_type": "code",
   "execution_count": 34,
   "id": "changing-memphis",
   "metadata": {},
   "outputs": [
    {
     "data": {
      "image/png": "[encoded data removed]",
      "text/plain": [
       "<Figure size 432x288 with 1 Axes>"
      ]
     },
     "metadata": {
      "needs_background": "light"
     },
     "output_type": "display_data"
    }
   ],
   "source": [
    "def averages_values_stolen_by_area(dataFrame):\n",
    "    import matplotlib.pyplot as plt\n",
    "    import seaborn as sns\n",
    "    \n",
    "    aerage_value=sns.barplot(x=\"Region\",y=\"Stolen_Value\",data=dataFrame,palette='colorblind')\n",
    "    sns.despine()\n",
    "    plt.ylabel(\"Average value of goods stolen\")\n",
    "    plt.title(\"Average value of goods stolen by Region\")\n",
    "    \n",
    "averages_values_stolen_by_area(df)"
   ]
  },
  {
   "cell_type": "markdown",
   "id": "biological-university",
   "metadata": {},
   "source": [
    "Again we see that the South region is be far the worst region for crime, this time with an average value of goods stolen almost double the rest of the regions excluding the West\n",
    "\n",
    "  \n",
    "#### This leads us to the conclusion that the South Region is the worst of the defined regions in terms of crime occurance and severity. In particular the states of North Carolina and Texas experience very high rates of reported incidents. "
   ]
  },
  {
   "cell_type": "markdown",
   "id": "apparent-alias",
   "metadata": {},
   "source": [
    "\n",
    "\n"
   ]
  },
  {
   "cell_type": "markdown",
   "id": "suited-species",
   "metadata": {},
   "source": [
    "---\n",
    "## Another Question we had was what goods are the most frequently stolen?\n",
    "\n",
    "Lets start by finding the 5 most commonly reported incidences by good type"
   ]
  },
  {
   "cell_type": "code",
   "execution_count": 46,
   "id": "neural-horror",
   "metadata": {},
   "outputs": [
    {
     "name": "stdout",
     "output_type": "stream",
     "text": [
      "The top 5 most commonly stolen items are:\n",
      "\n",
      "- Automobile\n",
      "\n",
      "- Other\n",
      "\n",
      "- Tools\n",
      "\n",
      "- Money\n",
      "\n",
      "- Trailers\n",
      "\n"
     ]
    }
   ],
   "source": [
    "top_5_stolen=df[\"Property_Type\"].value_counts().iloc[:5].index\n",
    "print(\"The top 5 most commonly stolen items are:\\n\")\n",
    "for i in range(0,5):\n",
    "    print(\"- {}\\n\".format(top_5_stolen[i]))"
   ]
  },
  {
   "cell_type": "markdown",
   "id": "adopted-cliff",
   "metadata": {},
   "source": [
    "  \n",
    "#### How many times were these top 5 items stolen?\n",
    "  "
   ]
  },
  {
   "cell_type": "code",
   "execution_count": 55,
   "id": "surgical-hanging",
   "metadata": {},
   "outputs": [
    {
     "data": {
      "image/png": "[encoded data removed]",
      "text/plain": [
       "<Figure size 432x288 with 1 Axes>"
      ]
     },
     "metadata": {
      "needs_background": "light"
     },
     "output_type": "display_data"
    }
   ],
   "source": [
    "def top_5_stolen(dataframe):\n",
    "    import matplotlib.pyplot as plt\n",
    "    import seaborn as sns\n",
    "    top_5_stolen=dataframe[\"Property_Type\"].value_counts().iloc[:5].index\n",
    "    top_5=sns.countplot(x=\"Property_Type\",data=dataframe,order=top_5_stolen,palette='colorblind')\n",
    "    sns.despine()\n",
    "    plt.ylabel(\"Count of incidents\")\n",
    "    plt.title(\"Count of incidents involving top 5 items\")\n",
    "    \n",
    "top_5_stolen(df)\n"
   ]
  },
  {
   "cell_type": "markdown",
   "id": "preliminary-storm",
   "metadata": {},
   "source": [
    "**Unfortuntaley we do not have any more information on the \"Other\" category so lets choose to ignore it**"
   ]
  },
  {
   "cell_type": "code",
   "execution_count": 56,
   "id": "stunning-score",
   "metadata": {},
   "outputs": [
    {
     "data": {
      "image/png": "[encoded data removed]",
      "text/plain": [
       "<Figure size 432x288 with 1 Axes>"
      ]
     },
     "metadata": {
      "needs_background": "light"
     },
     "output_type": "display_data"
    }
   ],
   "source": [
    "df_sub_other=df[df[\"Property_Type\"]!=\"Other\"]\n",
    "top_5_stolen(df_sub_other)"
   ]
  },
  {
   "cell_type": "markdown",
   "id": "white-feedback",
   "metadata": {},
   "source": [
    "On first glance we see that many of these categories involve or relate to vehicles  \n",
    "  \n",
    "We also see that the Automobile category almost twice as large as the second largest Tools category\n",
    "\n",
    "#### Lets now look at how these top 5 change by region"
   ]
  },
  {
   "cell_type": "code",
   "execution_count": 60,
   "id": "owned-abraham",
   "metadata": {},
   "outputs": [
    {
     "data": {
      "image/png": "[encoded data removed]",
      "text/plain": [
       "<Figure size 432x288 with 1 Axes>"
      ]
     },
     "metadata": {
      "needs_background": "light"
     },
     "output_type": "display_data"
    }
   ],
   "source": [
    "def top_5_stolen_by_region(dataframe):\n",
    "    import matplotlib.pyplot as plt\n",
    "    import seaborn as sns\n",
    "    top_5_stolen=dataframe[\"Property_Type\"].value_counts().iloc[:5].index\n",
    "    top_5=sns.countplot(x=\"Region\",hue=\"Property_Type\",data=dataframe,hue_order=top_5_stolen,palette='colorblind')\n",
    "    sns.despine()\n",
    "    plt.ylabel(\"Count of incidents\")\n",
    "    plt.title(\"Count of incidents involving top 5 items\")\n",
    "    \n",
    "top_5_stolen_by_region(df_sub_other)"
   ]
  },
  {
   "cell_type": "markdown",
   "id": "genuine-oxide",
   "metadata": {},
   "source": [
    "A few interesting trends are seen here:\n",
    ">-Money theft appears to be more prevalent in the Northeast compared to other regions  \n",
    ">-The South region is unique in that it's Money theft counts are the lowest of the top 5, with other states having this value be second or third  \n",
    ">-Also in the South, Trailer and Truck theft are both second and third highest respectively, while in other Regions these are almost equally as common but rank fourth or fifth"
   ]
  },
  {
   "cell_type": "markdown",
   "id": "roman-enemy",
   "metadata": {},
   "source": [
    "#### With this analysis in mind, we can conclude that the Automobile category seems to uniformly be the most frequently reported theft. If we consider vehicles in general by also including Trailers and Trucks, our conclusion is that theft pertaining to the automotive industry is most frequently stolen.\n",
    "  \n",
    "---"
   ]
  },
  {
   "cell_type": "code",
   "execution_count": null,
   "id": "convertible-specific",
   "metadata": {},
   "outputs": [],
   "source": []
  }
 ],
 "metadata": {
  "kernelspec": {
   "display_name": "Python 3",
   "language": "python",
   "name": "python3"
  },
  "language_info": {
   "codemirror_mode": {
    "name": "ipython",
    "version": 3
   },
   "file_extension": ".py",
   "mimetype": "text/x-python",
   "name": "python",
   "nbconvert_exporter": "python",
   "pygments_lexer": "ipython3",
   "version": "3.8.5"
  }
 },
 "nbformat": 4,
 "nbformat_minor": 5
}
