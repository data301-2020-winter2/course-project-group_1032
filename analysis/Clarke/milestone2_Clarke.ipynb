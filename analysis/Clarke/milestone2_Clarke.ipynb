{
 "cells": [
  {
   "cell_type": "code",
   "execution_count": 5,
   "id": "liberal-capital",
   "metadata": {},
   "outputs": [
    {
     "data": {
      "text/plain": [
       "<module 'project_functions' from 'C:\\\\Users\\\\Clarke\\\\Documents\\\\School Docs\\\\Third Year Homework\\\\DATA 301\\\\Data301-Project\\\\analysis\\\\Clarke\\\\..\\\\scripts\\\\project_functions.py'>"
      ]
     },
     "execution_count": 5,
     "metadata": {},
     "output_type": "execute_result"
    }
   ],
   "source": [
    "import pandas as pd \n",
    "import numpy as np\n",
    "import sys\n",
    "import importlib\n",
    "sys.path.append(sys.path[0] + \"\\..\\scripts\")\n",
    "import project_functions as pf\n",
    "importlib.reload(pf)"
   ]
  },
  {
   "cell_type": "code",
   "execution_count": 11,
   "id": "terminal-plant",
   "metadata": {},
   "outputs": [],
   "source": [
    "df= pf.load_and_process(\"../../Dataset.csv\")\n"
   ]
  },
  {
   "cell_type": "code",
   "execution_count": null,
   "id": "celtic-hazard",
   "metadata": {},
   "outputs": [],
   "source": []
  },
  {
   "cell_type": "markdown",
   "id": "excess-arbitration",
   "metadata": {},
   "source": [
    "---\n",
    "## Lets do some exploration of our dataset now\n",
    "\n",
    "\n",
    "\n",
    "Lets start by getting the general structure of our dataset"
   ]
  },
  {
   "cell_type": "code",
   "execution_count": 12,
   "id": "referenced-spanking",
   "metadata": {},
   "outputs": [
    {
     "data": {
      "text/html": [
       "<div>\n",
       "<style scoped>\n",
       "    .dataframe tbody tr th:only-of-type {\n",
       "        vertical-align: middle;\n",
       "    }\n",
       "\n",
       "    .dataframe tbody tr th {\n",
       "        vertical-align: top;\n",
       "    }\n",
       "\n",
       "    .dataframe thead th {\n",
       "        text-align: right;\n",
       "    }\n",
       "</style>\n",
       "<table border=\"1\" class=\"dataframe\">\n",
       "  <thead>\n",
       "    <tr style=\"text-align: right;\">\n",
       "      <th></th>\n",
       "      <th>Year</th>\n",
       "      <th>State</th>\n",
       "      <th>Division</th>\n",
       "      <th>County</th>\n",
       "      <th>Region</th>\n",
       "      <th>Population_Description</th>\n",
       "      <th>Offense</th>\n",
       "      <th>Offender_Race</th>\n",
       "      <th>Offender_Ethnicity</th>\n",
       "      <th>Offender_Age</th>\n",
       "      <th>Offender_Sex</th>\n",
       "      <th>Victim_Type</th>\n",
       "      <th>Location</th>\n",
       "      <th>Weapon</th>\n",
       "      <th>Property_Type</th>\n",
       "      <th>Stolen_Value</th>\n",
       "      <th>Recovered_Value</th>\n",
       "      <th>Recovered?</th>\n",
       "      <th>Recovery_Date</th>\n",
       "    </tr>\n",
       "  </thead>\n",
       "  <tbody>\n",
       "    <tr>\n",
       "      <th>87433</th>\n",
       "      <td>2013</td>\n",
       "      <td>Tennessee</td>\n",
       "      <td>East South Central</td>\n",
       "      <td>PUTNAM</td>\n",
       "      <td>South</td>\n",
       "      <td>Cities from 25,000 thru 49,999</td>\n",
       "      <td>Theft From Motor Vehicle</td>\n",
       "      <td>NaN</td>\n",
       "      <td>NaN</td>\n",
       "      <td>NaN</td>\n",
       "      <td>NaN</td>\n",
       "      <td>Business</td>\n",
       "      <td>Parking/Drop Lot/Garage</td>\n",
       "      <td>NaN</td>\n",
       "      <td>Clothes/ Furs</td>\n",
       "      <td>1765.0</td>\n",
       "      <td>0.0</td>\n",
       "      <td>N</td>\n",
       "      <td>NaN</td>\n",
       "    </tr>\n",
       "    <tr>\n",
       "      <th>82563</th>\n",
       "      <td>2013</td>\n",
       "      <td>Virginia</td>\n",
       "      <td>South Atlantic</td>\n",
       "      <td>HENRY</td>\n",
       "      <td>South</td>\n",
       "      <td>Non-MSA counties from 25,000 thru 99,999</td>\n",
       "      <td>All Other Larceny</td>\n",
       "      <td>White</td>\n",
       "      <td>NaN</td>\n",
       "      <td>25.0</td>\n",
       "      <td>M</td>\n",
       "      <td>Individual</td>\n",
       "      <td>Service/Gas Station</td>\n",
       "      <td>NaN</td>\n",
       "      <td>Trailers</td>\n",
       "      <td>17500.0</td>\n",
       "      <td>17500.0</td>\n",
       "      <td>Y</td>\n",
       "      <td>03-Apr-13</td>\n",
       "    </tr>\n",
       "    <tr>\n",
       "      <th>28695</th>\n",
       "      <td>2013</td>\n",
       "      <td>Michigan</td>\n",
       "      <td>East North Central</td>\n",
       "      <td>WAYNE</td>\n",
       "      <td>Midwest</td>\n",
       "      <td>Cities from 50,000 thru 99,999</td>\n",
       "      <td>Embezzlement</td>\n",
       "      <td>White</td>\n",
       "      <td>NaN</td>\n",
       "      <td>30.0</td>\n",
       "      <td>M</td>\n",
       "      <td>Business</td>\n",
       "      <td>Highway/Road/Alley/Street/Sidewalk</td>\n",
       "      <td>Firearm (Automatic)</td>\n",
       "      <td>Money</td>\n",
       "      <td>49000.0</td>\n",
       "      <td>49000.0</td>\n",
       "      <td>Y</td>\n",
       "      <td>27-Jul-13</td>\n",
       "    </tr>\n",
       "    <tr>\n",
       "      <th>28696</th>\n",
       "      <td>2013</td>\n",
       "      <td>Michigan</td>\n",
       "      <td>East North Central</td>\n",
       "      <td>WAYNE</td>\n",
       "      <td>Midwest</td>\n",
       "      <td>Cities from 50,000 thru 99,999</td>\n",
       "      <td>Embezzlement</td>\n",
       "      <td>White</td>\n",
       "      <td>NaN</td>\n",
       "      <td>31.0</td>\n",
       "      <td>M</td>\n",
       "      <td>Business</td>\n",
       "      <td>Highway/Road/Alley/Street/Sidewalk</td>\n",
       "      <td>Firearm (Automatic)</td>\n",
       "      <td>Money</td>\n",
       "      <td>49000.0</td>\n",
       "      <td>49000.0</td>\n",
       "      <td>Y</td>\n",
       "      <td>27-Jul-13</td>\n",
       "    </tr>\n",
       "    <tr>\n",
       "      <th>60314</th>\n",
       "      <td>2013</td>\n",
       "      <td>South Carolina</td>\n",
       "      <td>South Atlantic</td>\n",
       "      <td>HORRY</td>\n",
       "      <td>South</td>\n",
       "      <td>MSA counties 100,000 or over</td>\n",
       "      <td>All Other Larceny</td>\n",
       "      <td>NaN</td>\n",
       "      <td>NaN</td>\n",
       "      <td>NaN</td>\n",
       "      <td>NaN</td>\n",
       "      <td>Business</td>\n",
       "      <td>Specialty Store</td>\n",
       "      <td>NaN</td>\n",
       "      <td>Other</td>\n",
       "      <td>6500.0</td>\n",
       "      <td>0.0</td>\n",
       "      <td>N</td>\n",
       "      <td>NaN</td>\n",
       "    </tr>\n",
       "  </tbody>\n",
       "</table>\n",
       "</div>"
      ],
      "text/plain": [
       "       Year           State            Division  County   Region  \\\n",
       "87433  2013       Tennessee  East South Central  PUTNAM    South   \n",
       "82563  2013        Virginia      South Atlantic   HENRY    South   \n",
       "28695  2013        Michigan  East North Central   WAYNE  Midwest   \n",
       "28696  2013        Michigan  East North Central   WAYNE  Midwest   \n",
       "60314  2013  South Carolina      South Atlantic   HORRY    South   \n",
       "\n",
       "                         Population_Description                   Offense  \\\n",
       "87433            Cities from 25,000 thru 49,999  Theft From Motor Vehicle   \n",
       "82563  Non-MSA counties from 25,000 thru 99,999         All Other Larceny   \n",
       "28695            Cities from 50,000 thru 99,999              Embezzlement   \n",
       "28696            Cities from 50,000 thru 99,999              Embezzlement   \n",
       "60314              MSA counties 100,000 or over         All Other Larceny   \n",
       "\n",
       "      Offender_Race Offender_Ethnicity  Offender_Age Offender_Sex Victim_Type  \\\n",
       "87433           NaN                NaN           NaN          NaN    Business   \n",
       "82563         White                NaN          25.0            M  Individual   \n",
       "28695         White                NaN          30.0            M    Business   \n",
       "28696         White                NaN          31.0            M    Business   \n",
       "60314           NaN                NaN           NaN          NaN    Business   \n",
       "\n",
       "                                 Location               Weapon  Property_Type  \\\n",
       "87433             Parking/Drop Lot/Garage                  NaN  Clothes/ Furs   \n",
       "82563                 Service/Gas Station                  NaN       Trailers   \n",
       "28695  Highway/Road/Alley/Street/Sidewalk  Firearm (Automatic)          Money   \n",
       "28696  Highway/Road/Alley/Street/Sidewalk  Firearm (Automatic)          Money   \n",
       "60314                     Specialty Store                  NaN          Other   \n",
       "\n",
       "       Stolen_Value  Recovered_Value Recovered? Recovery_Date  \n",
       "87433        1765.0              0.0          N           NaN  \n",
       "82563       17500.0          17500.0          Y     03-Apr-13  \n",
       "28695       49000.0          49000.0          Y     27-Jul-13  \n",
       "28696       49000.0          49000.0          Y     27-Jul-13  \n",
       "60314        6500.0              0.0          N           NaN  "
      ]
     },
     "execution_count": 12,
     "metadata": {},
     "output_type": "execute_result"
    }
   ],
   "source": [
    "df.head()"
   ]
  },
  {
   "cell_type": "markdown",
   "id": "closing-forty",
   "metadata": {},
   "source": [
    "We see our dataset contains 19 columns of interesting variables and is being sorted by the year of occurence starting in 2013\n",
    "\n",
    "Lets see how many rows we have..."
   ]
  },
  {
   "cell_type": "code",
   "execution_count": 13,
   "id": "clinical-turner",
   "metadata": {},
   "outputs": [
    {
     "name": "stdout",
     "output_type": "stream",
     "text": [
      "We have 21069 rows\n",
      "\n",
      "\n",
      "\n"
     ]
    }
   ],
   "source": [
    "print(\"We have {} rows\\n\\n\\n\".format(df[\"Year\"].count()))"
   ]
  },
  {
   "cell_type": "markdown",
   "id": "behavioral-generic",
   "metadata": {},
   "source": [
    "Now lets take a look at some of the largest and smallest values of some of the columns were interested in...\n",
    "\n",
    "I am interested in looking at some of the values that were stolen, we know from our import that we are limiting the dataset to values of goods stolen to be greater than 1000 so this would be assumed to be the minimum. Lets look at the maximum then: "
   ]
  },
  {
   "cell_type": "code",
   "execution_count": 14,
   "id": "chronic-money",
   "metadata": {},
   "outputs": [
    {
     "name": "stdout",
     "output_type": "stream",
     "text": [
      "The maximum value of goods stolen was: 999999.0\n",
      "\n",
      "\n",
      "\n"
     ]
    }
   ],
   "source": [
    "print(\"The maximum value of goods stolen was: {}\\n\\n\\n\".format(df[\"Stolen_Value\"].max()))\n",
    "#Thats expensive"
   ]
  },
  {
   "cell_type": "markdown",
   "id": "ordinary-beginning",
   "metadata": {},
   "source": [
    "How about the average cost of goods stolen?"
   ]
  },
  {
   "cell_type": "code",
   "execution_count": 15,
   "id": "competent-respect",
   "metadata": {},
   "outputs": [
    {
     "name": "stdout",
     "output_type": "stream",
     "text": [
      "The average value of goods stolen was: 18700.58678627367\n",
      "\n",
      "\n",
      "\n"
     ]
    }
   ],
   "source": [
    "print(\"The average value of goods stolen was: {}\\n\\n\\n\".format(df[\"Stolen_Value\"].mean()))"
   ]
  },
  {
   "cell_type": "markdown",
   "id": "vertical-hello",
   "metadata": {},
   "source": [
    "---\n",
    "## Lets take a look at the regions given in the dataframe and compare them\n",
    "\n",
    "The regions in our data set can be seen to cover the following area\n",
    "\n",
    "![Image](../../images/regionsmapFBI.gif)\n",
    "\n",
    "*Image taken from https://ucr.fbi.gov/crime-in-the-u.s/2011/crime-in-the-u.s.-2011/area-definitions*\n",
    "\n",
    "### First lets see which area has the most crime"
   ]
  },
  {
   "cell_type": "code",
   "execution_count": 16,
   "id": "social-investigation",
   "metadata": {},
   "outputs": [
    {
     "name": "stdout",
     "output_type": "stream",
     "text": [
      "We see from the graph that clearly the South region has the most crime\n",
      "\n"
     ]
    },
    {
     "data": {
      "image/png": "[encoded data removed]",
      "text/plain": [
       "<Figure size 432x288 with 1 Axes>"
      ]
     },
     "metadata": {
      "needs_background": "light"
     },
     "output_type": "display_data"
    }
   ],
   "source": [
    "def theft_by_area(dataFrame):\n",
    "    import matplotlib.pyplot as plt\n",
    "    import seaborn as sns\n",
    "    \n",
    "    theft=sns.countplot(x=\"Region\",data=dataFrame,palette='colorblind')\n",
    "    \n",
    "theft_by_area(df)\n",
    "\n",
    "print(\"We see from the graph that clearly the South region has the most crime\\n\")"
   ]
  },
  {
   "cell_type": "code",
   "execution_count": 17,
   "id": "parallel-sauce",
   "metadata": {},
   "outputs": [
    {
     "name": "stdout",
     "output_type": "stream",
     "text": [
      "Looking at the percentages, the South region has more crime than all the other regions combined\n",
      "\n"
     ]
    },
    {
     "data": {
      "image/png": "[encoded data removed]",
      "text/plain": [
       "<Figure size 432x288 with 1 Axes>"
      ]
     },
     "metadata": {},
     "output_type": "display_data"
    }
   ],
   "source": [
    "def theft_by_area_pie(dataFrame):\n",
    "    import matplotlib.pyplot as plt\n",
    "    import seaborn as sns\n",
    "    \n",
    "    pie_graph=plt.pie(dataFrame[\"Region\"].value_counts(),labels=dataFrame[\"Region\"].value_counts().iloc[:4].index,autopct='%1.1f%%')\n",
    "    \n",
    "theft_by_area_pie(df)\n",
    "\n",
    "print(\"Looking at the percentages, the South region has more crime than all the other regions combined\\n\")"
   ]
  },
  {
   "cell_type": "markdown",
   "id": "rough-stewart",
   "metadata": {},
   "source": [
    "Lets take a look at the values of goods stolen on average from those areas\n"
   ]
  },
  {
   "cell_type": "code",
   "execution_count": 18,
   "id": "internal-subsection",
   "metadata": {},
   "outputs": [
    {
     "data": {
      "image/png": "[encoded data removed]",
      "text/plain": [
       "<Figure size 432x288 with 1 Axes>"
      ]
     },
     "metadata": {
      "needs_background": "light"
     },
     "output_type": "display_data"
    }
   ],
   "source": [
    "def averages_values_stolen_by_area(dataFrame):\n",
    "    import matplotlib.pyplot as plt\n",
    "    import seaborn as sns\n",
    "    \n",
    "    aerage_value=sns.barplot(x=\"Region\",y=\"Stolen_Value\",data=dataFrame,palette='colorblind')\n",
    "    \n",
    "averages_values_stolen_by_area(df)"
   ]
  },
  {
   "cell_type": "markdown",
   "id": "dried-diagram",
   "metadata": {},
   "source": [
    "Again we see that the South Region has the most value on average that has been stolen. "
   ]
  },
  {
   "cell_type": "markdown",
   "id": "iraqi-column",
   "metadata": {},
   "source": [
    "---\n",
    "### We could also take a look at the most common items stollen\n",
    "\n",
    "\n",
    "Lets start by looking at the top 5 items that are stollen from all areas"
   ]
  },
  {
   "cell_type": "code",
   "execution_count": 22,
   "id": "northern-examination",
   "metadata": {},
   "outputs": [
    {
     "data": {
      "image/png": "[encoded data removed]",
      "text/plain": [
       "<Figure size 432x288 with 1 Axes>"
      ]
     },
     "metadata": {
      "needs_background": "light"
     },
     "output_type": "display_data"
    }
   ],
   "source": [
    "\n",
    "def top_5_stolen(dataframe):\n",
    "    import matplotlib.pyplot as plt\n",
    "    import seaborn as sns\n",
    "    unique5_items=dataframe[\"Property_Type\"].value_counts().iloc[:5].index\n",
    "    top_5=sns.countplot(x=\"Property_Type\",data=dataframe,order=unique5_items,palette='colorblind')\n",
    "    \n",
    "top_5_stolen(df)\n",
    "\n",
    "\n",
    "\n"
   ]
  },
  {
   "cell_type": "markdown",
   "id": "corporate-award",
   "metadata": {},
   "source": [
    "**We see that the most commonly stolen item is an automobile category**\n",
    "\n",
    "If we take a look at the average value of theses for 5 items that has been stolen and include items that were or weren't recovered (while ignoring the outliers again) "
   ]
  },
  {
   "cell_type": "code",
   "execution_count": 21,
   "id": "preliminary-belarus",
   "metadata": {},
   "outputs": [
    {
     "data": {
      "image/png": "[encoded data removed]",
      "text/plain": [
       "<Figure size 432x288 with 1 Axes>"
      ]
     },
     "metadata": {
      "needs_background": "light"
     },
     "output_type": "display_data"
    }
   ],
   "source": [
    "def average_value_top_5_stolen(dataFrame):\n",
    "    import matplotlib.pyplot as plt\n",
    "    import seaborn as sns\n",
    "    unique5_items=dataFrame[\"Property_Type\"].value_counts().iloc[:5].index\n",
    "    average_top_5=sns.barplot(x=\"Property_Type\",y=\"Stolen_Value\",hue=\"Recovered?\",data=dataFrame,order=unique5_items,palette='colorblind')\n",
    "\n",
    "\n",
    "average_value_top_5_stolen(df_without_outliers)"
   ]
  },
  {
   "cell_type": "markdown",
   "id": "global-consensus",
   "metadata": {},
   "source": [
    "Interestingly, although Automobile is most commonly stolen it is not the heightest average value for goods stolen within these top 5"
   ]
  },
  {
   "cell_type": "code",
   "execution_count": null,
   "id": "widespread-prize",
   "metadata": {},
   "outputs": [],
   "source": []
  }
 ],
 "metadata": {
  "kernelspec": {
   "display_name": "Python 3",
   "language": "python",
   "name": "python3"
  },
  "language_info": {
   "codemirror_mode": {
    "name": "ipython",
    "version": 3
   },
   "file_extension": ".py",
   "mimetype": "text/x-python",
   "name": "python",
   "nbconvert_exporter": "python",
   "pygments_lexer": "ipython3",
   "version": "3.8.5"
  }
 },
 "nbformat": 4,
 "nbformat_minor": 5
}
