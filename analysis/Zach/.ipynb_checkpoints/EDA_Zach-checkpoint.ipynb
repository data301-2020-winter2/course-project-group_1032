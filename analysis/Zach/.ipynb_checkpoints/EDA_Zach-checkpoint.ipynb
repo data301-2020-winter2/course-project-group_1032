{
 "cells": [
  {
   "cell_type": "markdown",
   "id": "quantitative-finder",
   "metadata": {},
   "source": [
    "### Exploratory Data Analysis: FBI Crime Database\n",
    "*Zach Prenovost*"
   ]
  },
  {
   "cell_type": "markdown",
   "id": "emotional-premium",
   "metadata": {},
   "source": [
    "First off we are going to import our method chaining function to get our reduced, usuable data set:"
   ]
  },
  {
   "cell_type": "code",
   "execution_count": 2,
   "id": "honey-appraisal",
   "metadata": {},
   "outputs": [
    {
     "data": {
      "text/plain": [
       "<module 'project_functions' from '/Users/zachprenovost/School/data301/FinalProject/public/course-project-group_1032/analysis/Zach/../scripts/project_functions.py'>"
      ]
     },
     "execution_count": 2,
     "metadata": {},
     "output_type": "execute_result"
    }
   ],
   "source": [
    "import matplotlib.pylab as plt\n",
    "import seaborn as sns\n",
    "import pandas as pd\n",
    "import numpy as np\n",
    "import sys\n",
    "import importlib\n",
    "\n",
    "# remove comment below and add comment 2 lines below if on windows\n",
    "# sys.path.append(sys.path[0] + \"\\\\..\\\\scripts\")\n",
    "sys.path.append(sys.path[0] + \"/../scripts\")\n",
    "\n",
    "import project_functions as pf\n",
    "importlib.reload(pf)"
   ]
  },
  {
   "cell_type": "code",
   "execution_count": 3,
   "id": "spanish-omega",
   "metadata": {},
   "outputs": [],
   "source": [
    "df = pf.load_and_process(\"../../Dataset.csv\")"
   ]
  },
  {
   "cell_type": "markdown",
   "id": "descending-protest",
   "metadata": {},
   "source": [
    "**So we've got our data. what now?**\n",
    "lets start by looking at some of the attributes of our dataset."
   ]
  },
  {
   "cell_type": "code",
   "execution_count": 5,
   "id": "ethical-policy",
   "metadata": {},
   "outputs": [
    {
     "name": "stdout",
     "output_type": "stream",
     "text": [
      "shape: (21069, 19)\n",
      "Columns: Index(['Year', 'State', 'Division', 'County', 'Region',\n",
      "       'Population_Description', 'Offense', 'Offender_Race',\n",
      "       'Offender_Ethnicity', 'Offender_Age', 'Offender_Sex', 'Victim_Type',\n",
      "       'Location', 'Weapon', 'Property_Type', 'Stolen_Value',\n",
      "       'Recovered_Value', 'Recovered?', 'Recovery_Date'],\n",
      "      dtype='object')\n"
     ]
    }
   ],
   "source": [
    "print('shape: {}'.format(df.shape))\n",
    "print('Columns: {}'.format(df.columns))"
   ]
  },
  {
   "cell_type": "markdown",
   "id": "delayed-bouquet",
   "metadata": {},
   "source": [
    "The `df.shape` function gives us the dimensions of our dataset. after using it we can see that there are 21,111 rows and 19 columns. \n",
    "\n",
    "the `df.columns` function gives us the names of all the columns included in the data set. \n",
    "\n",
    "Now lets look at what this dataset looks like: df.head will give us a look at the first five entries."
   ]
  },
  {
   "cell_type": "code",
   "execution_count": 6,
   "id": "fifty-proof",
   "metadata": {},
   "outputs": [
    {
     "data": {
      "text/html": [
       "<div>\n",
       "<style scoped>\n",
       "    .dataframe tbody tr th:only-of-type {\n",
       "        vertical-align: middle;\n",
       "    }\n",
       "\n",
       "    .dataframe tbody tr th {\n",
       "        vertical-align: top;\n",
       "    }\n",
       "\n",
       "    .dataframe thead th {\n",
       "        text-align: right;\n",
       "    }\n",
       "</style>\n",
       "<table border=\"1\" class=\"dataframe\">\n",
       "  <thead>\n",
       "    <tr style=\"text-align: right;\">\n",
       "      <th></th>\n",
       "      <th>Year</th>\n",
       "      <th>State</th>\n",
       "      <th>Division</th>\n",
       "      <th>County</th>\n",
       "      <th>Region</th>\n",
       "      <th>Population_Description</th>\n",
       "      <th>Offense</th>\n",
       "      <th>Offender_Race</th>\n",
       "      <th>Offender_Ethnicity</th>\n",
       "      <th>Offender_Age</th>\n",
       "      <th>Offender_Sex</th>\n",
       "      <th>Victim_Type</th>\n",
       "      <th>Location</th>\n",
       "      <th>Weapon</th>\n",
       "      <th>Property_Type</th>\n",
       "      <th>Stolen_Value</th>\n",
       "      <th>Recovered_Value</th>\n",
       "      <th>Recovered?</th>\n",
       "      <th>Recovery_Date</th>\n",
       "    </tr>\n",
       "  </thead>\n",
       "  <tbody>\n",
       "    <tr>\n",
       "      <th>87433</th>\n",
       "      <td>2013</td>\n",
       "      <td>Tennessee</td>\n",
       "      <td>East South Central</td>\n",
       "      <td>PUTNAM</td>\n",
       "      <td>South</td>\n",
       "      <td>Cities from 25,000 thru 49,999</td>\n",
       "      <td>Theft From Motor Vehicle</td>\n",
       "      <td>NaN</td>\n",
       "      <td>NaN</td>\n",
       "      <td>NaN</td>\n",
       "      <td>NaN</td>\n",
       "      <td>Business</td>\n",
       "      <td>Parking/Drop Lot/Garage</td>\n",
       "      <td>NaN</td>\n",
       "      <td>Clothes/ Furs</td>\n",
       "      <td>1765.0</td>\n",
       "      <td>0.0</td>\n",
       "      <td>N</td>\n",
       "      <td>NaN</td>\n",
       "    </tr>\n",
       "    <tr>\n",
       "      <th>82563</th>\n",
       "      <td>2013</td>\n",
       "      <td>Virginia</td>\n",
       "      <td>South Atlantic</td>\n",
       "      <td>HENRY</td>\n",
       "      <td>South</td>\n",
       "      <td>Non-MSA counties from 25,000 thru 99,999</td>\n",
       "      <td>All Other Larceny</td>\n",
       "      <td>White</td>\n",
       "      <td>NaN</td>\n",
       "      <td>25.0</td>\n",
       "      <td>M</td>\n",
       "      <td>Individual</td>\n",
       "      <td>Service/Gas Station</td>\n",
       "      <td>NaN</td>\n",
       "      <td>Trailers</td>\n",
       "      <td>17500.0</td>\n",
       "      <td>17500.0</td>\n",
       "      <td>Y</td>\n",
       "      <td>03-Apr-13</td>\n",
       "    </tr>\n",
       "    <tr>\n",
       "      <th>28695</th>\n",
       "      <td>2013</td>\n",
       "      <td>Michigan</td>\n",
       "      <td>East North Central</td>\n",
       "      <td>WAYNE</td>\n",
       "      <td>Midwest</td>\n",
       "      <td>Cities from 50,000 thru 99,999</td>\n",
       "      <td>Embezzlement</td>\n",
       "      <td>White</td>\n",
       "      <td>NaN</td>\n",
       "      <td>30.0</td>\n",
       "      <td>M</td>\n",
       "      <td>Business</td>\n",
       "      <td>Highway/Road/Alley/Street/Sidewalk</td>\n",
       "      <td>Firearm (Automatic)</td>\n",
       "      <td>Money</td>\n",
       "      <td>49000.0</td>\n",
       "      <td>49000.0</td>\n",
       "      <td>Y</td>\n",
       "      <td>27-Jul-13</td>\n",
       "    </tr>\n",
       "    <tr>\n",
       "      <th>28696</th>\n",
       "      <td>2013</td>\n",
       "      <td>Michigan</td>\n",
       "      <td>East North Central</td>\n",
       "      <td>WAYNE</td>\n",
       "      <td>Midwest</td>\n",
       "      <td>Cities from 50,000 thru 99,999</td>\n",
       "      <td>Embezzlement</td>\n",
       "      <td>White</td>\n",
       "      <td>NaN</td>\n",
       "      <td>31.0</td>\n",
       "      <td>M</td>\n",
       "      <td>Business</td>\n",
       "      <td>Highway/Road/Alley/Street/Sidewalk</td>\n",
       "      <td>Firearm (Automatic)</td>\n",
       "      <td>Money</td>\n",
       "      <td>49000.0</td>\n",
       "      <td>49000.0</td>\n",
       "      <td>Y</td>\n",
       "      <td>27-Jul-13</td>\n",
       "    </tr>\n",
       "    <tr>\n",
       "      <th>60314</th>\n",
       "      <td>2013</td>\n",
       "      <td>South Carolina</td>\n",
       "      <td>South Atlantic</td>\n",
       "      <td>HORRY</td>\n",
       "      <td>South</td>\n",
       "      <td>MSA counties 100,000 or over</td>\n",
       "      <td>All Other Larceny</td>\n",
       "      <td>NaN</td>\n",
       "      <td>NaN</td>\n",
       "      <td>NaN</td>\n",
       "      <td>NaN</td>\n",
       "      <td>Business</td>\n",
       "      <td>Specialty Store</td>\n",
       "      <td>NaN</td>\n",
       "      <td>Other</td>\n",
       "      <td>6500.0</td>\n",
       "      <td>0.0</td>\n",
       "      <td>N</td>\n",
       "      <td>NaN</td>\n",
       "    </tr>\n",
       "  </tbody>\n",
       "</table>\n",
       "</div>"
      ],
      "text/plain": [
       "       Year           State            Division  County   Region  \\\n",
       "87433  2013       Tennessee  East South Central  PUTNAM    South   \n",
       "82563  2013        Virginia      South Atlantic   HENRY    South   \n",
       "28695  2013        Michigan  East North Central   WAYNE  Midwest   \n",
       "28696  2013        Michigan  East North Central   WAYNE  Midwest   \n",
       "60314  2013  South Carolina      South Atlantic   HORRY    South   \n",
       "\n",
       "                         Population_Description                   Offense  \\\n",
       "87433            Cities from 25,000 thru 49,999  Theft From Motor Vehicle   \n",
       "82563  Non-MSA counties from 25,000 thru 99,999         All Other Larceny   \n",
       "28695            Cities from 50,000 thru 99,999              Embezzlement   \n",
       "28696            Cities from 50,000 thru 99,999              Embezzlement   \n",
       "60314              MSA counties 100,000 or over         All Other Larceny   \n",
       "\n",
       "      Offender_Race Offender_Ethnicity  Offender_Age Offender_Sex Victim_Type  \\\n",
       "87433           NaN                NaN           NaN          NaN    Business   \n",
       "82563         White                NaN          25.0            M  Individual   \n",
       "28695         White                NaN          30.0            M    Business   \n",
       "28696         White                NaN          31.0            M    Business   \n",
       "60314           NaN                NaN           NaN          NaN    Business   \n",
       "\n",
       "                                 Location               Weapon  Property_Type  \\\n",
       "87433             Parking/Drop Lot/Garage                  NaN  Clothes/ Furs   \n",
       "82563                 Service/Gas Station                  NaN       Trailers   \n",
       "28695  Highway/Road/Alley/Street/Sidewalk  Firearm (Automatic)          Money   \n",
       "28696  Highway/Road/Alley/Street/Sidewalk  Firearm (Automatic)          Money   \n",
       "60314                     Specialty Store                  NaN          Other   \n",
       "\n",
       "       Stolen_Value  Recovered_Value Recovered? Recovery_Date  \n",
       "87433        1765.0              0.0          N           NaN  \n",
       "82563       17500.0          17500.0          Y     03-Apr-13  \n",
       "28695       49000.0          49000.0          Y     27-Jul-13  \n",
       "28696       49000.0          49000.0          Y     27-Jul-13  \n",
       "60314        6500.0              0.0          N           NaN  "
      ]
     },
     "execution_count": 6,
     "metadata": {},
     "output_type": "execute_result"
    }
   ],
   "source": [
    "df.head()"
   ]
  },
  {
   "cell_type": "markdown",
   "id": "anonymous-warner",
   "metadata": {},
   "source": [
    "# Next we want to gain an understanding of some of the different variables in the dataset\n",
    "\n",
    "`df.nunique` will return the count of unique values associated with each collumn, already from this we can determine a number of things about our data set"
   ]
  },
  {
   "cell_type": "code",
   "execution_count": 7,
   "id": "european-bumper",
   "metadata": {},
   "outputs": [
    {
     "data": {
      "text/plain": [
       "Year                         7\n",
       "State                       40\n",
       "Division                     9\n",
       "County                     674\n",
       "Region                       4\n",
       "Population_Description      17\n",
       "Offense                     33\n",
       "Offender_Race                6\n",
       "Offender_Ethnicity           3\n",
       "Offender_Age                73\n",
       "Offender_Sex                 3\n",
       "Victim_Type                  9\n",
       "Location                    44\n",
       "Weapon                      12\n",
       "Property_Type               62\n",
       "Stolen_Value              2698\n",
       "Recovered_Value            457\n",
       "Recovered?                   2\n",
       "Recovery_Date             1235\n",
       "dtype: int64"
      ]
     },
     "execution_count": 7,
     "metadata": {},
     "output_type": "execute_result"
    }
   ],
   "source": [
    "df.nunique(axis=0)"
   ]
  },
  {
   "cell_type": "markdown",
   "id": "broadband-sherman",
   "metadata": {},
   "source": [
    "**from this we can gather:**\n",
    "* we have data entries from 7 unique years \n",
    "* 40 different states\n",
    "* there were over 33 different offenses listed \n",
    "* and over 12 different options for type of weapon used\n",
    "\n",
    "We can come back to this later when trying to answer our reasearch questions. it will be useful.\n",
    "\n",
    "Next lets use `.describe()` to look at the count, mean, standard deviation, min, and max for the numeric variables in our data set."
   ]
  },
  {
   "cell_type": "code",
   "execution_count": 8,
   "id": "smaller-replication",
   "metadata": {},
   "outputs": [
    {
     "data": {
      "text/html": [
       "<div>\n",
       "<style scoped>\n",
       "    .dataframe tbody tr th:only-of-type {\n",
       "        vertical-align: middle;\n",
       "    }\n",
       "\n",
       "    .dataframe tbody tr th {\n",
       "        vertical-align: top;\n",
       "    }\n",
       "\n",
       "    .dataframe thead th {\n",
       "        text-align: right;\n",
       "    }\n",
       "</style>\n",
       "<table border=\"1\" class=\"dataframe\">\n",
       "  <thead>\n",
       "    <tr style=\"text-align: right;\">\n",
       "      <th></th>\n",
       "      <th>Year</th>\n",
       "      <th>Offender_Age</th>\n",
       "      <th>Stolen_Value</th>\n",
       "      <th>Recovered_Value</th>\n",
       "    </tr>\n",
       "  </thead>\n",
       "  <tbody>\n",
       "    <tr>\n",
       "      <th>count</th>\n",
       "      <td>21069.000000</td>\n",
       "      <td>8441.000000</td>\n",
       "      <td>21069.000000</td>\n",
       "      <td>20270.000000</td>\n",
       "    </tr>\n",
       "    <tr>\n",
       "      <th>mean</th>\n",
       "      <td>2016.780151</td>\n",
       "      <td>32.567231</td>\n",
       "      <td>18700.586786</td>\n",
       "      <td>6299.519339</td>\n",
       "    </tr>\n",
       "    <tr>\n",
       "      <th>std</th>\n",
       "      <td>1.966321</td>\n",
       "      <td>12.762746</td>\n",
       "      <td>51723.972002</td>\n",
       "      <td>30105.870148</td>\n",
       "    </tr>\n",
       "    <tr>\n",
       "      <th>min</th>\n",
       "      <td>2013.000000</td>\n",
       "      <td>0.000000</td>\n",
       "      <td>1001.000000</td>\n",
       "      <td>0.000000</td>\n",
       "    </tr>\n",
       "    <tr>\n",
       "      <th>25%</th>\n",
       "      <td>2015.000000</td>\n",
       "      <td>23.000000</td>\n",
       "      <td>2000.000000</td>\n",
       "      <td>0.000000</td>\n",
       "    </tr>\n",
       "    <tr>\n",
       "      <th>50%</th>\n",
       "      <td>2017.000000</td>\n",
       "      <td>31.000000</td>\n",
       "      <td>4500.000000</td>\n",
       "      <td>0.000000</td>\n",
       "    </tr>\n",
       "    <tr>\n",
       "      <th>75%</th>\n",
       "      <td>2019.000000</td>\n",
       "      <td>41.000000</td>\n",
       "      <td>15000.000000</td>\n",
       "      <td>1.000000</td>\n",
       "    </tr>\n",
       "    <tr>\n",
       "      <th>max</th>\n",
       "      <td>2019.000000</td>\n",
       "      <td>99.000000</td>\n",
       "      <td>999999.000000</td>\n",
       "      <td>800000.000000</td>\n",
       "    </tr>\n",
       "  </tbody>\n",
       "</table>\n",
       "</div>"
      ],
      "text/plain": [
       "               Year Offender_Age   Stolen_Value Recovered_Value\n",
       "count  21069.000000  8441.000000   21069.000000    20270.000000\n",
       "mean    2016.780151    32.567231   18700.586786     6299.519339\n",
       "std        1.966321    12.762746   51723.972002    30105.870148\n",
       "min     2013.000000     0.000000    1001.000000        0.000000\n",
       "25%     2015.000000    23.000000    2000.000000        0.000000\n",
       "50%     2017.000000    31.000000    4500.000000        0.000000\n",
       "75%     2019.000000    41.000000   15000.000000        1.000000\n",
       "max     2019.000000    99.000000  999999.000000   800000.000000"
      ]
     },
     "execution_count": 8,
     "metadata": {},
     "output_type": "execute_result"
    }
   ],
   "source": [
    "df.describe().apply(lambda s: s.apply(lambda x: format(x, 'f')))"
   ]
  },
  {
   "cell_type": "markdown",
   "id": "chronic-offer",
   "metadata": {},
   "source": [
    "Awesome! by using `df.describe` we gathered that the average value stolen was 39,663.86, the most stolen was 250,000,000 dollars. sheesh thats a lot. we also learned other things, like the average age of the offenders in our database\n",
    "\n",
    "**now im going to look at some of the unique entries we talked about earlier, lets look at the crimes in particular!**"
   ]
  },
  {
   "cell_type": "code",
   "execution_count": 9,
   "id": "moving-expression",
   "metadata": {},
   "outputs": [
    {
     "data": {
      "text/plain": [
       "array(['Theft From Motor Vehicle', 'All Other Larceny', 'Embezzlement',\n",
       "       'Weapon Law Violations', 'Motor Vehicle Theft',\n",
       "       'False Pretenses/Swindle/Confidence Game',\n",
       "       'Destruction/Damage/Vandalism of Property',\n",
       "       'Burglary/Breaking & Entering',\n",
       "       'Credit Card/Automated Teller Machine Fraud',\n",
       "       'Theft of Motor Vehicle Parts or Accessories',\n",
       "       'Theft From Building', 'Robbery', 'Rape',\n",
       "       'Drug/Narcotic Violations', 'Impersonation',\n",
       "       'Kidnapping/Abduction', 'Simple Assault',\n",
       "       'Stolen Property Offenses', 'Wire Fraud', 'Counterfeiting/Forgery',\n",
       "       'Murder and Nonnegligent Manslaughter', 'Shoplifting',\n",
       "       'Intimidation', 'Extortion/Blackmail', 'Arson',\n",
       "       'Drug Equipment Violations', 'Identity Theft',\n",
       "       'Aggravated Assault', 'Sexual Assault With An Object',\n",
       "       'Pocket-picking', 'Purse-snatching',\n",
       "       'Pornography/Obscene Material',\n",
       "       'Human Trafficking, Involuntary Servitude'], dtype=object)"
      ]
     },
     "execution_count": 9,
     "metadata": {},
     "output_type": "execute_result"
    }
   ],
   "source": [
    "df.Offense.unique()"
   ]
  },
  {
   "cell_type": "markdown",
   "id": "hourly-immunology",
   "metadata": {},
   "source": [
    "we can use this function to look at all of our columns unique entries, lets look at weapons next. "
   ]
  },
  {
   "cell_type": "code",
   "execution_count": 10,
   "id": "tired-friday",
   "metadata": {},
   "outputs": [
    {
     "data": {
      "text/plain": [
       "array([nan, 'Firearm (Automatic)', 'Handgun', 'Handgun (Automatic)',\n",
       "       'Firearm', 'None', 'Unknown', 'Rifle', 'Personal Weapons',\n",
       "       'Blunt Object', 'Knife/Cutting Instrument', 'Other',\n",
       "       'Motor Vehicle/Vessel'], dtype=object)"
      ]
     },
     "execution_count": 10,
     "metadata": {},
     "output_type": "execute_result"
    }
   ],
   "source": [
    "df.Weapon.unique()"
   ]
  },
  {
   "cell_type": "markdown",
   "id": "spoken-butler",
   "metadata": {},
   "source": [
    "lets do this some more"
   ]
  },
  {
   "cell_type": "code",
   "execution_count": 11,
   "id": "artificial-pitch",
   "metadata": {},
   "outputs": [
    {
     "name": "stdout",
     "output_type": "stream",
     "text": [
      "['Tennessee' 'Virginia' 'Michigan' 'South Carolina' 'Florida'\n",
      " 'West Virginia' 'Arkansas' 'Delaware' 'Mississippi' 'North Dakota'\n",
      " 'Massachusetts' 'Texas' 'New Hampshire' 'Colorado' 'Oklahoma' 'Indiana'\n",
      " 'Montana' 'Vermont' 'Maine' 'South Dakota' 'Ohio' 'Maryland'\n",
      " 'Rhode Island' 'Georgia' 'Oregon' 'Nevada' 'Alaska' 'Kentucky'\n",
      " 'Minnesota' 'New Mexico' 'New Jersey' 'Utah' 'Arizona' 'Washington'\n",
      " 'Alabama' 'Idaho' 'North Carolina' 'Missouri' 'Nebraska' 'Hawaii']\n",
      "['Cities from 25,000 thru 49,999'\n",
      " 'Non-MSA counties from 25,000 thru 99,999'\n",
      " 'Cities from 50,000 thru 99,999' 'MSA counties 100,000 or over'\n",
      " 'MSA counties from 25,000 thru 99,999' 'Cities from 500,000 thru 999,999'\n",
      " 'Cities from 2,500 thru 9,999' 'Cities from 10,000 thru 24,999'\n",
      " 'Cities from 100,000 thru 249,999' 'MSA counties from 10,000 thru 24,999'\n",
      " 'MSA counties under 10,000' 'Non-MSA counties from 10,000 thru 24,999'\n",
      " 'Cities under 2,500' 'Non-MSA counties under 10,000'\n",
      " 'Cities from 250,000 thru 499,999' 'Cities 1,000,000 or over'\n",
      " 'Non-MSA State Police']\n"
     ]
    }
   ],
   "source": [
    "print(df.State.unique())\n",
    "\n",
    "print(df.Population_Description.unique())\n"
   ]
  },
  {
   "cell_type": "markdown",
   "id": "otherwise-wales",
   "metadata": {},
   "source": [
    "Next i am going to create some visuals to help us understand our data . \n",
    "\n",
    "the first plot i am going to create is a scatter plot. This will help us visualize where data points fall relative to each other. "
   ]
  },
  {
   "cell_type": "code",
   "execution_count": 13,
   "id": "reduced-soviet",
   "metadata": {},
   "outputs": [
    {
     "data": {
      "text/plain": [
       "<AxesSubplot:xlabel='Year', ylabel='Stolen_Value'>"
      ]
     },
     "execution_count": 13,
     "metadata": {},
     "output_type": "execute_result"
    },
    {
     "data": {
      "image/png": "[encoded data removed]",
      "text/plain": [
       "<Figure size 432x288 with 1 Axes>"
      ]
     },
     "metadata": {
      "needs_background": "light"
     },
     "output_type": "display_data"
    }
   ],
   "source": [
    "\n",
    "sns.violinplot(x='Year',y='Stolen_Value',data=df)"
   ]
  },
  {
   "cell_type": "markdown",
   "id": "catholic-shaft",
   "metadata": {},
   "source": [
    "after looking at the plot we can determine 2 things:\n",
    "1. the vast majority of our data is clustered together. \n",
    "2. there are some outliers amongst the data.\n",
    "\n",
    "lets get rid of those outliers so we have a more useful plot"
   ]
  },
  {
   "cell_type": "code",
   "execution_count": 20,
   "id": "substantial-services",
   "metadata": {},
   "outputs": [],
   "source": [
    "df2= df[df['Stolen_Value']<10000]"
   ]
  },
  {
   "cell_type": "code",
   "execution_count": 21,
   "id": "empirical-netscape",
   "metadata": {},
   "outputs": [
    {
     "data": {
      "text/plain": [
       "<AxesSubplot:xlabel='Year', ylabel='Stolen_Value'>"
      ]
     },
     "execution_count": 21,
     "metadata": {},
     "output_type": "execute_result"
    },
    {
     "data": {
      "image/png": "[encoded data removed]",
      "text/plain": [
       "<Figure size 432x288 with 1 Axes>"
      ]
     },
     "metadata": {
      "needs_background": "light"
     },
     "output_type": "display_data"
    }
   ],
   "source": [
    "sns.violinplot(x='Year',y='Stolen_Value',data=df2)"
   ]
  },
  {
   "cell_type": "markdown",
   "id": "light-collapse",
   "metadata": {},
   "source": [
    "now that we have set parameters on our data, speicifically capping the stolen value at $10,000 we can see the distribution across the 7 years much more clearly. We see the majority of which occurs just under 2000$ in each year"
   ]
  },
  {
   "cell_type": "markdown",
   "id": "educational-medication",
   "metadata": {},
   "source": [
    "now we can look at where the most crime is occuring: here is a bar graph of crime by region:"
   ]
  },
  {
   "cell_type": "code",
   "execution_count": 22,
   "id": "quantitative-appraisal",
   "metadata": {},
   "outputs": [
    {
     "data": {
      "text/plain": [
       "<AxesSubplot:xlabel='Region', ylabel='count'>"
      ]
     },
     "execution_count": 22,
     "metadata": {},
     "output_type": "execute_result"
    },
    {
     "data": {
      "image/png": "[encoded data removed]",
      "text/plain": [
       "<Figure size 432x288 with 1 Axes>"
      ]
     },
     "metadata": {
      "needs_background": "light"
     },
     "output_type": "display_data"
    }
   ],
   "source": [
    "sns.countplot( data = df, x ='Region' )"
   ]
  },
  {
   "cell_type": "markdown",
   "id": "convertible-interview",
   "metadata": {},
   "source": [
    "from this graph we can determine the vast majority of crime is occuring in the south region of the united states. "
   ]
  },
  {
   "cell_type": "code",
   "execution_count": null,
   "id": "olive-terror",
   "metadata": {},
   "outputs": [],
   "source": []
  },
  {
   "cell_type": "code",
   "execution_count": null,
   "id": "sustainable-messenger",
   "metadata": {},
   "outputs": [],
   "source": []
  }
 ],
 "metadata": {
  "kernelspec": {
   "display_name": "Python 3",
   "language": "python",
   "name": "python3"
  },
  "language_info": {
   "codemirror_mode": {
    "name": "ipython",
    "version": 3
   },
   "file_extension": ".py",
   "mimetype": "text/x-python",
   "name": "python",
   "nbconvert_exporter": "python",
   "pygments_lexer": "ipython3",
   "version": "3.8.5"
  }
 },
 "nbformat": 4,
 "nbformat_minor": 5
}
