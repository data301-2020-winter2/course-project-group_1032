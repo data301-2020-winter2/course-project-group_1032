{
 "cells": [
  {
   "cell_type": "markdown",
   "id": "southern-thanks",
   "metadata": {},
   "source": [
    "### Exploratory Data Analysis: FBI Crime Database\n",
    "*Zach Prenovost*"
   ]
  },
  {
   "cell_type": "markdown",
   "id": "instant-standard",
   "metadata": {},
   "source": [
    "First off we are going to import our method chaining function to get our reduced, usuable data set:"
   ]
  },
  {
   "cell_type": "code",
   "execution_count": 6,
   "id": "affected-syndrome",
   "metadata": {},
   "outputs": [
    {
     "ename": "ModuleNotFoundError",
     "evalue": "No module named 'project_functions'",
     "output_type": "error",
     "traceback": [
      "\u001b[0;31m---------------------------------------------------------------------------\u001b[0m",
      "\u001b[0;31mModuleNotFoundError\u001b[0m                       Traceback (most recent call last)",
      "\u001b[0;32m<ipython-input-6-2ad5ce4aac6e>\u001b[0m in \u001b[0;36m<module>\u001b[0;34m\u001b[0m\n\u001b[1;32m      6\u001b[0m \u001b[0msys\u001b[0m\u001b[0;34m.\u001b[0m\u001b[0mpath\u001b[0m\u001b[0;34m.\u001b[0m\u001b[0mappend\u001b[0m\u001b[0;34m(\u001b[0m\u001b[0msys\u001b[0m\u001b[0;34m.\u001b[0m\u001b[0mpath\u001b[0m\u001b[0;34m[\u001b[0m\u001b[0;36m0\u001b[0m\u001b[0;34m]\u001b[0m \u001b[0;34m+\u001b[0m \u001b[0;34m\"\\..\\scripts\"\u001b[0m\u001b[0;34m)\u001b[0m\u001b[0;34m\u001b[0m\u001b[0;34m\u001b[0m\u001b[0m\n\u001b[1;32m      7\u001b[0m \u001b[0;32mimport\u001b[0m \u001b[0mimportlib\u001b[0m\u001b[0;34m\u001b[0m\u001b[0;34m\u001b[0m\u001b[0m\n\u001b[0;32m----> 8\u001b[0;31m \u001b[0;32mimport\u001b[0m \u001b[0mproject_functions\u001b[0m \u001b[0;32mas\u001b[0m \u001b[0mpf\u001b[0m\u001b[0;34m\u001b[0m\u001b[0;34m\u001b[0m\u001b[0m\n\u001b[0m\u001b[1;32m      9\u001b[0m \u001b[0mimportlib\u001b[0m\u001b[0;34m.\u001b[0m\u001b[0mreload\u001b[0m\u001b[0;34m(\u001b[0m\u001b[0mpf\u001b[0m\u001b[0;34m)\u001b[0m\u001b[0;34m\u001b[0m\u001b[0;34m\u001b[0m\u001b[0m\n",
      "\u001b[0;31mModuleNotFoundError\u001b[0m: No module named 'project_functions'"
     ]
    }
   ],
   "source": [
    "import matplotlib.pylab as plt\n",
    "import seaborn as sns\n",
    "import pandas as pd\n",
    "import numpy as np\n",
    "import sys\n",
    "sys.path.append(sys.path[0] + \"\\..\\scripts\")\n",
    "import importlib\n",
    "import project_functions as pf\n",
    "importlib.reload(pf)"
   ]
  },
  {
   "cell_type": "code",
   "execution_count": null,
   "id": "outdoor-excitement",
   "metadata": {},
   "outputs": [],
   "source": [
    "df = pf.load_and_process(\"../../Dataset.csv\")"
   ]
  },
  {
   "cell_type": "markdown",
   "id": "dedicated-cylinder",
   "metadata": {},
   "source": [
    "**So we've got our data. what now?**\n",
    "lets start by looking at some of the attributes of our dataset."
   ]
  },
  {
   "cell_type": "code",
   "execution_count": null,
   "id": "cooked-bradley",
   "metadata": {},
   "outputs": [],
   "source": [
    "print('shape: {}'.format(df.shape))\n",
    "print('Columns: {}'.format(df.columns))"
   ]
  },
  {
   "cell_type": "markdown",
   "id": "empirical-explanation",
   "metadata": {},
   "source": [
    "The `df.shape` function gives us the dimensions of our dataset. after using it we can see that there are 21,111 rows and 19 columns. \n",
    "\n",
    "the `df.columns` function gives us the names of all the columns included in the data set. \n",
    "\n",
    "Now lets look at what this dataset looks like: df.head will give us a look at the first five entries."
   ]
  },
  {
   "cell_type": "code",
   "execution_count": 4,
   "id": "ranging-visitor",
   "metadata": {},
   "outputs": [
    {
     "data": {
      "text/html": [
       "<div>\n",
       "<style scoped>\n",
       "    .dataframe tbody tr th:only-of-type {\n",
       "        vertical-align: middle;\n",
       "    }\n",
       "\n",
       "    .dataframe tbody tr th {\n",
       "        vertical-align: top;\n",
       "    }\n",
       "\n",
       "    .dataframe thead th {\n",
       "        text-align: right;\n",
       "    }\n",
       "</style>\n",
       "<table border=\"1\" class=\"dataframe\">\n",
       "  <thead>\n",
       "    <tr style=\"text-align: right;\">\n",
       "      <th></th>\n",
       "      <th>Year</th>\n",
       "      <th>State</th>\n",
       "      <th>Division</th>\n",
       "      <th>County</th>\n",
       "      <th>Region</th>\n",
       "      <th>Population_Description</th>\n",
       "      <th>Offense</th>\n",
       "      <th>Offender_Race</th>\n",
       "      <th>Offender_Ethnicity</th>\n",
       "      <th>Offender_Age</th>\n",
       "      <th>Offender_Sex</th>\n",
       "      <th>Victim_Type</th>\n",
       "      <th>Location</th>\n",
       "      <th>Weapon</th>\n",
       "      <th>Property_Type</th>\n",
       "      <th>Stolen_Value</th>\n",
       "      <th>Recovered_Value</th>\n",
       "      <th>Recovered?</th>\n",
       "      <th>Recovery_Date</th>\n",
       "    </tr>\n",
       "  </thead>\n",
       "  <tbody>\n",
       "    <tr>\n",
       "      <th>45880</th>\n",
       "      <td>2013</td>\n",
       "      <td>Virginia</td>\n",
       "      <td>South Atlantic</td>\n",
       "      <td>NEWPORT NEWS CITY</td>\n",
       "      <td>South</td>\n",
       "      <td>Cities from 100,000 thru 249,999</td>\n",
       "      <td>All Other Larceny</td>\n",
       "      <td>NaN</td>\n",
       "      <td>NaN</td>\n",
       "      <td>NaN</td>\n",
       "      <td>NaN</td>\n",
       "      <td>Individual</td>\n",
       "      <td>Parking/Drop Lot/Garage</td>\n",
       "      <td>NaN</td>\n",
       "      <td>Consumable Goods</td>\n",
       "      <td>3000.0</td>\n",
       "      <td>0.0</td>\n",
       "      <td>N</td>\n",
       "      <td>NaN</td>\n",
       "    </tr>\n",
       "    <tr>\n",
       "      <th>38924</th>\n",
       "      <td>2013</td>\n",
       "      <td>Tennessee</td>\n",
       "      <td>East South Central</td>\n",
       "      <td>SULLIVAN; CARTER; WASHINGTON</td>\n",
       "      <td>South</td>\n",
       "      <td>Cities from 50,000 thru 99,999</td>\n",
       "      <td>Theft From Motor Vehicle</td>\n",
       "      <td>NaN</td>\n",
       "      <td>NaN</td>\n",
       "      <td>NaN</td>\n",
       "      <td>NaN</td>\n",
       "      <td>Business</td>\n",
       "      <td>Parking/Drop Lot/Garage</td>\n",
       "      <td>NaN</td>\n",
       "      <td>Money</td>\n",
       "      <td>2000.0</td>\n",
       "      <td>0.0</td>\n",
       "      <td>N</td>\n",
       "      <td>NaN</td>\n",
       "    </tr>\n",
       "    <tr>\n",
       "      <th>38736</th>\n",
       "      <td>2013</td>\n",
       "      <td>Florida</td>\n",
       "      <td>South Atlantic</td>\n",
       "      <td>MIAMI-DADE</td>\n",
       "      <td>South</td>\n",
       "      <td>Cities from 25,000 thru 49,999</td>\n",
       "      <td>Theft From Motor Vehicle</td>\n",
       "      <td>NaN</td>\n",
       "      <td>NaN</td>\n",
       "      <td>NaN</td>\n",
       "      <td>NaN</td>\n",
       "      <td>Business</td>\n",
       "      <td>Commercial/Office Building</td>\n",
       "      <td>NaN</td>\n",
       "      <td>Radio/ TV/ VCR</td>\n",
       "      <td>6576.0</td>\n",
       "      <td>0.0</td>\n",
       "      <td>N</td>\n",
       "      <td>NaN</td>\n",
       "    </tr>\n",
       "    <tr>\n",
       "      <th>38214</th>\n",
       "      <td>2013</td>\n",
       "      <td>Tennessee</td>\n",
       "      <td>East South Central</td>\n",
       "      <td>SHELBY</td>\n",
       "      <td>South</td>\n",
       "      <td>Cities from 500,000 thru 999,999</td>\n",
       "      <td>Theft From Motor Vehicle</td>\n",
       "      <td>NaN</td>\n",
       "      <td>NaN</td>\n",
       "      <td>NaN</td>\n",
       "      <td>NaN</td>\n",
       "      <td>Business</td>\n",
       "      <td>Commercial/Office Building</td>\n",
       "      <td>NaN</td>\n",
       "      <td>Radio/ TV/ VCR</td>\n",
       "      <td>1200.0</td>\n",
       "      <td>0.0</td>\n",
       "      <td>N</td>\n",
       "      <td>NaN</td>\n",
       "    </tr>\n",
       "    <tr>\n",
       "      <th>38213</th>\n",
       "      <td>2013</td>\n",
       "      <td>Tennessee</td>\n",
       "      <td>East South Central</td>\n",
       "      <td>SHELBY</td>\n",
       "      <td>South</td>\n",
       "      <td>Cities from 500,000 thru 999,999</td>\n",
       "      <td>Theft From Motor Vehicle</td>\n",
       "      <td>NaN</td>\n",
       "      <td>NaN</td>\n",
       "      <td>NaN</td>\n",
       "      <td>NaN</td>\n",
       "      <td>Business</td>\n",
       "      <td>Other/Unknown</td>\n",
       "      <td>NaN</td>\n",
       "      <td>Radio/ TV/ VCR</td>\n",
       "      <td>4000.0</td>\n",
       "      <td>0.0</td>\n",
       "      <td>N</td>\n",
       "      <td>NaN</td>\n",
       "    </tr>\n",
       "  </tbody>\n",
       "</table>\n",
       "</div>"
      ],
      "text/plain": [
       "       Year      State            Division                        County  \\\n",
       "45880  2013   Virginia      South Atlantic             NEWPORT NEWS CITY   \n",
       "38924  2013  Tennessee  East South Central  SULLIVAN; CARTER; WASHINGTON   \n",
       "38736  2013    Florida      South Atlantic                    MIAMI-DADE   \n",
       "38214  2013  Tennessee  East South Central                        SHELBY   \n",
       "38213  2013  Tennessee  East South Central                        SHELBY   \n",
       "\n",
       "      Region            Population_Description                   Offense  \\\n",
       "45880  South  Cities from 100,000 thru 249,999         All Other Larceny   \n",
       "38924  South    Cities from 50,000 thru 99,999  Theft From Motor Vehicle   \n",
       "38736  South    Cities from 25,000 thru 49,999  Theft From Motor Vehicle   \n",
       "38214  South  Cities from 500,000 thru 999,999  Theft From Motor Vehicle   \n",
       "38213  South  Cities from 500,000 thru 999,999  Theft From Motor Vehicle   \n",
       "\n",
       "      Offender_Race Offender_Ethnicity  Offender_Age Offender_Sex Victim_Type  \\\n",
       "45880           NaN                NaN           NaN          NaN  Individual   \n",
       "38924           NaN                NaN           NaN          NaN    Business   \n",
       "38736           NaN                NaN           NaN          NaN    Business   \n",
       "38214           NaN                NaN           NaN          NaN    Business   \n",
       "38213           NaN                NaN           NaN          NaN    Business   \n",
       "\n",
       "                         Location Weapon     Property_Type  Stolen_Value  \\\n",
       "45880     Parking/Drop Lot/Garage    NaN  Consumable Goods        3000.0   \n",
       "38924     Parking/Drop Lot/Garage    NaN             Money        2000.0   \n",
       "38736  Commercial/Office Building    NaN    Radio/ TV/ VCR        6576.0   \n",
       "38214  Commercial/Office Building    NaN    Radio/ TV/ VCR        1200.0   \n",
       "38213               Other/Unknown    NaN    Radio/ TV/ VCR        4000.0   \n",
       "\n",
       "       Recovered_Value Recovered? Recovery_Date  \n",
       "45880              0.0          N           NaN  \n",
       "38924              0.0          N           NaN  \n",
       "38736              0.0          N           NaN  \n",
       "38214              0.0          N           NaN  \n",
       "38213              0.0          N           NaN  "
      ]
     },
     "execution_count": 4,
     "metadata": {},
     "output_type": "execute_result"
    }
   ],
   "source": [
    "df.head()"
   ]
  },
  {
   "cell_type": "markdown",
   "id": "experimental-electronics",
   "metadata": {},
   "source": [
    "# Next we want to gain an understanding of some of the different variables in the dataset\n",
    "\n",
    "`df.nunique` will return the count of unique values associated with each collumn, already from this we can determine a number of things about our data set"
   ]
  },
  {
   "cell_type": "code",
   "execution_count": 5,
   "id": "better-infrared",
   "metadata": {},
   "outputs": [
    {
     "data": {
      "text/plain": [
       "Year                         7\n",
       "State                       40\n",
       "Division                     9\n",
       "County                     674\n",
       "Region                       4\n",
       "Population_Description      17\n",
       "Offense                     33\n",
       "Offender_Race                6\n",
       "Offender_Ethnicity           3\n",
       "Offender_Age                73\n",
       "Offender_Sex                 3\n",
       "Victim_Type                  9\n",
       "Location                    44\n",
       "Weapon                      12\n",
       "Property_Type               62\n",
       "Stolen_Value              2718\n",
       "Recovered_Value            459\n",
       "Recovered?                   2\n",
       "Recovery_Date             1236\n",
       "dtype: int64"
      ]
     },
     "execution_count": 5,
     "metadata": {},
     "output_type": "execute_result"
    }
   ],
   "source": [
    "df.nunique(axis=0)"
   ]
  },
  {
   "cell_type": "markdown",
   "id": "referenced-employer",
   "metadata": {},
   "source": [
    "**from this we can gather:**\n",
    "* we have data entries from 7 unique years \n",
    "* 40 different states\n",
    "* there were over 33 different offenses listed \n",
    "* and over 12 different options for type of weapon used\n",
    "\n",
    "We can come back to this later when trying to answer our reasearch questions. it will be useful.\n",
    "\n",
    "Next lets use `.describe()` to look at the count, mean, standard deviation, min, and max for the numeric variables in our data set."
   ]
  },
  {
   "cell_type": "code",
   "execution_count": 6,
   "id": "sweet-pierce",
   "metadata": {},
   "outputs": [
    {
     "data": {
      "text/html": [
       "<div>\n",
       "<style scoped>\n",
       "    .dataframe tbody tr th:only-of-type {\n",
       "        vertical-align: middle;\n",
       "    }\n",
       "\n",
       "    .dataframe tbody tr th {\n",
       "        vertical-align: top;\n",
       "    }\n",
       "\n",
       "    .dataframe thead th {\n",
       "        text-align: right;\n",
       "    }\n",
       "</style>\n",
       "<table border=\"1\" class=\"dataframe\">\n",
       "  <thead>\n",
       "    <tr style=\"text-align: right;\">\n",
       "      <th></th>\n",
       "      <th>Year</th>\n",
       "      <th>Offender_Age</th>\n",
       "      <th>Stolen_Value</th>\n",
       "      <th>Recovered_Value</th>\n",
       "    </tr>\n",
       "  </thead>\n",
       "  <tbody>\n",
       "    <tr>\n",
       "      <th>count</th>\n",
       "      <td>21111.000000</td>\n",
       "      <td>8452.000000</td>\n",
       "      <td>21111.000000</td>\n",
       "      <td>20306.000000</td>\n",
       "    </tr>\n",
       "    <tr>\n",
       "      <th>mean</th>\n",
       "      <td>2016.777557</td>\n",
       "      <td>32.555253</td>\n",
       "      <td>39663.855194</td>\n",
       "      <td>6778.403280</td>\n",
       "    </tr>\n",
       "    <tr>\n",
       "      <th>std</th>\n",
       "      <td>1.966963</td>\n",
       "      <td>12.761723</td>\n",
       "      <td>1911800.265981</td>\n",
       "      <td>37755.926278</td>\n",
       "    </tr>\n",
       "    <tr>\n",
       "      <th>min</th>\n",
       "      <td>2013.000000</td>\n",
       "      <td>0.000000</td>\n",
       "      <td>1001.000000</td>\n",
       "      <td>0.000000</td>\n",
       "    </tr>\n",
       "    <tr>\n",
       "      <th>25%</th>\n",
       "      <td>2015.000000</td>\n",
       "      <td>23.000000</td>\n",
       "      <td>2000.000000</td>\n",
       "      <td>0.000000</td>\n",
       "    </tr>\n",
       "    <tr>\n",
       "      <th>50%</th>\n",
       "      <td>2017.000000</td>\n",
       "      <td>31.000000</td>\n",
       "      <td>4558.000000</td>\n",
       "      <td>0.000000</td>\n",
       "    </tr>\n",
       "    <tr>\n",
       "      <th>75%</th>\n",
       "      <td>2019.000000</td>\n",
       "      <td>41.000000</td>\n",
       "      <td>15000.000000</td>\n",
       "      <td>1.000000</td>\n",
       "    </tr>\n",
       "    <tr>\n",
       "      <th>max</th>\n",
       "      <td>2019.000000</td>\n",
       "      <td>99.000000</td>\n",
       "      <td>250000000.000000</td>\n",
       "      <td>1100000.000000</td>\n",
       "    </tr>\n",
       "  </tbody>\n",
       "</table>\n",
       "</div>"
      ],
      "text/plain": [
       "               Year Offender_Age      Stolen_Value Recovered_Value\n",
       "count  21111.000000  8452.000000      21111.000000    20306.000000\n",
       "mean    2016.777557    32.555253      39663.855194     6778.403280\n",
       "std        1.966963    12.761723    1911800.265981    37755.926278\n",
       "min     2013.000000     0.000000       1001.000000        0.000000\n",
       "25%     2015.000000    23.000000       2000.000000        0.000000\n",
       "50%     2017.000000    31.000000       4558.000000        0.000000\n",
       "75%     2019.000000    41.000000      15000.000000        1.000000\n",
       "max     2019.000000    99.000000  250000000.000000  1100000.000000"
      ]
     },
     "execution_count": 6,
     "metadata": {},
     "output_type": "execute_result"
    }
   ],
   "source": [
    "df.describe().apply(lambda s: s.apply(lambda x: format(x, 'f')))"
   ]
  },
  {
   "cell_type": "markdown",
   "id": "enclosed-roots",
   "metadata": {},
   "source": [
    "Awesome! by using `df.describe` we gathered that the average value stolen was 39,663.86, the most stolen was 250,000,000 dollars. sheesh thats a lot. we also learned other things, like the average age of the offenders in our database\n",
    "\n",
    "**now im going to look at some of the unique entries we talked about earlier, lets look at the crimes in particular!**"
   ]
  },
  {
   "cell_type": "code",
   "execution_count": 7,
   "id": "helpful-final",
   "metadata": {},
   "outputs": [
    {
     "data": {
      "text/plain": [
       "array(['All Other Larceny', 'Theft From Motor Vehicle', 'Robbery',\n",
       "       'Theft of Motor Vehicle Parts or Accessories', 'Rape',\n",
       "       'Burglary/Breaking & Entering', 'Motor Vehicle Theft',\n",
       "       'Destruction/Damage/Vandalism of Property',\n",
       "       'Drug/Narcotic Violations', 'Theft From Building',\n",
       "       'Credit Card/Automated Teller Machine Fraud',\n",
       "       'False Pretenses/Swindle/Confidence Game', 'Weapon Law Violations',\n",
       "       'Kidnapping/Abduction', 'Embezzlement', 'Impersonation',\n",
       "       'Simple Assault', 'Stolen Property Offenses', 'Shoplifting',\n",
       "       'Murder and Nonnegligent Manslaughter', 'Intimidation',\n",
       "       'Counterfeiting/Forgery', 'Wire Fraud',\n",
       "       'Drug Equipment Violations', 'Extortion/Blackmail', 'Arson',\n",
       "       'Identity Theft', 'Aggravated Assault',\n",
       "       'Sexual Assault With An Object', 'Pocket-picking',\n",
       "       'Purse-snatching', 'Pornography/Obscene Material',\n",
       "       'Human Trafficking, Involuntary Servitude'], dtype=object)"
      ]
     },
     "execution_count": 7,
     "metadata": {},
     "output_type": "execute_result"
    }
   ],
   "source": [
    "df.Offense.unique()"
   ]
  },
  {
   "cell_type": "markdown",
   "id": "annoying-february",
   "metadata": {},
   "source": [
    "we can use this function to look at all of our columns unique entries, lets look at weapons next. "
   ]
  },
  {
   "cell_type": "code",
   "execution_count": 8,
   "id": "disciplinary-romania",
   "metadata": {},
   "outputs": [
    {
     "data": {
      "text/plain": [
       "array([nan, 'Unknown', 'None', 'Handgun', 'Handgun (Automatic)',\n",
       "       'Firearm (Automatic)', 'Firearm', 'Personal Weapons', 'Rifle',\n",
       "       'Knife/Cutting Instrument', 'Blunt Object', 'Other',\n",
       "       'Motor Vehicle/Vessel'], dtype=object)"
      ]
     },
     "execution_count": 8,
     "metadata": {},
     "output_type": "execute_result"
    }
   ],
   "source": [
    "df.Weapon.unique()"
   ]
  },
  {
   "cell_type": "markdown",
   "id": "hydraulic-grenada",
   "metadata": {},
   "source": [
    "lets do this some more"
   ]
  },
  {
   "cell_type": "code",
   "execution_count": 9,
   "id": "british-pillow",
   "metadata": {},
   "outputs": [
    {
     "name": "stdout",
     "output_type": "stream",
     "text": [
      "['Virginia' 'Tennessee' 'Florida' 'Michigan' 'South Carolina'\n",
      " 'North Dakota' 'West Virginia' 'Massachusetts' 'Arkansas' 'Delaware'\n",
      " 'Mississippi' 'Texas' 'Colorado' 'Indiana' 'Oklahoma' 'New Hampshire'\n",
      " 'Montana' 'South Dakota' 'Vermont' 'Maine' 'Ohio' 'Rhode Island' 'Nevada'\n",
      " 'Georgia' 'Maryland' 'Oregon' 'Alaska' 'Kentucky' 'New Mexico'\n",
      " 'Minnesota' 'Utah' 'Arizona' 'Washington' 'New Jersey' 'Alabama' 'Idaho'\n",
      " 'North Carolina' 'Missouri' 'Nebraska' 'Hawaii']\n",
      "['Cities from 100,000 thru 249,999' 'Cities from 50,000 thru 99,999'\n",
      " 'Cities from 25,000 thru 49,999' 'Cities from 500,000 thru 999,999'\n",
      " 'Cities from 2,500 thru 9,999' 'Non-MSA counties from 25,000 thru 99,999'\n",
      " 'Cities from 10,000 thru 24,999' 'Cities under 2,500'\n",
      " 'MSA counties under 10,000' 'Non-MSA counties under 10,000'\n",
      " 'MSA counties 100,000 or over' 'MSA counties from 25,000 thru 99,999'\n",
      " 'Non-MSA counties from 10,000 thru 24,999'\n",
      " 'MSA counties from 10,000 thru 24,999' 'Cities from 250,000 thru 499,999'\n",
      " 'Cities 1,000,000 or over' 'Non-MSA State Police']\n"
     ]
    }
   ],
   "source": [
    "print(df.State.unique())\n",
    "\n",
    "print(df.Population_Description.unique())\n"
   ]
  },
  {
   "cell_type": "markdown",
   "id": "automatic-fitting",
   "metadata": {},
   "source": [
    "Next i am going to create some visuals to help us understand our data . \n",
    "\n",
    "the first plot i am going to create is a scatter plot. This will help us visualize where data points fall relative to each other. "
   ]
  },
  {
   "cell_type": "code",
   "execution_count": 11,
   "id": "double-enforcement",
   "metadata": {},
   "outputs": [
    {
     "data": {
      "text/plain": [
       "<AxesSubplot:xlabel='Year', ylabel='Stolen_Value'>"
      ]
     },
     "execution_count": 11,
     "metadata": {},
     "output_type": "execute_result"
    },
    {
     "data": {
      "image/png": "[encoded data removed]",
      "text/plain": [
       "<Figure size 432x288 with 1 Axes>"
      ]
     },
     "metadata": {
      "needs_background": "light"
     },
     "output_type": "display_data"
    }
   ],
   "source": [
    "df.plot(kind = 'scatter', x = 'Year', y = 'Stolen_Value' )"
   ]
  },
  {
   "cell_type": "markdown",
   "id": "champion-research",
   "metadata": {},
   "source": [
    "after looking at the plot we can determine 2 things:\n",
    "1. the vast majority of our data is clustered together. \n",
    "2. there are some outliers amongst the data.\n",
    "\n",
    "lets get rid of those outliers so we have a more useful plot"
   ]
  },
  {
   "cell_type": "code",
   "execution_count": 12,
   "id": "neutral-radiation",
   "metadata": {},
   "outputs": [
    {
     "data": {
      "text/plain": [
       "<AxesSubplot:xlabel='Year', ylabel='Stolen_Value'>"
      ]
     },
     "execution_count": 12,
     "metadata": {},
     "output_type": "execute_result"
    },
    {
     "data": {
      "image/png": "[encoded data removed]",
      "text/plain": [
       "<Figure size 432x288 with 1 Axes>"
      ]
     },
     "metadata": {
      "needs_background": "light"
     },
     "output_type": "display_data"
    }
   ],
   "source": [
    "df2= df[df['Stolen_Value']<1000000]\n",
    "df2.plot(kind = 'scatter', x = 'Year', y = 'Stolen_Value' )"
   ]
  },
  {
   "cell_type": "markdown",
   "id": "attached-vietnam",
   "metadata": {},
   "source": [
    "now that we have set parameters on our data, speicifically capping the stolen value at 1,000,000 we can see the distribution across the 7 years much more clearly."
   ]
  },
  {
   "cell_type": "markdown",
   "id": "curious-force",
   "metadata": {},
   "source": [
    "now we can look at where the most crime is occuring: here is a bar graph of crime by region:"
   ]
  },
  {
   "cell_type": "code",
   "execution_count": 13,
   "id": "synthetic-blade",
   "metadata": {},
   "outputs": [
    {
     "data": {
      "text/plain": [
       "<AxesSubplot:xlabel='Region', ylabel='count'>"
      ]
     },
     "execution_count": 13,
     "metadata": {},
     "output_type": "execute_result"
    },
    {
     "data": {
      "image/png": "[encoded data removed]",
      "text/plain": [
       "<Figure size 432x288 with 1 Axes>"
      ]
     },
     "metadata": {
      "needs_background": "light"
     },
     "output_type": "display_data"
    }
   ],
   "source": [
    "sns.countplot( data = df, x ='Region' )"
   ]
  },
  {
   "cell_type": "markdown",
   "id": "three-belfast",
   "metadata": {},
   "source": [
    "from this graph we can determine the vast majority of crime is occuring in the south region of the united states. "
   ]
  }
 ],
 "metadata": {
  "kernelspec": {
   "display_name": "Python 3",
   "language": "python",
   "name": "python3"
  },
  "language_info": {
   "codemirror_mode": {
    "name": "ipython",
    "version": 3
   },
   "file_extension": ".py",
   "mimetype": "text/x-python",
   "name": "python",
   "nbconvert_exporter": "python",
   "pygments_lexer": "ipython3",
   "version": "3.8.5"
  }
 },
 "nbformat": 4,
 "nbformat_minor": 5
}
