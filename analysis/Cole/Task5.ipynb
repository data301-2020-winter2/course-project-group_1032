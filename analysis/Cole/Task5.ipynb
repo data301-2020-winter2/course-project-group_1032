{
 "cells": [
  {
   "cell_type": "markdown",
   "id": "synthetic-moral",
   "metadata": {},
   "source": [
    "*What is the average difference in value between value of goods stolen and recovered or what is the percentage of value recovered?*"
   ]
  },
  {
   "cell_type": "code",
   "execution_count": 1,
   "id": "unlimited-korea",
   "metadata": {},
   "outputs": [
    {
     "data": {
      "text/plain": [
       "<module 'project_functions' from 'C:\\\\Users\\\\Clarke\\\\Documents\\\\School Docs\\\\Third Year Homework\\\\DATA 301\\\\Data301-Project\\\\analysis\\\\Cole\\\\..\\\\scripts\\\\project_functions.py'>"
      ]
     },
     "execution_count": 1,
     "metadata": {},
     "output_type": "execute_result"
    }
   ],
   "source": [
    "import sys\n",
    "sys.path.append(sys.path[0] + \"\\\\..\\\\scripts\")\n",
    "import importlib\n",
    "import pandas as pd\n",
    "import numpy as np\n",
    "import matplotlib.pyplot as plt\n",
    "import seaborn as sns\n",
    "import project_functions as pf\n",
    "importlib.reload(pf)"
   ]
  },
  {
   "cell_type": "code",
   "execution_count": 6,
   "id": "cognitive-infrared",
   "metadata": {},
   "outputs": [],
   "source": [
    "sns.set_theme(style=\"ticks\",font_scale=1.2)\n",
    "df = pf.load_and_process(\"../../Dataset.csv\")\n",
    "df['Recovery_Percentage'] = df['Recovered_Value'] / df['Stolen_Value'] * 100\n",
    "\n",
    "southDf = df.loc[df['Region'] == 'South']\n",
    "northeastDf = df.loc[df['Region'] == 'Northeast']\n",
    "midwestDf = df.loc[df['Region'] == 'Midwest']\n",
    "westDf = df.loc[df['Region'] == 'West']"
   ]
  },
  {
   "cell_type": "code",
   "execution_count": 7,
   "id": "proper-comedy",
   "metadata": {},
   "outputs": [],
   "source": [
    "dfRecovered = df.loc[df['Recovered?'] == 'Y']\n",
    "dfRecovered = dfRecovered.reset_index().drop(columns=['index'])\n",
    "\n",
    "southDfRecovered = dfRecovered.loc[dfRecovered['Region'] == 'South']\n",
    "northeastDfRecovered = dfRecovered.loc[dfRecovered['Region'] == 'Northeast']\n",
    "midwestDfRecovered = dfRecovered.loc[dfRecovered['Region'] == 'Midwest']\n",
    "westDfRecovered = dfRecovered.loc[dfRecovered['Region'] == 'West']"
   ]
  },
  {
   "cell_type": "code",
   "execution_count": 8,
   "id": "secure-suicide",
   "metadata": {},
   "outputs": [
    {
     "name": "stdout",
     "output_type": "stream",
     "text": [
      "Recovery% South: 27.23%\n",
      "Recovery% Northeast: 13.29%\n",
      "Recovery% Midwest: 21.16%\n",
      "Recovery% West: 29.54%\n",
      "We can see that the South and West regions are much better at recovering stolen goods, and the Northeast region has a very low recovery rate.\n"
     ]
    },
    {
     "data": {
      "image/png": "[encoded data removed]",
      "text/plain": [
       "<Figure size 432x288 with 1 Axes>"
      ]
     },
     "metadata": {},
     "output_type": "display_data"
    }
   ],
   "source": [
    "plot = sns.countplot(y=\"Region\", data=df, hue=\"Recovered?\", order=df['Region'].value_counts().index[:], hue_order=[\"Y\", \"N\"], palette='bright')\n",
    "\n",
    "southRecoverRate = southDf['Recovered?'].value_counts()\n",
    "southRecoverRate = southRecoverRate['Y'] / (southDf['Recovered?'].count())\n",
    "\n",
    "southRecoverRate = southDf['Recovered?'].value_counts()['Y'] / southDf['Recovered?'].count() * 100\n",
    "northeastRecoverRate = northeastDf['Recovered?'].value_counts()['Y'] / northeastDf['Recovered?'].count() * 100\n",
    "midwestRecoverRate = midwestDf['Recovered?'].value_counts()['Y'] / midwestDf['Recovered?'].count() * 100\n",
    "westRecoverRate = westDf['Recovered?'].value_counts()['Y'] / westDf['Recovered?'].count() * 100\n",
    "\n",
    "print(\"Recovery% South: \" + str(round(southRecoverRate, 2)) + \"%\")\n",
    "print(\"Recovery% Northeast: \" + str(round(northeastRecoverRate, 2)) + \"%\")\n",
    "print(\"Recovery% Midwest: \" + str(round(midwestRecoverRate, 2)) + \"%\")\n",
    "print(\"Recovery% West: \" + str(round(westRecoverRate, 2)) + \"%\")\n",
    "print(\"We can see that the South and West regions are much better at recovering stolen goods, and the Northeast region has a very low recovery rate.\")"
   ]
  },
  {
   "cell_type": "code",
   "execution_count": 5,
   "id": "proprietary-vanilla",
   "metadata": {},
   "outputs": [
    {
     "name": "stdout",
     "output_type": "stream",
     "text": [
      "On items that are recovered, the average value of the recovered stuff is 82.99% of the value of the stolen goods.\n"
     ]
    }
   ],
   "source": [
    "valueStolen = dfRecovered['Stolen_Value'].sum()\n",
    "valueRecovered = dfRecovered['Recovered_Value'].sum()\n",
    "recoveryRate = valueRecovered / valueStolen * 100\n",
    "\n",
    "print(\"On items that are recovered, the average value of the recovered stuff is \" + str(round(recoveryRate, 2)) + \"% of the value of the stolen goods.\")"
   ]
  },
  {
   "cell_type": "code",
   "execution_count": 85,
   "id": "centered-child",
   "metadata": {},
   "outputs": [
    {
     "name": "stdout",
     "output_type": "stream",
     "text": [
      "On recovered items in the South region, the average value of the recovered stuff is 81.88% of the value of the stolen goods.\n",
      "On recovered items in the Northeast region, the average value of the recovered stuff is 82.71% of the value of the stolen goods.\n",
      "On recovered items in the Midwest region, the average value of the recovered stuff is 94.13% of the value of the stolen goods.\n",
      "On recovered items in the West region, the average value of the recovered stuff is 92.04% of the value of the stolen goods.\n"
     ]
    }
   ],
   "source": [
    "valueStolenSouth = southDfRecovered['Stolen_Value'].sum()\n",
    "valueRecoveredSouth = southDfRecovered['Recovered_Value'].sum()\n",
    "recoveryRateSouth = valueRecoveredSouth / valueStolenSouth * 100\n",
    "\n",
    "valueStolenNortheast = northeastDfRecovered['Stolen_Value'].sum()\n",
    "valueRecoveredNortheast = northeastDfRecovered['Recovered_Value'].sum()\n",
    "recoveryRateNortheast = valueRecoveredNortheast / valueStolenNortheast * 100\n",
    "\n",
    "valueStolenMidwest = midwestDfRecovered['Stolen_Value'].sum()\n",
    "valueRecoveredMidwest = midwestDfRecovered['Recovered_Value'].sum()\n",
    "recoveryRateMidwest = valueRecoveredMidwest / valueStolenMidwest * 100\n",
    "\n",
    "valueStolenWest = westDfRecovered['Stolen_Value'].sum()\n",
    "valueRecoveredWest = westDfRecovered['Recovered_Value'].sum()\n",
    "recoveryRateWest = valueRecoveredWest / valueStolenWest * 100\n",
    "\n",
    "print(\"On recovered items in the South region, the average value of the recovered stuff is \" + str(round(recoveryRateSouth, 2)) + \"% of the value of the stolen goods.\")\n",
    "print(\"On recovered items in the Northeast region, the average value of the recovered stuff is \" + str(round(recoveryRateNortheast, 2)) + \"% of the value of the stolen goods.\")\n",
    "print(\"On recovered items in the Midwest region, the average value of the recovered stuff is \" + str(round(recoveryRateMidwest, 2)) + \"% of the value of the stolen goods.\")\n",
    "print(\"On recovered items in the West region, the average value of the recovered stuff is \" + str(round(recoveryRateWest, 2)) + \"% of the value of the stolen goods.\")"
   ]
  },
  {
   "cell_type": "code",
   "execution_count": null,
   "id": "parliamentary-disability",
   "metadata": {},
   "outputs": [],
   "source": []
  }
 ],
 "metadata": {
  "kernelspec": {
   "display_name": "Python 3",
   "language": "python",
   "name": "python3"
  },
  "language_info": {
   "codemirror_mode": {
    "name": "ipython",
    "version": 3
   },
   "file_extension": ".py",
   "mimetype": "text/x-python",
   "name": "python",
   "nbconvert_exporter": "python",
   "pygments_lexer": "ipython3",
   "version": "3.8.5"
  }
 },
 "nbformat": 4,
 "nbformat_minor": 5
}
