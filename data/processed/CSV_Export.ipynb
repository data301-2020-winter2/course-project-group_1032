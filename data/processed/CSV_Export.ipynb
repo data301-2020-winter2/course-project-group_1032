{
 "cells": [
  {
   "cell_type": "markdown",
   "id": "fixed-european",
   "metadata": {},
   "source": [
    "## File to export our data into a csv for easier use in Tableau\n",
    "\n",
    "Start by importing our data and altering it\n"
   ]
  },
  {
   "cell_type": "code",
   "execution_count": null,
   "id": "american-final",
   "metadata": {},
   "outputs": [],
   "source": [
    "import sys\n",
    "sys.path.append(sys.path[0] + \"\\\\..\\\\..\\\\analysis\\\\scripts\")\n",
    "import project_functions as pf\n",
    "df = pf.load_and_process(\"..\\..\\Dataset.csv\")\n",
    "df"
   ]
  },
  {
   "cell_type": "markdown",
   "id": "dense-seller",
   "metadata": {},
   "source": [
    "### Now exporting to csv file\n",
    "Lets use the to_csv method and include index=False to not have two different indices in our csv file"
   ]
  },
  {
   "cell_type": "code",
   "execution_count": null,
   "id": "lesbian-import",
   "metadata": {},
   "outputs": [],
   "source": [
    "df.to_csv('processed_data_test.csv',index=False)\n"
   ]
  },
  {
   "cell_type": "markdown",
   "id": "allied-reduction",
   "metadata": {},
   "source": [
    "Now our data has been processsed and saved as a csv file for use in Tableau for Milestones 3-4"
   ]
  }
 ],
 "metadata": {
  "kernelspec": {
   "display_name": "Python 3",
   "language": "python",
   "name": "python3"
  },
  "language_info": {
   "codemirror_mode": {
    "name": "ipython",
    "version": 3
   },
   "file_extension": ".py",
   "mimetype": "text/x-python",
   "name": "python",
   "nbconvert_exporter": "python",
   "pygments_lexer": "ipython3",
   "version": "3.9.2"
  }
 },
 "nbformat": 4,
 "nbformat_minor": 5
}
